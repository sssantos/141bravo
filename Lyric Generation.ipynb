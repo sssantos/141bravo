{
 "cells": [
  {
   "cell_type": "code",
   "execution_count": 48,
   "metadata": {
    "collapsed": false
   },
   "outputs": [],
   "source": [
    "# NOT USED IN OUR ANALYSIS!!! JUST FOR FUN\n",
    "# Source: https://lauris.github.io/text-generation-markov-chain\n",
    "#!/usr/bin/env python\n",
    "# -*- coding: utf-8 -*-\n",
    "\n",
    "import sys\n",
    "import random\n",
    "import string\n",
    "import re\n",
    "from collections import Counter\n",
    "\n",
    "\n",
    "def choice(words):\n",
    "    random.seed\n",
    "    index = random.randint(0, len(words) - 1)\n",
    "    return words[index]\n",
    "\n",
    "\n",
    "def test_sentence_substrings(sentence, text, n=6):\n",
    "    \n",
    "    words = string.split(sentence)\n",
    "\n",
    "    groups = [words[i:i+n] for i in range(0, len(words), n)]\n",
    "\n",
    "    for group in groups:\n",
    "        group = \" \".join(group)\n",
    "        if group in text:\n",
    "            return False\n",
    "\n",
    "    return True\n",
    "\n",
    "\n",
    "def run(text):\n",
    "\n",
    "    text = re.sub(r'\\([^)]*\\)', '', text)\n",
    "\n",
    "    words = string.split(text)\n",
    "\n",
    "    arr = []\n",
    "    end_sentence = []\n",
    "    dict = {}\n",
    "    prev1 = ''\n",
    "    prev2 = ''\n",
    "    for word in words:\n",
    "        if prev1 != '' and prev2 != '':\n",
    "            key = (prev2, prev1)\n",
    "            if dict.has_key(key):\n",
    "                dict[key].append(word)\n",
    "            else:\n",
    "                dict[key] = [word]\n",
    "                if re.match(\"[\\.\\?\\!]\", prev1[-1:]):\n",
    "                    end_sentence.append(key)\n",
    "        prev2 = prev1\n",
    "        prev1 = word\n",
    "\n",
    "    if end_sentence == []:\n",
    "        return\n",
    "\n",
    "    key = ()\n",
    "    count = 50\n",
    "    max_attempts = 50000\n",
    "    gtext = \"\"\n",
    "    sentence = []\n",
    "    attempts = 0\n",
    "    x = 0\n",
    "\n",
    "    while 1:   \n",
    "        if dict.has_key(key):\n",
    "            word = choice(dict[key])\n",
    "            sentence.append(word)\n",
    "            key = (key[1], word)\n",
    "            if key in end_sentence:\n",
    "                sentence_str = \" \".join(sentence) \n",
    "                attempts += 1\n",
    "                \n",
    "                # check if the beginning of sentence occurs in the text\n",
    "                if sentence_str[:15] not in gtext and sentence_str not in text and test_sentence_substrings(sentence_str, text):\n",
    "                    gtext += sentence_str + \" \"\n",
    "                    count = count - 1\n",
    "\n",
    "                sentence = []\n",
    "                key = choice(end_sentence)\n",
    "                if count <= 0 or attempts >= max_attempts:\n",
    "                    break\n",
    "        else:\n",
    "            key = choice(end_sentence)\n",
    "        x += 1\n",
    "            \n",
    "    return gtext"
   ]
  },
  {
   "cell_type": "code",
   "execution_count": 49,
   "metadata": {
    "collapsed": false
   },
   "outputs": [],
   "source": [
    "%%capture\n",
    "from NGRAMS import corpus_raw"
   ]
  },
  {
   "cell_type": "code",
   "execution_count": 51,
   "metadata": {
    "collapsed": false
   },
   "outputs": [
    {
     "name": "stdout",
     "output_type": "stream",
     "text": [
      "tell me dear are you should see my my my aye-aye whoa! but see i wanna get physical physical i wanna na na na-na-na-naa na-na-na-naa hey jude wo-o-ow! i know i'll say... i'll be watching you every thing i know the meaning? that's the way you are... but above all this and nothin' more all that you need. na na na na na-na-na-naa whoa yeah na-na-na-naa hey jude refrain don't carry the world on fire we can share the wine call me call me call me call me! dumb whoomp tag team: we? never gonna stop us now my love call me call me maybe? disappointment haunted all my heart he was my love call me maybe? yeah ok ush ush let's go! looks like we both know i'm crazy to think twice it's just you hey jude wo-o-ow! ooh i'll always love you. oh can you stand the heat? sink your teeth right through me rush rush na na rush rush hurry hurry lover come to the end of the fight rising up to nova scotia to see twenty-four? then i had to live when we learn to give you warnin'. ooh my little sis she really knows how to show it. hey i just want to cry. i'll be right by me just across the floor she hit the ground you can never say good-bye? ooh my my aye-aye whoa! i've never known honey you are and even if you're lonesome tonight i want to show it. s a party over there tossin? oh i love you so bad before you came into my life? how can i hold you tight baby all through the grapevine woo... just come back again? only you in my song? turnin it all being's believing pictures come alive when i compliment her she won't believe me and you. and i said i didn't know the door yoooo!! and that you seem to be your naked now get up get down put your hands up! people always told me he said girl you better be paid you know i'll think of when we learn to give you warnin'. that's the bottom of every bottle these five words in my song? baby you do you? s a party all night long yeah i know you're bouncin' right west coast i know where you're coming from call me! how can i say? do you make me sigh you make every single day every word you say me say can't you see?\" \"how can i say? and i will give you warnin'. how long can you help me? well i just met you and me been spending most our lives living in a flash it takes to make it hurt so good. you're so vain she was supposed to be playing with my hands up put your hands up!!!!! and i will die i want you laying in the sea. she give me more drag me across the floor ah freak out! feel the turning of the night sayin' prayers in the sea. oh yeah let's go! ok get your ass she gonna leave with half 18 years she got bette davis eyes she'll turn her music on you you need. lady for so many nights unbreak my heart if you can't tell me now how do i live? tag team: a little trip along with me and you. then you better whoa! i heat up i could kiss them all day long. m-m-m-my sharona m-m-m-my sharona come a little beans and we gonna make you feel like it should. if it's somethin' we can do. \n"
     ]
    }
   ],
   "source": [
    "print run(corpus_raw)"
   ]
  },
  {
   "cell_type": "code",
   "execution_count": null,
   "metadata": {
    "collapsed": true
   },
   "outputs": [],
   "source": []
  }
 ],
 "metadata": {
  "anaconda-cloud": {},
  "kernelspec": {
   "display_name": "Python [default]",
   "language": "python",
   "name": "python2"
  },
  "language_info": {
   "codemirror_mode": {
    "name": "ipython",
    "version": 2
   },
   "file_extension": ".py",
   "mimetype": "text/x-python",
   "name": "python",
   "nbconvert_exporter": "python",
   "pygments_lexer": "ipython2",
   "version": "2.7.12"
  }
 },
 "nbformat": 4,
 "nbformat_minor": 2
}
