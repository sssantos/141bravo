{
 "cells": [
  {
   "cell_type": "code",
   "execution_count": 1,
   "metadata": {
    "collapsed": true
   },
   "outputs": [],
   "source": [
    "# Source: https://lauris.github.io/text-generation-markov-chain\n",
    "#!/usr/bin/env python\n",
    "# -*- coding: utf-8 -*-\n",
    "\n",
    "import sys\n",
    "import random\n",
    "import string\n",
    "import re\n",
    "from collections import Counter\n",
    "\n",
    "\n",
    "def choice(words):\n",
    "    random.seed\n",
    "    index = random.randint(0, len(words) - 1)\n",
    "    return words[index]\n",
    "\n",
    "\n",
    "def test_sentence_substrings(sentence, text, n=6):\n",
    "    \n",
    "    words = string.split(sentence)\n",
    "\n",
    "    groups = [words[i:i+n] for i in range(0, len(words), n)]\n",
    "\n",
    "    for group in groups:\n",
    "        group = \" \".join(group)\n",
    "        if group in text:\n",
    "            return False\n",
    "\n",
    "    return True\n",
    "\n",
    "\n",
    "def run(text):\n",
    "\n",
    "    text = re.sub(r'\\([^)]*\\)', '', text)\n",
    "\n",
    "    words = string.split(text)\n",
    "\n",
    "    arr = []\n",
    "    end_sentence = []\n",
    "    dict = {}\n",
    "    prev1 = ''\n",
    "    prev2 = ''\n",
    "    for word in words:\n",
    "        if prev1 != '' and prev2 != '':\n",
    "            key = (prev2, prev1)\n",
    "            if dict.has_key(key):\n",
    "                dict[key].append(word)\n",
    "            else:\n",
    "                dict[key] = [word]\n",
    "                if re.match(\"[\\.\\?\\!]\", prev1[-1:]):\n",
    "                    end_sentence.append(key)\n",
    "        prev2 = prev1\n",
    "        prev1 = word\n",
    "\n",
    "    if end_sentence == []:\n",
    "        return\n",
    "\n",
    "    key = ()\n",
    "    count = 50\n",
    "    max_attempts = 50000\n",
    "    gtext = \"\"\n",
    "    sentence = []\n",
    "    attempts = 0\n",
    "\n",
    "    while 1:\n",
    "        if dict.has_key(key):\n",
    "            word = choice(dict[key])\n",
    "            sentence.append(word)\n",
    "            key = (key[1], word)\n",
    "            if key in end_sentence:\n",
    "                sentence_str = \" \".join(sentence) \n",
    "                attempts += 1\n",
    "                \n",
    "                # check if the beginning of sentence occurs in the text\n",
    "                if sentence_str[:15] not in gtext and sentence_str not in text and test_sentence_substrings(sentence_str, text):\n",
    "                    gtext += sentence_str + \" \"\n",
    "                    count = count - 1\n",
    "\n",
    "                sentence = []\n",
    "                key = choice(end_sentence)\n",
    "                if count <= 0 or attempts >= max_attempts:\n",
    "                    break\n",
    "        else:\n",
    "            key = choice(end_sentence)\n",
    "            \n",
    "    return gtext"
   ]
  },
  {
   "cell_type": "code",
   "execution_count": 4,
   "metadata": {
    "collapsed": false
   },
   "outputs": [],
   "source": [
    "# from NGRAMS import corpus_raw"
   ]
  },
  {
   "cell_type": "code",
   "execution_count": 6,
   "metadata": {
    "collapsed": false
   },
   "outputs": [
    {
     "name": "stdout",
     "output_type": "stream",
     "text": [
      "why do you miss me tonight? yeah ok ush ush let's go! i want to steer but i'm already here and now i'm so 3008 you so bad before you came into my life? we both see it baby? ooh my my aye-aye whoa! s a party over there tossin? party rock is in the morning probably hating myself and i'll show you all those young boy said put away those young boy days. oh lord why don't we ebony ivory living in the deep you had my heart reaching a fever pitch and it's an ache i still remember you can always count on me and not some puppet on a mountain i wanna get down i gotta change the station so i ha ha ha ha now come on and sing my song all night there's no love in a rock n' roll so come and dance with me ow! i wanna see yaa! ya thats me mickey the mouse supreme mc-ing the birthday treat tag team: get busy get busy whoomp there he was with me ow! i can't let you know we belong to me the boy is mine without a sense of feeling and this is how you like you to come into my eyes and she'll tease you she'll unease you just won't come back again? and i know you kiss me baby let the music let? i want to show it. how can i say? she give me more drag me across the floor ah freak out! the way of what i'm saying is i'm into you here's my number so call me call me! out of control i never showed you assumed you'd always be around because i love you let her into your heart filled with pain? oh can you stand the heat? i will always listen as i am the one i dream of you're still the one i'm with to start a new beginning. baby you would hardly recognize me i'm so 3008 you so bad i missed you so bad before you came into my life? but see i wanna see ya get free with me singin' i love you i just break down and cry pain in my mind. s sinking tag team: we? m-m-macarena m-m-macarena m-m-macarena m-m-macarena ay! s it just think about it it's just like the shadow of death i take you home with me ow! it's something that you can cheat him you can remember... i wanna lay like this yeah twist on now thats 3 grand what you mean the world on fire we can steal it. i'm talkin' 'bout c'mon baby do you plan to let her under your skin then you softly leave and it's bring me joy? why do i live? only you can never say good-bye? under the moon and the money money and the certainty. dumb whoomp tag team: come on in and when you walked out the door yoooo!! are you should let me hear your body talk let me talk to me come inside tonights the night shadow dancing baby you should see my my my aye-aye whoa! let the sunshine in let the sunshine let the fire get higher... you know how do i live? then you can tell you \"no\" but my body like a blind man i'm dealing rubberbands thats when i say to me will you? said can i say? if it's somethin' we can burn brighter than the sun well i hear the music let? and i'm gonna take this love right from the old school he? how do you belong? turnin it all tears are gonna fall rolling in the sea. oh i love rock n' roll so come an' take your passion and make it hurt so good. that we're surrounded by the record machine i knew she was all up in my mind. i don't mind and yes oh yes i'll always love you. we know how do i live? tell me it's still so hard to take what a joy just come to the mornin'. these women all on the light in my ear in my song? and i need to show it. how long can you help me? and that i'll always love you. just tryin' to give it up had about enough it's not worth dying for you dear? \n"
     ]
    }
   ],
   "source": [
    "print run(corpus_raw)"
   ]
  },
  {
   "cell_type": "code",
   "execution_count": null,
   "metadata": {
    "collapsed": true
   },
   "outputs": [],
   "source": []
  }
 ],
 "metadata": {
  "kernelspec": {
   "display_name": "Python [default]",
   "language": "python",
   "name": "python2"
  },
  "language_info": {
   "codemirror_mode": {
    "name": "ipython",
    "version": 2
   },
   "file_extension": ".py",
   "mimetype": "text/x-python",
   "name": "python",
   "nbconvert_exporter": "python",
   "pygments_lexer": "ipython2",
   "version": "2.7.12"
  }
 },
 "nbformat": 4,
 "nbformat_minor": 2
}
