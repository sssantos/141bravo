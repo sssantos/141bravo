{
 "cells": [
  {
   "cell_type": "code",
   "execution_count": 1,
   "metadata": {
    "collapsed": true
   },
   "outputs": [],
   "source": [
    "# Cash me outside how bow dah\n",
    "import requests\n",
    "import requests_cache\n",
    "requests_cache.install_cache(\"cache\")"
   ]
  },
  {
   "cell_type": "code",
   "execution_count": 2,
   "metadata": {
    "collapsed": true
   },
   "outputs": [],
   "source": [
    "# Extract song info from html\n",
    "from bs4 import BeautifulSoup\n",
    "billboard_url = \"http://www.billboard.com/articles/list/2155531/the-hot-100-all-time-top-songs\"\n",
    "soup = BeautifulSoup((requests.get(billboard_url)).text, \"html.parser\")\n",
    "songs = [song.text for song in soup.find_all(\"h3\", {\"class\": \"list-data__title\"})]"
   ]
  },
  {
   "cell_type": "code",
   "execution_count": 3,
   "metadata": {
    "collapsed": true
   },
   "outputs": [],
   "source": [
    "# Extra title, artist, and year info\n",
    "import re\n",
    "# We consider only the first year for a song if more than one: the 100th song's case\n",
    "titles  = [str(re.sub(r\"\\xe2\\x80\\xa6\", r\"...\", re.sub(\"\\\"\", \"\", re.match(r\"\\\"[\\\"\\']?.+\\\"[\\\"\\']?\", song).group(0)))) for song in songs]\n",
    "artists = [str(re.sub(\"^\\\"|\\r|(- )|(.*\\\".*\\\" )\",\"\", re.search(\"\\\" .*\\r\", song).group(0)).lstrip()) for song in songs]\n",
    "years   = [int(re.sub(\"\\)|\\(|,\", \"\", re.search(\"(\\(\\d{4}\\))|(\\(\\d{4},)\", song).group(0))) for song in songs]"
   ]
  },
  {
   "cell_type": "code",
   "execution_count": 4,
   "metadata": {
    "collapsed": true
   },
   "outputs": [],
   "source": [
    "import pandas as pd \n",
    "top100songs = pd.DataFrame({'Title': titles, 'Artist': artists, 'Year': years})"
   ]
  },
  {
   "cell_type": "code",
   "execution_count": 5,
   "metadata": {
    "collapsed": false
   },
   "outputs": [
    {
     "data": {
      "text/plain": [
       "Artist                                           Elton John\n",
       "Title     Candle in the Wind 1997 / Something About the ...\n",
       "Year                                                   1997\n",
       "Name: 53, dtype: object"
      ]
     },
     "execution_count": 5,
     "metadata": {},
     "output_type": "execute_result"
    }
   ],
   "source": [
    "top100songs.loc[53]"
   ]
  },
  {
   "cell_type": "code",
   "execution_count": 6,
   "metadata": {
    "collapsed": true
   },
   "outputs": [],
   "source": [
    "import string\n",
    "\n",
    "def processString(s, type):\n",
    "    s = re.sub(\"['?:!.,;&/]+\", \" \", s).lower().strip()\n",
    "    if(type != \"Artist\"):\n",
    "        s = re.sub(\"-\", \"\",s)\n",
    "    s = re.sub(\"\\s+\", \"-\", s)\n",
    "    return(s)\n",
    "\n",
    "def getLyrics(song, newUrl = ''):\n",
    "    artist = song['Artist']\n",
    "    title = song['Title']\n",
    "    #Remove punctuation and change to lower case.\n",
    "    artist = processString(artist, \"Artist\")\n",
    "    title = processString(title,\" Title\")\n",
    "    lyric_url = \"http://www.songlyrics.com/\"+artist+\"/\"+title+\"-lyrics/\"\n",
    "    if newUrl != '':\n",
    "        lyric_url = newUrl\n",
    "#    print(lyric_url)\n",
    "    soup = BeautifulSoup((requests.get(lyric_url)).text, \"html.parser\")\n",
    "    tmp = soup.find_all('p', {\"id\": \"songLyricsDiv\"})\n",
    "    lyrics = tmp[0].get_text().encode(\"ascii\",\"ignore\")\n",
    "    if 'Sorry, we have no' in lyrics:\n",
    "        lyrics = \"\"\n",
    "    return({'Url':lyric_url, 'Lyric': lyrics})\n"
   ]
  },
  {
   "cell_type": "code",
   "execution_count": 7,
   "metadata": {
    "collapsed": true
   },
   "outputs": [],
   "source": [
    "result = [getLyrics(row) for idx, row in top100songs.iterrows()]\n",
    "result = pd.DataFrame(result)"
   ]
  },
  {
   "cell_type": "code",
   "execution_count": 8,
   "metadata": {
    "collapsed": true
   },
   "outputs": [],
   "source": [
    "#Couldn't Find\n",
    "# Elton John - Candle in the wind 1997 something about the way you look tonight Lyrics\n",
    "# paul-mccartney-and-michael-jackson/say-say-say-lyrics/\n",
    "# jewel/you-were-meant-for-me-foolish-games-lyrics/\n",
    "\n",
    "# weird ones: 53, 83, 60"
   ]
  },
  {
   "cell_type": "code",
   "execution_count": 9,
   "metadata": {
    "collapsed": false
   },
   "outputs": [],
   "source": [
    "notFoundUrls = [\"http://www.songlyrics.com/elton-john-billy-joel/candle-in-the-wind-lyrics/\", \"http://www.songlyrics.com/percy-faith/theme-from-a-summer-place-lyrics/\",\"http://www.songlyrics.com/jewel-feat-kelly-clarkson/foolish-games-lyrics/\"]\n",
    "result.loc[53,'Lyric':'Url'] = getLyrics(top100songs.loc[53], newUrl = notFoundUrls[0])\n",
    "result.loc[80,'Lyric':'Url'] = getLyrics(top100songs.loc[80], newUrl = notFoundUrls[1])\n",
    "result.loc[83,'Lyric':'Url'] = getLyrics(top100songs.loc[83], newUrl = notFoundUrls[2])"
   ]
  },
  {
   "cell_type": "code",
   "execution_count": 11,
   "metadata": {
    "collapsed": true
   },
   "outputs": [],
   "source": [
    "song = top100songs.loc[60]\n",
    "artist = song['Artist']\n",
    "title = song['Title']\n",
    "lyric_url = \"http://www.metrolyrics.com/say-say-say-lyrics-paul-mccartney.html\"\n",
    "artist = processString(artist, \"Artist\")\n",
    "title = processString(title,\" Title\")\n",
    "soup = BeautifulSoup((requests.get(lyric_url)).text, \"html.parser\")\n",
    "tmp = soup.find_all('div', {\"id\": \"lyrics-body-text\"})\n",
    "lyrics = tmp[0].get_text()\n",
    "result.loc[60,'Lyric': 'Url'] = {'Lyric': lyrics, 'Url': lyric_url}"
   ]
  },
  {
   "cell_type": "code",
   "execution_count": 12,
   "metadata": {
    "collapsed": true
   },
   "outputs": [],
   "source": [
    "result = pd.concat([top100songs.reset_index(drop=True), result], axis = 1)\n",
    "result.loc[53,'Title'] = \"Candle in the Wind 1997\"\n",
    "result.loc[83, 'Title'] = \"Foolish Games\""
   ]
  },
  {
   "cell_type": "markdown",
   "metadata": {},
   "source": [
    "<h1>NGRAM DOOM HELLO NGRAM THERE ONCE WAS</h1>"
   ]
  },
  {
   "cell_type": "code",
   "execution_count": null,
   "metadata": {
    "collapsed": true
   },
   "outputs": [],
   "source": [
    "import nltk \n",
    "from nltk import word_tokenize\n",
    "from nltk.util import ngrams\n",
    "from nltk.tokenize import RegexpTokenizer\n",
    "from nltk.tokenize import WhitespaceTokenizer\n",
    "from collections import Counter"
   ]
  },
  {
   "cell_type": "code",
   "execution_count": null,
   "metadata": {
    "collapsed": true
   },
   "outputs": [],
   "source": [
    "# Making Corpus\n",
    "corpus_raw = \" \".join(main_df[\"Lyric\"])\n",
    "corpus_raw = re.sub(\",\", \"\", corpus_raw)\n",
    "corpus_raw = re.sub(\"\\n\", \" \", corpus_raw)\n",
    "corpus_raw = re.sub(\"\\\\\\\\\", \"\", corpus_raw).lower()\n",
    "corpus_raw = re.sub(\"[)(]\", \"\", corpus_raw)\n",
    "corpus_raw_split = corpus_raw_split = corpus_raw.split(\" \")"
   ]
  },
  {
   "cell_type": "code",
   "execution_count": null,
   "metadata": {
    "collapsed": false
   },
   "outputs": [],
   "source": [
    "# Trigram for corpus\n",
    "corpus_trigram = Counter(ngrams(corpus_raw_split, 3)).most_common()\n",
    "corpus_trigram_keys = [\" \".join(key_tuple) for key_tuple in [key[0] for key in corpus_trigram]]\n",
    "corpus_trigram_values = [item[1] for item in corpus_trigram]\n",
    "corpus_trigram = {\"trigram\": corpus_trigram_keys, \"freq\": corpus_trigram_values}"
   ]
  },
  {
   "cell_type": "code",
   "execution_count": null,
   "metadata": {
    "collapsed": true
   },
   "outputs": [],
   "source": []
  }
 ],
 "metadata": {
  "anaconda-cloud": {},
  "kernelspec": {
   "display_name": "Python [default]",
   "language": "python",
   "name": "python2"
  },
  "language_info": {
   "codemirror_mode": {
    "name": "ipython",
    "version": 2
   },
   "file_extension": ".py",
   "mimetype": "text/x-python",
   "name": "python",
   "nbconvert_exporter": "python",
   "pygments_lexer": "ipython2",
   "version": "2.7.12"
  }
 },
 "nbformat": 4,
 "nbformat_minor": 1
}
