{
 "cells": [
  {
   "cell_type": "code",
   "execution_count": null,
   "metadata": {
    "collapsed": false,
    "deletable": true,
    "editable": true
   },
   "outputs": [],
   "source": [
    "import Tasks2\n",
    "import pandas as pd\n",
    "import plotly\n",
    "import plotly.graph_objs as go\n",
    "import plotly.plotly as py\n",
    "import cufflinks as cf\n",
    "#plotly.tools.set_credentials_file(username='kavitan', api_key='uhzVPlkrKyELFryPUUK3')"
   ]
  },
  {
   "cell_type": "code",
   "execution_count": null,
   "metadata": {
    "collapsed": false,
    "deletable": true,
    "editable": true
   },
   "outputs": [],
   "source": [
    "data = Tasks2.final_data"
   ]
  },
  {
   "cell_type": "code",
   "execution_count": null,
   "metadata": {
    "collapsed": false,
    "deletable": true,
    "editable": true
   },
   "outputs": [],
   "source": [
    "numByYear = data[['Artist','Title','Year']].groupby(['Year']).agg(['count'])"
   ]
  },
  {
   "cell_type": "code",
   "execution_count": null,
   "metadata": {
    "collapsed": false,
    "deletable": true,
    "editable": true
   },
   "outputs": [],
   "source": [
    "df = pd.DataFrame({'x': numByYear['Artist']['count'].index, \n",
    "              'y1': numByYear['Artist']['count'].values, \n",
    "                  'y2': numByYear['Title']['count'].values })"
   ]
  },
  {
   "cell_type": "code",
   "execution_count": null,
   "metadata": {
    "collapsed": false,
    "deletable": true,
    "editable": true
   },
   "outputs": [],
   "source": [
    "plotdata = [go.Bar(\n",
    "            x=df['x'],\n",
    "            y=df['y2'])\n",
    "       ]\n",
    "\n",
    "py.iplot(plotdata, filename='pandas-bar-chart')"
   ]
  },
  {
   "cell_type": "code",
   "execution_count": null,
   "metadata": {
    "collapsed": false
   },
   "outputs": [],
   "source": [
    "songFeatures = data[['acousticness','energy','instrumentalness', 'danceability',\n",
    "                     'key','liveness','loudness','songLength','speechiness','tempo']]\n",
    "songFeatures = songFeatures.set_index(data.Year)\n",
    "def makeScatterObj(x,y, name):\n",
    "    obj = go.Scatter(\n",
    "        x = x,\n",
    "        y = y,\n",
    "        name = name,\n",
    "        mode = 'markers',\n",
    "        text = '{} By {}'.format(data.Title, data.Artist),\n",
    "        marker = dict(size = 5))  \n",
    "    return(obj)\n",
    "trace1 = makeScatterObj(songFeatures.index.values, songFeatures['acousticness'], 'acousticness')\n",
    "trace2 = makeScatterObj(songFeatures.index.values,songFeatures['energy'], 'energy')\n",
    "trace3 = makeScatterObj(songFeatures.index.values, songFeatures['instrumentalness'], 'instrumentalness')\n",
    "trace4 = makeScatterObj(songFeatures.index.values,songFeatures['danceability'], 'danceability')\n",
    "trace5 = makeScatterObj(songFeatures.index.values, songFeatures['key'], 'key')\n",
    "trace6 = makeScatterObj(songFeatures.index.values,songFeatures['liveness'], 'liveness')\n",
    "trace7 = makeScatterObj(songFeatures.index.values, songFeatures['loudness'], 'loudness')\n",
    "trace8 = makeScatterObj(songFeatures.index.values,songFeatures['songLength'], 'songLength')\n",
    "trace9 = makeScatterObj(songFeatures.index.values, songFeatures['speechiness'], 'speechiness')\n",
    "trace10 = makeScatterObj(songFeatures.index.values,songFeatures['tempo'], 'tempo')\n",
    "fig = plotly.tools.make_subplots(rows=5, cols=1,shared_xaxes=True)\n",
    "fig.append_trace(trace1, 1, 1)\n",
    "fig.append_trace(trace3, 2, 1)\n",
    "fig.append_trace(trace7, 3, 1)\n",
    "fig.append_trace(trace8, 4, 1)\n",
    "fig.append_trace(trace10, 5, 1)\n",
    "fig1 = plotly.tools.make_subplots(rows=5, cols=1,shared_xaxes=True)\n",
    "fig1.append_trace(trace2, 1, 1)\n",
    "fig1.append_trace(trace4, 2, 1)\n",
    "fig1.append_trace(trace5, 3, 1)\n",
    "fig1.append_trace(trace6, 4, 1)\n",
    "fig1.append_trace(trace9, 5, 1)\n",
    "fig['layout'].update(height=600, width=600, title='Song Features over Years')\n",
    "py.iplot(fig)"
   ]
  },
  {
   "cell_type": "code",
   "execution_count": null,
   "metadata": {
    "collapsed": false
   },
   "outputs": [],
   "source": [
    "fig1['layout'].update(height=600, width=600, title='Song Features over Years')\n",
    "py.iplot(fig1, filename='make-subplots1')"
   ]
  }
 ],
 "metadata": {
  "kernelspec": {
   "display_name": "Python 2",
   "language": "python",
   "name": "python2"
  },
  "language_info": {
   "codemirror_mode": {
    "name": "ipython",
    "version": 2
   },
   "file_extension": ".py",
   "mimetype": "text/x-python",
   "name": "python",
   "nbconvert_exporter": "python",
   "pygments_lexer": "ipython2",
   "version": "2.7.13"
  },
  "widgets": {
   "state": {
    "5f71e09d1709416fa150c58b7fbdc1b7": {
     "views": [
      {
       "cell_index": 5
      }
     ]
    },
    "a1cd0da719df4ae6bef34afd2bded028": {
     "views": [
      {
       "cell_index": 5
      }
     ]
    }
   },
   "version": "1.2.0"
  }
 },
 "nbformat": 4,
 "nbformat_minor": 2
}
