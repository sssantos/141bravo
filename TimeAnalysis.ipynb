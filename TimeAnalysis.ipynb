{
 "cells": [
  {
   "cell_type": "code",
   "execution_count": null,
   "metadata": {
    "collapsed": false
   },
   "outputs": [
    {
     "name": "stdout",
     "output_type": "stream",
     "text": [
      "{'energy': 0.639, 'tempo': 164.088, 'speechiness': 0.0539, 'instrumentalness': 0, 'key': 5, 'liveness': 0.0945, 'acousticness': 0.0359, 'songLength': 219120, 'danceability': 0.761, 'loudness': -7.577, 'valence': 0.933, 'spotifyID': u'47TqCCnEliDp8NRDyIQoQq', 'mode': 0}\n",
      "{'energy': 0.638, 'tempo': 184.086, 'speechiness': 0.075, 'instrumentalness': 7.66e-05, 'key': 10, 'liveness': 0.0849, 'acousticness': 0.02, 'songLength': 250627, 'danceability': 0.378, 'loudness': -5.576, 'valence': 0.762, 'spotifyID': u'7a86XRg84qjasly9f6bPSD', 'mode': 1}\n",
      "{'energy': 0.57, 'tempo': 115.376, 'speechiness': 0.0348, 'instrumentalness': 0.362, 'key': 0, 'liveness': 0.0812, 'acousticness': 0.45, 'songLength': 219933, 'danceability': 0.764, 'loudness': -11.361, 'valence': 0.972, 'spotifyID': u'6UjlpJhUqOQqv0hrb38IDI', 'mode': 1}\n",
      "{'energy': 0.8, 'tempo': 93.01, 'speechiness': 0.0339, 'instrumentalness': 0, 'key': 5, 'liveness': 0.0834, 'acousticness': 0.0563, 'songLength': 219467, 'danceability': 0.71, 'loudness': -3.439, 'valence': 0.634, 'spotifyID': u'4XNrMwGx1SqP01sqkGTDmo', 'mode': 0}\n",
      "{'energy': 0.565, 'tempo': 101.967, 'speechiness': 0.0306, 'instrumentalness': 0.00269, 'key': 3, 'liveness': 0.063, 'acousticness': 0.736, 'songLength': 322133, 'danceability': 0.78, 'loudness': -7.32, 'valence': 0.39, 'spotifyID': u'1NCuYqMc8hKMb4cpNTcJbD', 'mode': 0}\n",
      "{'energy': 0.261, 'tempo': 108.716, 'speechiness': 0.0495, 'instrumentalness': 0.0187, 'key': 5, 'liveness': 0.0876, 'acousticness': 0.813, 'songLength': 182667, 'danceability': 0.705, 'loudness': -18.934, 'valence': 0.617, 'spotifyID': u'1KkwByi6c9dFFmUTcgMODw', 'mode': 1}\n",
      "{'energy': 0.619, 'tempo': 109.92, 'speechiness': 0.0538, 'instrumentalness': 2.13e-05, 'key': 7, 'liveness': 0.159, 'acousticness': 0.111, 'songLength': 306560, 'danceability': 0.833, 'loudness': -5.595, 'valence': 0.905, 'spotifyID': u'1yy2DlSDtEt90d54rPDPXz', 'mode': 1}\n",
      "{'energy': 0.724, 'tempo': 125.437, 'speechiness': 0.0355, 'instrumentalness': 4.5e-05, 'key': 9, 'liveness': 0.109, 'acousticness': 0.0475, 'songLength': 218960, 'danceability': 0.812, 'loudness': -5.321, 'valence': 0.969, 'spotifyID': u'67eX1ovaHyVPUinMHeUtIM', 'mode': 1}\n",
      "{'energy': 0.381, 'tempo': 121.568, 'speechiness': 0.0342, 'instrumentalness': 0, 'key': 5, 'liveness': 0.0615, 'acousticness': 0.727, 'songLength': 286920, 'danceability': 0.477, 'loudness': -10.237, 'valence': 0.318, 'spotifyID': u'3gsCAGsWr6pUm1Vy7CPPob', 'mode': 0}\n",
      "{'energy': 0.466, 'tempo': 78.883, 'speechiness': 0.0277, 'instrumentalness': 0.769, 'key': 0, 'liveness': 0.174, 'acousticness': 0.818, 'songLength': 178200, 'danceability': 0.542, 'loudness': -7.557, 'valence': 0.191, 'spotifyID': u'4XFLwpF2cgrZs0ctFume45', 'mode': 1}\n",
      "{'energy': 0.469, 'tempo': 201.327, 'speechiness': 0.0335, 'instrumentalness': 2.3e-06, 'key': 10, 'liveness': 0.0402, 'acousticness': 0.31, 'songLength': 292067, 'danceability': 0.33, 'loudness': -9.286, 'valence': 0.436, 'spotifyID': u'2OgVsp77En2nju8pnCieVU', 'mode': 0}\n",
      "{'energy': 0.56, 'tempo': 92.895, 'speechiness': 0.0436, 'instrumentalness': 1.19e-05, 'key': 8, 'liveness': 0.0861, 'acousticness': 0.138, 'songLength': 265867, 'danceability': 0.925, 'loudness': -3.795, 'valence': 0.967, 'spotifyID': u'3aw9iWUQ3VrPQltgwvN9Xu', 'mode': 0}\n",
      "{'energy': 0.407, 'tempo': 83.207, 'speechiness': 0.0233, 'instrumentalness': 0, 'key': 6, 'liveness': 0.117, 'acousticness': 0.235, 'songLength': 259853, 'danceability': 0.532, 'loudness': -9.658, 'valence': 0.208, 'spotifyID': u'3V0PeMg2mhbYRtk9bioAwF', 'mode': 0}\n",
      "{'energy': 0.574, 'tempo': 119.917, 'speechiness': 0.0273, 'instrumentalness': 2.33e-05, 'key': 5, 'liveness': 0.105, 'acousticness': 0.0425, 'songLength': 280040, 'danceability': 0.511, 'loudness': -7.016, 'valence': 0.151, 'spotifyID': u'3nvuPQTw2zuFAVuLsC9IYQ', 'mode': 1}\n",
      "{'energy': 0.576, 'tempo': 108.837, 'speechiness': 0.0476, 'instrumentalness': 0.00168, 'key': 1, 'liveness': 0.0488, 'acousticness': 0.149, 'songLength': 260427, 'danceability': 0.736, 'loudness': -12.0, 'valence': 0.756, 'spotifyID': u'2Wb9ejnmy27DUTUe9YF5Ew', 'mode': 1}\n",
      "{'energy': 0.7, 'tempo': 147.245, 'speechiness': 0.0363, 'instrumentalness': 0.00125, 'key': 0, 'liveness': 0.0318, 'acousticness': 0.0589, 'songLength': 295400, 'danceability': 0.586, 'loudness': -9.558, 'valence': 0.895, 'spotifyID': u'1HOMkjp0nHMaTnfAkslCQj', 'mode': 1}\n",
      "{'energy': 0.4, 'tempo': 128.052, 'speechiness': 0.0267, 'instrumentalness': 0, 'key': 8, 'liveness': 0.0618, 'acousticness': 0.339, 'songLength': 242453, 'danceability': 0.644, 'loudness': -10.812, 'valence': 0.277, 'spotifyID': u'1Ih6wTuQems9OkYTzcZdhM', 'mode': 1}\n",
      "{'energy': 0.87, 'tempo': 109.174, 'speechiness': 0.0592, 'instrumentalness': 0, 'key': 9, 'liveness': 0.045, 'acousticness': 0.124, 'songLength': 301800, 'danceability': 0.822, 'loudness': -6.257, 'valence': 0.9, 'spotifyID': u'0D7L4pBEGv8ni1cRfaTdMJ', 'mode': 1}\n",
      "{'energy': 0.594, 'tempo': 105.934, 'speechiness': 0.0293, 'instrumentalness': 1.16e-05, 'key': 0, 'liveness': 0.0817, 'acousticness': 0.0977, 'songLength': 258227, 'danceability': 0.665, 'loudness': -10.638, 'valence': 0.755, 'spotifyID': u'2DnJjbjNTV9Nd5NOa1KGba', 'mode': 1}\n",
      "{'energy': 0.654, 'tempo': 117.046, 'speechiness': 0.0401, 'instrumentalness': 0.0158, 'key': 11, 'liveness': 0.0359, 'acousticness': 0.0236, 'songLength': 293827, 'danceability': 0.92, 'loudness': -3.051, 'valence': 0.856, 'spotifyID': u'5ChkMS8OtdzJeqyybCc9R5', 'mode': 0}\n",
      "{'energy': 0.888, 'tempo': 132.007, 'speechiness': 0.0604, 'instrumentalness': 0, 'key': 9, 'liveness': 0.967, 'acousticness': 0.342, 'songLength': 223707, 'danceability': 0.704, 'loudness': -10.962, 'valence': 0.964, 'spotifyID': u'3HtV7S12NqPZq9eYLq54CP', 'mode': 0}\n",
      "{'energy': 0.63, 'tempo': 79.955, 'speechiness': 0.0521, 'instrumentalness': 0, 'key': 8, 'liveness': 0.4, 'acousticness': 0.0372, 'songLength': 241933, 'danceability': 0.641, 'loudness': -6.393, 'valence': 0.417, 'spotifyID': u'3u9fHuAtjMY1RW2mZfO4Cf', 'mode': 1}\n",
      "{'energy': 0.727, 'tempo': 120.492, 'speechiness': 0.0336, 'instrumentalness': 0.121, 'key': 0, 'liveness': 0.049, 'acousticness': 0.00273, 'songLength': 400440, 'danceability': 0.806, 'loudness': -13.834, 'valence': 0.963, 'spotifyID': u'424pNN5XqYHje4vNpuHgBT', 'mode': 1}\n",
      "{'energy': 0.527, 'tempo': 133.758, 'speechiness': 0.0302, 'instrumentalness': 0, 'key': 3, 'liveness': 0.0867, 'acousticness': 0.45, 'songLength': 212560, 'danceability': 0.551, 'loudness': -7.119, 'valence': 0.662, 'spotifyID': u'7wCH9DbgRs7ujHeqNy6oAS', 'mode': 1}\n",
      "{'energy': 0.52, 'tempo': 118.441, 'speechiness': 0.0371, 'instrumentalness': 0, 'key': 11, 'liveness': 0.106, 'acousticness': 0.255, 'songLength': 193493, 'danceability': 0.735, 'loudness': -6.18, 'valence': 0.689, 'spotifyID': u'4tMxTsEPybFSX1dq7BOC4K', 'mode': 1}\n",
      "{'energy': 0.698, 'tempo': 168.132, 'speechiness': 0.201, 'instrumentalness': 5.74e-05, 'key': 2, 'liveness': 0.107, 'acousticness': 0.364, 'songLength': 291614, 'danceability': 0.757, 'loudness': -8.344, 'valence': 0.5, 'spotifyID': u'1ZWtJvuCZ5EA13BUfs5IzY', 'mode': 0}\n",
      "{'energy': 0.843, 'tempo': 109.012, 'speechiness': 0.0432, 'instrumentalness': 0, 'key': 5, 'liveness': 0.0876, 'acousticness': 0.0151, 'songLength': 220733, 'danceability': 0.637, 'loudness': -5.413, 'valence': 0.441, 'spotifyID': u'7BqBn9nzAq8spo5e7cZ0dJ', 'mode': 1}\n",
      "{'energy': 0.871, 'tempo': 122.395, 'speechiness': 0.0278, 'instrumentalness': 0, 'key': 2, 'liveness': 0.108, 'acousticness': 0.466, 'songLength': 167187, 'danceability': 0.736, 'loudness': -2.786, 'valence': 0.966, 'spotifyID': u'3iSws76HjaU7k49EqJVTfF', 'mode': 1}\n",
      "{'energy': 0.843, 'tempo': 107.848, 'speechiness': 0.0672, 'instrumentalness': 0.0522, 'key': 5, 'liveness': 0.0447, 'acousticness': 0.175, 'songLength': 245600, 'danceability': 0.877, 'loudness': -8.518, 'valence': 0.884, 'spotifyID': u'3pbtBomO4Zt5gGiqsYeiBH', 'mode': 0}\n",
      "{'energy': 0.382, 'tempo': 119.933, 'speechiness': 0.0291, 'instrumentalness': 0, 'key': 0, 'liveness': 0.0789, 'acousticness': 0.172, 'songLength': 255067, 'danceability': 0.681, 'loudness': -10.669, 'valence': 0.166, 'spotifyID': u'3Oc4iQ506DbtBJebgBGyn6', 'mode': 0}\n",
      "{'energy': 0.44, 'tempo': 90.012, 'speechiness': 0.0493, 'instrumentalness': 0, 'key': 4, 'liveness': 0.0958, 'acousticness': 0.763, 'songLength': 292933, 'danceability': 0.706, 'loudness': -11.577, 'valence': 0.396, 'spotifyID': u'015qd1I4v00JIoK7yOUgKC', 'mode': 1}\n",
      "{'energy': 0.602, 'tempo': 160.647, 'speechiness': 0.0537, 'instrumentalness': 0, 'key': 4, 'liveness': 0.264, 'acousticness': 0.395, 'songLength': 223254, 'danceability': 0.483, 'loudness': -7.798, 'valence': 0.398, 'spotifyID': u'0yATc7YP21EFZRRpr8dNXQ', 'mode': 1}\n",
      "{'energy': 0.761, 'tempo': 128.038, 'speechiness': 0.0463, 'instrumentalness': 0, 'key': 11, 'liveness': 0.36, 'acousticness': 0.0125, 'songLength': 202400, 'danceability': 0.724, 'loudness': -4.158, 'valence': 0.618, 'spotifyID': u'6rgPr77z1PvXS1iSkYjR6A', 'mode': 0}\n",
      "{'energy': 0.649, 'tempo': 129.422, 'speechiness': 0.0411, 'instrumentalness': 0, 'key': 4, 'liveness': 0.0792, 'acousticness': 0.00138, 'songLength': 225267, 'danceability': 0.798, 'loudness': -7.392, 'valence': 0.426, 'spotifyID': u'4utp1jggcXcMzdPBTbnCA3', 'mode': 0}\n",
      "{'energy': 0.74, 'tempo': 118.23, 'speechiness': 0.0399, 'instrumentalness': 0.00151, 'key': 7, 'liveness': 0.0998, 'acousticness': 0.446, 'songLength': 289293, 'danceability': 0.293, 'loudness': -6.098, 'valence': 0.512, 'spotifyID': u'0HZlND4giwzgolBpaNIRGV', 'mode': 1}\n",
      "{'energy': 0.552, 'tempo': 96.185, 'speechiness': 0.0455, 'instrumentalness': 0, 'key': 11, 'liveness': 0.407, 'acousticness': 0.108, 'songLength': 172381, 'danceability': 0.715, 'loudness': -9.52, 'valence': 0.83, 'spotifyID': u'1TOP1J3oGqQHpkJZuUnCjN', 'mode': 0}\n",
      "{'energy': 0.321, 'tempo': 128.391, 'speechiness': 0.0289, 'instrumentalness': 1.21e-06, 'key': 1, 'liveness': 0.125, 'acousticness': 0.74, 'songLength': 300107, 'danceability': 0.506, 'loudness': -11.796, 'valence': 0.0778, 'spotifyID': u'5133Vr9T5jaSNBlqSQRJDx', 'mode': 1}\n",
      "{'energy': 0.711, 'tempo': 93.021, 'speechiness': 0.0342, 'instrumentalness': 0, 'key': 1, 'liveness': 0.111, 'acousticness': 0.526, 'songLength': 231920, 'danceability': 0.686, 'loudness': -6.939, 'valence': 0.767, 'spotifyID': u'2EDAFpKAEUyh7KIDCvzX9A', 'mode': 0}\n",
      "{'energy': 0.79, 'tempo': 99.104, 'speechiness': 0.0725, 'instrumentalness': 6.06e-05, 'key': 9, 'liveness': 0.179, 'acousticness': 0.301, 'songLength': 236547, 'danceability': 0.701, 'loudness': -6.16, 'valence': 0.402, 'spotifyID': u'5y0YreEOnQiKFAnCrcFIXz', 'mode': 1}\n",
      "{'energy': 0.677, 'tempo': 114.37, 'speechiness': 0.0396, 'instrumentalness': 0, 'key': 0, 'liveness': 0.403, 'acousticness': 0.249, 'songLength': 216533, 'danceability': 0.653, 'loudness': -12.244, 'valence': 0.878, 'spotifyID': u'1ynmMEK1fkyiZ6Z6F3ThEt', 'mode': 1}\n",
      "{'energy': 0.786, 'tempo': 96.987, 'speechiness': 0.0447, 'instrumentalness': 0.0701, 'key': 4, 'liveness': 0.0574, 'acousticness': 0.00928, 'songLength': 191240, 'danceability': 0.808, 'loudness': -6.897, 'valence': 0.904, 'spotifyID': u'0hrBpAOgrt8RXigk83LLNE', 'mode': 0}\n",
      "{'energy': 0.533, 'tempo': 118.039, 'speechiness': 0.0273, 'instrumentalness': 0, 'key': 3, 'liveness': 0.143, 'acousticness': 0.083, 'songLength': 187174, 'danceability': 0.664, 'loudness': -8.391, 'valence': 0.288, 'spotifyID': u'3oRDbYAtJ93UDtkKdLKSav', 'mode': 1}\n",
      "{'energy': 0.385, 'tempo': 92.494, 'speechiness': 0.308, 'instrumentalness': 0, 'key': 1, 'liveness': 0.18, 'acousticness': 0.0863, 'songLength': 208280, 'danceability': 0.786, 'loudness': -12.927, 'valence': 0.61, 'spotifyID': u'2kTI5wQALSW8lbTtLNCE5u', 'mode': 1}\n",
      "{'energy': 0.775, 'tempo': 80.106, 'speechiness': 0.0352, 'instrumentalness': 2.05e-05, 'key': 0, 'liveness': 0.217, 'acousticness': 0.707, 'songLength': 167373, 'danceability': 0.526, 'loudness': -6.05, 'valence': 0.958, 'spotifyID': u'3G7tRC24Uh09Hmp1KZ7LQ2', 'mode': 1}\n",
      "{'energy': 0.832, 'tempo': 120.032, 'speechiness': 0.116, 'instrumentalness': 1.27e-06, 'key': 2, 'liveness': 0.291, 'acousticness': 0.0746, 'songLength': 199693, 'danceability': 0.755, 'loudness': -2.741, 'valence': 0.719, 'spotifyID': u'5OMwQFBcte0aWFJFqrr5oj', 'mode': 0}\n",
      "{'energy': 0.267, 'tempo': 67.858, 'speechiness': 0.0311, 'instrumentalness': 4.65e-06, 'key': 3, 'liveness': 0.132, 'acousticness': 0.633, 'songLength': 231267, 'danceability': 0.455, 'loudness': -13.156, 'valence': 0.181, 'spotifyID': u'3liZoKeEr6fosBe4fiIOyF', 'mode': 0}\n",
      "{'energy': 0.552, 'tempo': 103.604, 'speechiness': 0.0363, 'instrumentalness': 0.0012, 'key': 10, 'liveness': 0.15, 'acousticness': 0.0752, 'songLength': 281667, 'danceability': 0.712, 'loudness': -15.485, 'valence': 0.961, 'spotifyID': u'1nD9xhaOKlHmZssLhVWRo1', 'mode': 0}\n",
      "{'energy': 0.578, 'tempo': 94.514, 'speechiness': 0.0922, 'instrumentalness': 0, 'key': 7, 'liveness': 0.118, 'acousticness': 0.235, 'songLength': 256733, 'danceability': 0.656, 'loudness': -8.97, 'valence': 0.572, 'spotifyID': u'3ibKnFDaa3GhpPGlOUj7ff', 'mode': 0}\n",
      "{'energy': 0.628, 'tempo': 142.167, 'speechiness': 0.036, 'instrumentalness': 0.000194, 'key': 2, 'liveness': 0.151, 'acousticness': 0.0336, 'songLength': 212893, 'danceability': 0.551, 'loudness': -13.799, 'valence': 0.768, 'spotifyID': u'0vLwL4xuJ3s7SeaCdvMqkY', 'mode': 1}\n",
      "{'energy': 0.848, 'tempo': 130.115, 'speechiness': 0.0922, 'instrumentalness': 0.000843, 'key': 9, 'liveness': 0.136, 'acousticness': 0.151, 'songLength': 251427, 'danceability': 0.868, 'loudness': -6.049, 'valence': 0.345, 'spotifyID': u'5MeZ3VxmtSv1O8PcekvLTn', 'mode': 1}\n",
      "{'energy': 0.423, 'tempo': 149.61, 'speechiness': 0.0249, 'instrumentalness': 0, 'key': 5, 'liveness': 0.0663, 'acousticness': 0.079, 'songLength': 351467, 'danceability': 0.642, 'loudness': -9.283, 'valence': 0.497, 'spotifyID': u'3l3xTXsUXeWlkPqzMs7mPD', 'mode': 0}\n",
      "{'energy': 0.214, 'tempo': 66.98, 'speechiness': 0.0356, 'instrumentalness': 5.3e-06, 'key': 4, 'liveness': 0.0839, 'acousticness': 0.844, 'songLength': 271093, 'danceability': 0.306, 'loudness': -12.518, 'valence': 0.108, 'spotifyID': u'4eHbdreAnSOrDDsFfc4Fpm', 'mode': 1}\n",
      "{'energy': 0.552, 'tempo': 89.969, 'speechiness': 0.0292, 'instrumentalness': 6.47e-06, 'key': 1, 'liveness': 0.111, 'acousticness': 0.03, 'songLength': 253813, 'danceability': 0.649, 'loudness': -5.419, 'valence': 0.169, 'spotifyID': u'0JEqGkvUiMTQmFY6sgL9kg', 'mode': 0}\n",
      "{'energy': 0.653, 'tempo': 143.507, 'speechiness': 0.0266, 'instrumentalness': 2.67e-05, 'key': 6, 'liveness': 0.079, 'acousticness': 0.163, 'songLength': 240547, 'danceability': 0.465, 'loudness': -7.613, 'valence': 0.529, 'spotifyID': u'5LjSxAIKwyZvQqJ04ZQ0Da', 'mode': 1}\n",
      "{'energy': 0.585, 'tempo': 120.069, 'speechiness': 0.0435, 'instrumentalness': 0, 'key': 7, 'liveness': 0.108, 'acousticness': 0.0123, 'songLength': 193400, 'danceability': 0.778, 'loudness': -6.502, 'valence': 0.633, 'spotifyID': u'3TGRqZ0a2l1LRblBkJoaDx', 'mode': 1}\n",
      "{'energy': 0.743, 'tempo': 204.058, 'speechiness': 0.0421, 'instrumentalness': 0, 'key': 7, 'liveness': 0.205, 'acousticness': 0.0793, 'songLength': 270374, 'danceability': 0.451, 'loudness': -9.013, 'valence': 0.881, 'spotifyID': u'1mE7ws8R4Rk8XYg6O02ZqM', 'mode': 0}\n",
      "{'energy': 0.715, 'tempo': 130.726, 'speechiness': 0.0476, 'instrumentalness': 0, 'key': 7, 'liveness': 0.311, 'acousticness': 0.386, 'songLength': 145747, 'danceability': 0.49, 'loudness': -5.549, 'valence': 0.874, 'spotifyID': u'4pbG9SUmWIvsROVLF0zF9s', 'mode': 1}\n",
      "{'energy': 0.148, 'tempo': 70.881, 'speechiness': 0.032, 'instrumentalness': 0.0609, 'key': 3, 'liveness': 0.206, 'acousticness': 0.864, 'songLength': 156440, 'danceability': 0.332, 'loudness': -17.523, 'valence': 0.628, 'spotifyID': u'01OFUZ8btJxFI6n5igQUqx', 'mode': 1}\n",
      "{'energy': 0.368, 'tempo': 172.977, 'speechiness': 0.0344, 'instrumentalness': 0.748, 'key': 5, 'liveness': 0.137, 'acousticness': 0.109, 'songLength': 203807, 'danceability': 0.608, 'loudness': -15.239, 'valence': 0.813, 'spotifyID': u'14swxbidkC48kELYt0L68O', 'mode': 1}\n",
      "{'energy': 0.779, 'tempo': 172.153, 'speechiness': 0.0342, 'instrumentalness': 0, 'key': 10, 'liveness': 0.107, 'acousticness': 0.00109, 'songLength': 223813, 'danceability': 0.437, 'loudness': -5.032, 'valence': 0.473, 'spotifyID': u'0gmbgwZ8iqyMPmXefof8Yf', 'mode': 1}\n",
      "{'energy': 0.513, 'tempo': 118.546, 'speechiness': 0.0642, 'instrumentalness': 0.000378, 'key': 10, 'liveness': 0.182, 'acousticness': 0.714, 'songLength': 234904, 'danceability': 0.805, 'loudness': -9.483, 'valence': 0.642, 'spotifyID': u'3Sgh90BEu3PdwXbZwerKQd', 'mode': 0}\n",
      "{'energy': 0.53, 'tempo': 109.979, 'speechiness': 0.178, 'instrumentalness': 0.179, 'key': 5, 'liveness': 0.17, 'acousticness': 0.115, 'songLength': 214653, 'danceability': 0.951, 'loudness': -6.594, 'valence': 0.71, 'spotifyID': u'57JVGBtBLCfHw2muk5416J', 'mode': 0}\n",
      "{'energy': 0.541, 'tempo': 109.144, 'speechiness': 0.0282, 'instrumentalness': 0.00139, 'key': 1, 'liveness': 0.093, 'acousticness': 0.0279, 'songLength': 211640, 'danceability': 0.729, 'loudness': -14.943, 'valence': 0.91, 'spotifyID': u'7rMZtzN8b0ODkNnfJ3KnPt', 'mode': 0}\n",
      "{'energy': 0.62, 'tempo': 167.141, 'speechiness': 0.0648, 'instrumentalness': 1.19e-06, 'key': 8, 'liveness': 0.0559, 'acousticness': 0.0379, 'songLength': 290960, 'danceability': 0.543, 'loudness': -10.629, 'valence': 0.602, 'spotifyID': u'0jHkgTtTaqg5LNCiYDQPUB', 'mode': 1}\n",
      "{'energy': 0.331, 'tempo': 125.084, 'speechiness': 0.0356, 'instrumentalness': 0.233, 'key': 0, 'liveness': 0.137, 'acousticness': 0.223, 'songLength': 352933, 'danceability': 0.737, 'loudness': -16.141, 'valence': 0.835, 'spotifyID': u'3bC0IKk62yB6TDaratb1s2', 'mode': 1}\n",
      "{'energy': 0.705, 'tempo': 168.152, 'speechiness': 0.0311, 'instrumentalness': 0, 'key': 0, 'liveness': 0.109, 'acousticness': 0.43, 'songLength': 279400, 'danceability': 0.566, 'loudness': -7.569, 'valence': 0.785, 'spotifyID': u'7xUVverKyPPPAW3sDqXhfi', 'mode': 1}\n",
      "{'energy': 0.311, 'tempo': 128.072, 'speechiness': 0.0353, 'instrumentalness': 0.0532, 'key': 1, 'liveness': 0.121, 'acousticness': 0.539, 'songLength': 279407, 'danceability': 0.48, 'loudness': -15.658, 'valence': 0.266, 'spotifyID': u'418kh9Nx9wbaSC63kCDPMw', 'mode': 1}\n",
      "{'energy': 0.753, 'tempo': 177.162, 'speechiness': 0.135, 'instrumentalness': 0, 'key': 9, 'liveness': 0.0997, 'acousticness': 0.803, 'songLength': 152067, 'danceability': 0.703, 'loudness': -11.783, 'valence': 0.922, 'spotifyID': u'1XRA4Tjb2YrcQU5ThDllCw', 'mode': 1}\n",
      "{'energy': 0.722, 'tempo': 142.736, 'speechiness': 0.0393, 'instrumentalness': 0, 'key': 0, 'liveness': 0.108, 'acousticness': 0.225, 'songLength': 159640, 'danceability': 0.569, 'loudness': -8.914, 'valence': 0.965, 'spotifyID': u'79s3pSe1u6ggQBEwVPm58Z', 'mode': 1}\n",
      "{'energy': 0.756, 'tempo': 104.945, 'speechiness': 0.0294, 'instrumentalness': 0, 'key': 8, 'liveness': 0.0527, 'acousticness': 0.131, 'songLength': 228293, 'danceability': 0.729, 'loudness': -5.119, 'valence': 0.523, 'spotifyID': u'1CkvWZme3pRgbzaxZnTl5X', 'mode': 1}\n",
      "{'energy': 0.566, 'tempo': 122.501, 'speechiness': 0.033, 'instrumentalness': 1.34e-06, 'key': 7, 'liveness': 0.187, 'acousticness': 0.00799, 'songLength': 239053, 'danceability': 0.644, 'loudness': -8.941, 'valence': 0.459, 'spotifyID': u'3cbV252akVZInSvJk7jAYX', 'mode': 0}\n",
      "{'energy': 0.715, 'tempo': 74.002, 'speechiness': 0.449, 'instrumentalness': 0, 'key': 7, 'liveness': 0.413, 'acousticness': 0.614, 'songLength': 648365, 'danceability': 0.401, 'loudness': -8.891, 'valence': 0.137, 'spotifyID': u'2uMdSAINZOGQZBFti5jZto', 'mode': 1}\n",
      "{'energy': 0.46, 'tempo': 117.387, 'speechiness': 0.0346, 'instrumentalness': 0.0105, 'key': 1, 'liveness': 0.0724, 'acousticness': 0.56, 'songLength': 253887, 'danceability': 0.813, 'loudness': -9.78, 'valence': 0.718, 'spotifyID': u'2sXp9Qmvc7mRaDBjBgcGGi', 'mode': 1}\n",
      "{'energy': 0.398, 'tempo': 99.717, 'speechiness': 0.0534, 'instrumentalness': 0, 'key': 7, 'liveness': 0.263, 'acousticness': 0.0117, 'songLength': 258113, 'danceability': 0.85, 'loudness': -9.816, 'valence': 0.717, 'spotifyID': u'2fyTojfPYs67KBWN4WYRX7', 'mode': 1}\n",
      "{'energy': 0.587, 'tempo': 96.966, 'speechiness': 0.0355, 'instrumentalness': 0, 'key': 9, 'liveness': 0.169, 'acousticness': 0.206, 'songLength': 226256, 'danceability': 0.63, 'loudness': -9.271, 'valence': 0.797, 'spotifyID': u'4ufFigLafe2Ltm6Ex7O8aK', 'mode': 1}\n",
      "{'energy': 0.609, 'tempo': 128.008, 'speechiness': 0.0791, 'instrumentalness': 0, 'key': 10, 'liveness': 0.139, 'acousticness': 0.0928, 'songLength': 231400, 'danceability': 0.918, 'loudness': -5.64, 'valence': 0.304, 'spotifyID': u'0CAfXk7DXMnon4gLudAp7J', 'mode': 0}\n",
      "{'energy': 0.787, 'tempo': 128.0, 'speechiness': 0.0367, 'instrumentalness': 0.000337, 'key': 1, 'liveness': 0.161, 'acousticness': 0.185, 'songLength': 215667, 'danceability': 0.769, 'loudness': -3.425, 'valence': 0.377, 'spotifyID': u'2FYVldsDrKYzQebSvqHpEz', 'mode': 1}\n",
      "{'energy': 0.438, 'tempo': 108.965, 'speechiness': 0.0346, 'instrumentalness': 0.000466, 'key': 0, 'liveness': 0.0787, 'acousticness': 0.216, 'songLength': 243773, 'danceability': 0.815, 'loudness': -14.522, 'valence': 0.573, 'spotifyID': u'2HHtWyy5CgaQbC7XSoOb0e', 'mode': 0}\n",
      "{'energy': 0.189, 'tempo': 104.985, 'speechiness': 0.0291, 'instrumentalness': 2.24e-06, 'key': 5, 'liveness': 0.257, 'acousticness': 0.271, 'songLength': 241360, 'danceability': 0.623, 'loudness': -17.374, 'valence': 0.638, 'spotifyID': u'2E0kGMK29BUaVQN4zC3Vpj', 'mode': 0}\n",
      "{'energy': 0.827, 'tempo': 119.979, 'speechiness': 0.0764, 'instrumentalness': 5.24e-05, 'key': 7, 'liveness': 0.158, 'acousticness': 0.0536, 'songLength': 213773, 'danceability': 0.724, 'loudness': -7.158, 'valence': 0.842, 'spotifyID': u'28NBmftocOzTPEb6OYA9fW', 'mode': 1}\n",
      "{'energy': 0.326, 'tempo': 186.232, 'speechiness': 0.0297, 'instrumentalness': 0.918, 'key': 0, 'liveness': 0.494, 'acousticness': 0.591, 'songLength': 142693, 'danceability': 0.326, 'loudness': -15.144, 'valence': 0.864, 'spotifyID': u'6zwvB879PJSpTyFcg2wwnL', 'mode': 1}\n",
      "{'energy': 0.509, 'tempo': 142.408, 'speechiness': 0.0243, 'instrumentalness': 0, 'key': 2, 'liveness': 0.0794, 'acousticness': 0.119, 'songLength': 236773, 'danceability': 0.557, 'loudness': -7.928, 'valence': 0.241, 'spotifyID': u'61sQYdFNS6sEBYCyr1q5gn', 'mode': 1}\n",
      "{'energy': 0.372, 'tempo': 131.227, 'speechiness': 0.0284, 'instrumentalness': 4.67e-05, 'key': 1, 'liveness': 0.0652, 'acousticness': 0.0816, 'songLength': 394133, 'danceability': 0.519, 'loudness': -12.635, 'valence': 0.281, 'spotifyID': u'6eBK3edMW7bEzecF1eCezc', 'mode': 1}\n",
      "{'energy': 0.0735, 'tempo': 131.045, 'speechiness': 0.0378, 'instrumentalness': 0.000401, 'key': 5, 'liveness': 0.0976, 'acousticness': 0.944, 'songLength': 340667, 'danceability': 0.298, 'loudness': -16.472, 'valence': 0.167, 'spotifyID': u'6Ee5Y6kCdlZfoFhyR8xPVt', 'mode': 1}\n",
      "{'energy': 0.514, 'tempo': 136.542, 'speechiness': 0.0523, 'instrumentalness': 0.125, 'key': 11, 'liveness': 0.382, 'acousticness': 0.336, 'songLength': 237120, 'danceability': 0.55, 'loudness': -12.617, 'valence': 0.709, 'spotifyID': u'10LRRKPmx8uHcSxLVWK0ct', 'mode': 1}\n",
      "{'energy': 0.354, 'tempo': 93.147, 'speechiness': 0.0271, 'instrumentalness': 4.56e-05, 'key': 10, 'liveness': 0.156, 'acousticness': 0.778, 'songLength': 267587, 'danceability': 0.437, 'loudness': -13.657, 'valence': 0.239, 'spotifyID': u'2Y2qBdSI1GwmN7CnkNul7j', 'mode': 1}\n",
      "{'energy': 0.649, 'tempo': 116.624, 'speechiness': 0.0319, 'instrumentalness': 0, 'key': 5, 'liveness': 0.0959, 'acousticness': 0.0204, 'songLength': 228000, 'danceability': 0.675, 'loudness': -10.271, 'valence': 0.594, 'spotifyID': u'0odIT9B9BvOCnXfS0e4lB5', 'mode': 1}\n",
      "{'energy': 0.675, 'tempo': 86.505, 'speechiness': 0.257, 'instrumentalness': 0, 'key': 2, 'liveness': 0.072, 'acousticness': 0.0167, 'songLength': 268320, 'danceability': 0.547, 'loudness': -8.465, 'valence': 0.556, 'spotifyID': u'4DCR3Czc58p9Bnk92MQP1R', 'mode': 1}\n",
      "{'energy': 0.41, 'tempo': 109.962, 'speechiness': 0.0317, 'instrumentalness': 0, 'key': 11, 'liveness': 0.113, 'acousticness': 0.442, 'songLength': 270605, 'danceability': 0.61, 'loudness': -9.215, 'valence': 0.115, 'spotifyID': u'1wyNvV8uXr35T8ChEypf8n', 'mode': 0}\n",
      "{'energy': 0.469, 'tempo': 139.975, 'speechiness': 0.0835, 'instrumentalness': 0, 'key': 0, 'liveness': 0.0928, 'acousticness': 0.0358, 'songLength': 201400, 'danceability': 0.838, 'loudness': -7.992, 'valence': 0.77, 'spotifyID': u'3LmvfNUQtglbTrydsdIqFU', 'mode': 1}\n",
      "{'energy': 0.607, 'tempo': 147.207, 'speechiness': 0.0261, 'instrumentalness': 1.38e-05, 'key': 10, 'liveness': 0.088, 'acousticness': 0.0112, 'songLength': 425653, 'danceability': 0.386, 'loudness': -7.7, 'valence': 0.535, 'spotifyID': u'0aym2LBJBk9DAYuHHutrIl', 'mode': 1}\n",
      "{'energy': 0.282, 'tempo': 77.47, 'speechiness': 0.0301, 'instrumentalness': 1.04e-05, 'key': 2, 'liveness': 0.163, 'acousticness': 0.855, 'songLength': 218933, 'danceability': 0.322, 'loudness': -12.516, 'valence': 0.0786, 'spotifyID': u'7yjAL13BeIaT9BKJZBy8b1', 'mode': 1}\n",
      "{'energy': 0.633, 'tempo': 123.816, 'speechiness': 0.0445, 'instrumentalness': 3.07e-05, 'key': 4, 'liveness': 0.31, 'acousticness': 0.0728, 'songLength': 224773, 'danceability': 0.839, 'loudness': -11.353, 'valence': 0.847, 'spotifyID': u'3hVrI7snZMTmHCnbwME47u', 'mode': 0}\n",
      "{'energy': 0.514, 'tempo': 104.076, 'speechiness': 0.116, 'instrumentalness': 0.000112, 'key': 1, 'liveness': 0.0999, 'acousticness': 0.0539, 'songLength': 223893, 'danceability': 0.837, 'loudness': -14.883, 'valence': 0.673, 'spotifyID': u'2GhA8OAODRkEMUq8RYgCeF', 'mode': 1}\n",
      "{'energy': 0.748, 'tempo': 127.965, 'speechiness': 0.0264, 'instrumentalness': 0, 'key': 0, 'liveness': 0.34, 'acousticness': 0.0823, 'songLength': 289133, 'danceability': 0.741, 'loudness': -6.299, 'valence': 0.616, 'spotifyID': u'4vp2J1l5RD4gMZwGFLfRAu', 'mode': 1}\n",
      "{'energy': 0.729, 'tempo': 130.024, 'speechiness': 0.128, 'instrumentalness': 0, 'key': 5, 'liveness': 0.155, 'acousticness': 0.0367, 'songLength': 232747, 'danceability': 0.707, 'loudness': -4.549, 'valence': 0.356, 'spotifyID': u'1vVRApMls6jdY2LN1sRd2r', 'mode': 0}\n",
      "{'energy': 0.462, 'tempo': 128.303, 'speechiness': 0.0279, 'instrumentalness': 0, 'key': 2, 'liveness': 0.0822, 'acousticness': 0.128, 'songLength': 266973, 'danceability': 0.577, 'loudness': -7.989, 'valence': 0.245, 'spotifyID': u'7BD50ATrF3Vab5FQy7vtK8', 'mode': 1}\n",
      "{'energy': 0.529, 'tempo': 82.755, 'speechiness': 0.108, 'instrumentalness': 0, 'key': 3, 'liveness': 0.206, 'acousticness': 0.76, 'songLength': 184333, 'danceability': 0.549, 'loudness': -12.291, 'valence': 0.451, 'spotifyID': u'0YTgZJfVLmJ0b8XAMZKRKg', 'mode': 0}\n"
     ]
    }
   ],
   "source": [
    "import pandas as pd\n",
    "import numpy as np\n",
    "import Tasks2Cindy"
   ]
  },
  {
   "cell_type": "code",
   "execution_count": null,
   "metadata": {
    "collapsed": true
   },
   "outputs": [],
   "source": [
    "final_data = Tasks2Cindy.final_data"
   ]
  },
  {
   "cell_type": "code",
   "execution_count": null,
   "metadata": {
    "collapsed": true
   },
   "outputs": [],
   "source": [
    "songs100 = Tasks2Cindy.top100songs"
   ]
  },
  {
   "cell_type": "code",
   "execution_count": null,
   "metadata": {
    "collapsed": false
   },
   "outputs": [],
   "source": [
    "songs100.loc[19]"
   ]
  },
  {
   "cell_type": "code",
   "execution_count": null,
   "metadata": {
    "collapsed": false
   },
   "outputs": [],
   "source": [
    "art_list = songs100[\"Artist\"].unique().tolist()\n",
    "temp =[artist.split(\"&\") for artist in art_list]\n",
    "temp = reduce(lambda x, y: x + y, temp, [])\n",
    "unique_artists = reduce(lambda x, y: x + y, [artist.split(\"feat.\") for artist in temp], [])\n",
    "unique_artists = [artist.strip() for artist in unique_artists]"
   ]
  },
  {
   "cell_type": "code",
   "execution_count": null,
   "metadata": {
    "collapsed": false
   },
   "outputs": [],
   "source": [
    "temp = reduce(lambda x, y: x + y, [artist.split(\"&\") for artist in songs100[\"Artist\"]], [])\n",
    "temp = reduce(lambda x, y: x + y, [artist.split(\"feat.\") for artist in temp], [])\n",
    "temp = [artist.strip() for artist in temp]\n",
    "all_artists = reduce(lambda x, y: x + y, [artist.split(\" and \") for artist in temp], [])\n",
    "\n",
    "double_artists = pd.Series(all_artists).value_counts().head(13)\n",
    "double_artists"
   ]
  },
  {
   "cell_type": "code",
   "execution_count": null,
   "metadata": {
    "collapsed": false
   },
   "outputs": [],
   "source": [
    "# look for the years associated with each artist\n",
    "# for each artist in doublehits, scan through the artists columnto search \n",
    "#if their name is there, and then return the corresponding Year(s), Score, and Rank\n",
    "\n",
    "\n",
    "#pd.DataFrame([songs100.loc[i] for i, j in enumerate(songs100[\"Artist\"]) if j in \" \".join(double_artists.index)])\n",
    "\n",
    "doubleA_entries = []\n",
    "\n",
    "for artist in double_artists.index:\n",
    "    for ind, value in enumerate(songs100[\"Artist\"]):\n",
    "        if artist in value:\n",
    "            doubleA_entries.append(songs100.loc[ind])\n",
    "\n",
    "#pd.DataFrame(doubleA_entries)"
   ]
  },
  {
   "cell_type": "markdown",
   "metadata": {},
   "source": [
    "A question to look into is to see what the range is for each artist, to see where was the beginning and end of their top stardom? Which artists have lived in the spotlight for the longest?"
   ]
  },
  {
   "cell_type": "code",
   "execution_count": null,
   "metadata": {
    "collapsed": false
   },
   "outputs": [],
   "source": [
    "def decade_indicator(year):\n",
    "    yearRange = range(195, 202)\n",
    "    for yr in yearRange:\n",
    "        if str(yr) in str(year):\n",
    "            return str(yr) + \"0's\"\n",
    "        \n",
    "decade_indicator(1954)"
   ]
  },
  {
   "cell_type": "code",
   "execution_count": null,
   "metadata": {
    "collapsed": false
   },
   "outputs": [],
   "source": [
    "main_df = Tasks2Cindy.main_df\n",
    "main_df[\"Decade\"] = [decade_indicator(year) for year in main_df[\"Year\"]]"
   ]
  },
  {
   "cell_type": "code",
   "execution_count": null,
   "metadata": {
    "collapsed": false
   },
   "outputs": [],
   "source": [
    "# VISUALISATION\n",
    "from matplotlib import pyplot as plt\n",
    "get_ipython().magic(u'matplotlib inline')\n",
    "#import wordcloud\n",
    "#from wordcloud import WordCloud, STOPWORDS\n",
    "plt.style.use('ggplot')\n",
    "import random\n",
    "import nltk\n",
    "import ContentDensity"
   ]
  },
  {
   "cell_type": "code",
   "execution_count": null,
   "metadata": {
    "collapsed": false
   },
   "outputs": [],
   "source": [
    "# lexical density divided by decade, boxplot\n",
    "lexical_with_stop = ContentDensity.lexical_words_in_songs\n",
    "#song_bigram = ContentDensity.song_bigram\n",
    "#song_trigram = ContentDensity.song_trigram"
   ]
  },
  {
   "cell_type": "code",
   "execution_count": null,
   "metadata": {
    "collapsed": false
   },
   "outputs": [],
   "source": [
    "lex_df = main_df\n",
    "lex_df[\"Lexical\"] = lexical_with_stop"
   ]
  },
  {
   "cell_type": "code",
   "execution_count": null,
   "metadata": {
    "collapsed": false
   },
   "outputs": [],
   "source": [
    "main_df.head()"
   ]
  },
  {
   "cell_type": "code",
   "execution_count": null,
   "metadata": {
    "collapsed": false
   },
   "outputs": [],
   "source": [
    "lexical_no_stop = lexical_words_in_songs_no_top\n",
    "lex_df = main_df\n",
    "lex_df[\"Lexical\"] = lexical_no_stop\n",
    "\n",
    "def word_cloud_time(df, beginYear, endYear):\n",
    "    # get range of entries\n",
    "    temp = df[df[\"Year\"] >= beginYear]\n",
    "    lex_list = temp[temp[\"Year\"] <= 1969][\"Lexical\"]\n",
    "    \n",
    "    #lex_list = df[(df[\"Year\"] >= beginYear) and (df[\"Year\"] <= endYear)]\n",
    "    # get the lexical\n",
    "    entries = reduce(lambda x, y: x + y, lex_list, [])\n",
    "    long_string = \" \".join(entries)\n",
    "    \n",
    "    #print long_string\n",
    "    \n",
    "     GENERATE WORD CLOUD\n",
    "    wc.generate(long_string)\n",
    "\n",
    "    # COLORING\n",
    "    def grey_color_func(word, font_size, position, orientation, random_state=None, **kwargs):\n",
    "        return \"hsl(50, 0%%, %d%%)\" % random.randint(10, 50)\n",
    "\n",
    "    # PLOTTING\n",
    "    plt.figure(figsize=(20,10))\n",
    "    plt.imshow(wc.recolor(color_func = grey_color_func, random_state=3))\n",
    "    plt.axis(\"off\")\n",
    "    plt.tight_layout(pad=0)\n",
    "    plt.show()\n",
    "    \n",
    "    \n",
    "word_cloud_time(lex_df, 1950, 1959)    \n",
    "word_cloud_time(lex_df, 1960, 1969)\n",
    "word_cloud_time(lex_df, 1970, 1979)\n",
    "word_cloud_time(lex_df, 1980, 1989)\n",
    "word_cloud_time(lex_df, 1990, 1999)\n",
    "word_cloud_time(lex_df, 2000, 2009)\n",
    "word_cloud_time(lex_df, 2010, 2019)"
   ]
  },
  {
   "cell_type": "code",
   "execution_count": null,
   "metadata": {
    "collapsed": false
   },
   "outputs": [],
   "source": [
    "lexical_density_list = ContentDensity.lexical_density_list\n",
    "\n",
    "main_df[\"Lexical Density\"] = lexical_density_list\n",
    "\n",
    "main_df.boxplot(\"Lexical Density\", \"Decade\")\n",
    "plt.ylabel(\"Lexical Density\")\n",
    "plt.title(\"Lexical Densities By Decade\")\n",
    "plt.suptitle(\"\")\n",
    "\n",
    "plt.show()"
   ]
  },
  {
   "cell_type": "code",
   "execution_count": null,
   "metadata": {
    "collapsed": false
   },
   "outputs": [],
   "source": [
    "# Added this, but can't really run your imports lol\n",
    "lyrical_density_list = ContentDensity.lyrical_density_list\n",
    "\n",
    "main_df[\"Lyrical Density\"] = lyrical_density_list\n",
    "\n",
    "main_df.boxplot(\"Lyrical Density\", \"Decade\")\n",
    "plt.ylabel(\"Lyrical Density\")\n",
    "plt.title(\"Lyrical Densities By Decade\")\n",
    "plt.suptitle(\"\")\n",
    "\n",
    "plt.show()"
   ]
  },
  {
   "cell_type": "code",
   "execution_count": null,
   "metadata": {
    "collapsed": true
   },
   "outputs": [],
   "source": [
    "from NGRAMS import song_bigram, song_trigram\n",
    "\n",
    "main_df = pd.concat([main_df,song_bigram, song_trigram], axis = 1)\n",
    "\n",
    "# tack on song_bigrams and song_trigrams to main_df"
   ]
  },
  {
   "cell_type": "code",
   "execution_count": null,
   "metadata": {
    "collapsed": true
   },
   "outputs": [],
   "source": [
    "# trigram per decade\n",
    "decades = [df[df[\"Year\"] >= (1900 + i*10) and df[\"Year\"] < (1900 + (i+1)*10)]  for i in range(5, 12)]"
   ]
  },
  {
   "cell_type": "code",
   "execution_count": null,
   "metadata": {
    "collapsed": true
   },
   "outputs": [],
   "source": [
    "# maybe create a trigram per decade\n",
    "# timeless - phrases that appear through all time periods\n",
    "# unique - what's unique to one time period"
   ]
  },
  {
   "cell_type": "code",
   "execution_count": null,
   "metadata": {
    "collapsed": true
   },
   "outputs": [],
   "source": [
    "# bar plot of bigrams/trigrams"
   ]
  }
 ],
 "metadata": {
  "anaconda-cloud": {},
  "kernelspec": {
   "display_name": "Python [conda root]",
   "language": "python",
   "name": "conda-root-py"
  },
  "language_info": {
   "codemirror_mode": {
    "name": "ipython",
    "version": 2
   },
   "file_extension": ".py",
   "mimetype": "text/x-python",
   "name": "python",
   "nbconvert_exporter": "python",
   "pygments_lexer": "ipython2",
   "version": "2.7.12"
  }
 },
 "nbformat": 4,
 "nbformat_minor": 1
}
