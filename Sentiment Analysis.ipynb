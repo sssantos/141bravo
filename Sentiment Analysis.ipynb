{
 "cells": [
  {
   "cell_type": "code",
   "execution_count": 1,
   "metadata": {
    "collapsed": true,
    "deletable": true,
    "editable": true
   },
   "outputs": [],
   "source": [
    "import Tasks2\n",
    "import pandas as pd\n",
    "data = Tasks2.final_data"
   ]
  },
  {
   "cell_type": "code",
   "execution_count": 2,
   "metadata": {
    "collapsed": false,
    "deletable": true,
    "editable": true
   },
   "outputs": [],
   "source": [
    "from textblob import TextBlob\n",
    "import nltk\n",
    "from wordcloud import WordCloud\n",
    "#nltk.download()\n",
    "from nltk.corpus import brown\n",
    "sentiment = list()\n",
    "for index, row in data.iterrows():\n",
    "    songlyrics = TextBlob(row[\"Lyric\"])\n",
    "    songsentiment = songlyrics.sentiment\n",
    "    polarity = songsentiment.polarity\n",
    "    subjectivity = songsentiment.subjectivity\n",
    "    uniqueLyric = len(set(row[\"Lyric\"].split(\"\\n\")))\n",
    "    sentiment.append({\"polarity\":polarity, \"subjectivity\":subjectivity, \"uniqueLyric\":uniqueLyric})"
   ]
  },
  {
   "cell_type": "code",
   "execution_count": 3,
   "metadata": {
    "collapsed": false,
    "deletable": true,
    "editable": true
   },
   "outputs": [],
   "source": [
    "sentiment = pd.DataFrame(sentiment)\n",
    "data[sentiment.columns] = sentiment"
   ]
  },
  {
   "cell_type": "code",
   "execution_count": 7,
   "metadata": {
    "collapsed": false,
    "deletable": true,
    "editable": true
   },
   "outputs": [
    {
     "name": "stderr",
     "output_type": "stream",
     "text": [
      "INFO:bokeh.core.state:Session output file 'polarity.html' already exists, will be overwritten.\n"
     ]
    }
   ],
   "source": [
    "from bokeh.io import curdoc\n",
    "from bokeh.plotting import figure\n",
    "from bokeh.charts import Bar\n",
    "from bokeh.models import HoverTool, Span, LinearAxis,Range1d\n",
    "from bokeh.models.widgets import Select\n",
    "from bokeh.models import Span\n",
    "from bokeh.layouts import column, widgetbox,row\n",
    "from bokeh.io import push_notebook,output_notebook,output_file, show\n",
    "output_file(\"polarity.html\")\n",
    "\n",
    "source = data[['Year', 'polarity',\"subjectivity\",'Artist', 'Title']]\n",
    "source.columns = ['x','y','z','Artist', 'Title']\n",
    "\n",
    "hover = HoverTool(tooltips=[\n",
    "    ('Title', '@Title'),\n",
    "    ('Artist', '@Artist'),\n",
    "    ('Year, Polarity', '@x, @y')])\n",
    "p = figure(title=\"Polarity by Year\", tools=[hover],plot_width=600, plot_height=400, y_range=(-.5, 1))\n",
    "hline = Span(location=0, dimension='width', line_color='red', line_width=1)\n",
    "p.renderers.extend([hline])\n",
    "p.circle(x = \"x\", y = \"y\",color= \"orange\",legend = False, source = source)\n",
    "show(p)"
   ]
  },
  {
   "cell_type": "code",
   "execution_count": 9,
   "metadata": {
    "collapsed": false
   },
   "outputs": [
    {
     "name": "stderr",
     "output_type": "stream",
     "text": [
      "INFO:bokeh.core.state:Session output file 'subjectivity.html' already exists, will be overwritten.\n"
     ]
    }
   ],
   "source": [
    "output_file(\"subjectivity.html\")\n",
    "hover = HoverTool(tooltips=[\n",
    "    ('Title', '@Title'),\n",
    "    ('Artist', '@Artist'),\n",
    "    ('Year, Subjectivity', '@x, @z')])\n",
    "p1 = figure(title=\"Subjectivity by Year\", tools=[hover], plot_width=600, plot_height=400, y_range=(0, 1))\n",
    "hline = Span(location=.5, dimension='width', line_color='red', line_width=1)\n",
    "p1.renderers.extend([hline])\n",
    "p1.circle(x = \"x\", y = \"z\", color = \"green\", legend = False, source = source)\n",
    "show(p1)"
   ]
  },
  {
   "cell_type": "code",
   "execution_count": 5,
   "metadata": {
    "collapsed": false,
    "deletable": true,
    "editable": true
   },
   "outputs": [
    {
     "data": {
      "text/plain": [
       "Sentiment(polarity=-0.1, subjectivity=0.4)"
      ]
     },
     "execution_count": 5,
     "metadata": {},
     "output_type": "execute_result"
    }
   ],
   "source": [
    "song = TextBlob('Im on that next shit now')\n",
    "song.sentiment"
   ]
  },
  {
   "cell_type": "code",
   "execution_count": 6,
   "metadata": {
    "collapsed": false,
    "deletable": true,
    "editable": true
   },
   "outputs": [
    {
     "data": {
      "text/html": [
       "\n",
       "    <div class=\"bk-root\">\n",
       "        <a href=\"http://bokeh.pydata.org\" target=\"_blank\" class=\"bk-logo bk-logo-small bk-logo-notebook\"></a>\n",
       "        <span id=\"ed665e30-f3ff-4888-be79-2d2ded797371\">Loading BokehJS ...</span>\n",
       "    </div>"
      ]
     },
     "metadata": {},
     "output_type": "display_data"
    },
    {
     "data": {
      "application/javascript": [
       "\n",
       "(function(global) {\n",
       "  function now() {\n",
       "    return new Date();\n",
       "  }\n",
       "\n",
       "  var force = true;\n",
       "\n",
       "  if (typeof (window._bokeh_onload_callbacks) === \"undefined\" || force === true) {\n",
       "    window._bokeh_onload_callbacks = [];\n",
       "    window._bokeh_is_loading = undefined;\n",
       "  }\n",
       "\n",
       "\n",
       "  \n",
       "  if (typeof (window._bokeh_timeout) === \"undefined\" || force === true) {\n",
       "    window._bokeh_timeout = Date.now() + 5000;\n",
       "    window._bokeh_failed_load = false;\n",
       "  }\n",
       "\n",
       "  var NB_LOAD_WARNING = {'data': {'text/html':\n",
       "     \"<div style='background-color: #fdd'>\\n\"+\n",
       "     \"<p>\\n\"+\n",
       "     \"BokehJS does not appear to have successfully loaded. If loading BokehJS from CDN, this \\n\"+\n",
       "     \"may be due to a slow or bad network connection. Possible fixes:\\n\"+\n",
       "     \"</p>\\n\"+\n",
       "     \"<ul>\\n\"+\n",
       "     \"<li>re-rerun `output_notebook()` to attempt to load from CDN again, or</li>\\n\"+\n",
       "     \"<li>use INLINE resources instead, as so:</li>\\n\"+\n",
       "     \"</ul>\\n\"+\n",
       "     \"<code>\\n\"+\n",
       "     \"from bokeh.resources import INLINE\\n\"+\n",
       "     \"output_notebook(resources=INLINE)\\n\"+\n",
       "     \"</code>\\n\"+\n",
       "     \"</div>\"}};\n",
       "\n",
       "  function display_loaded() {\n",
       "    if (window.Bokeh !== undefined) {\n",
       "      document.getElementById(\"ed665e30-f3ff-4888-be79-2d2ded797371\").textContent = \"BokehJS successfully loaded.\";\n",
       "    } else if (Date.now() < window._bokeh_timeout) {\n",
       "      setTimeout(display_loaded, 100)\n",
       "    }\n",
       "  }\n",
       "\n",
       "  function run_callbacks() {\n",
       "    window._bokeh_onload_callbacks.forEach(function(callback) { callback() });\n",
       "    delete window._bokeh_onload_callbacks\n",
       "    console.info(\"Bokeh: all callbacks have finished\");\n",
       "  }\n",
       "\n",
       "  function load_libs(js_urls, callback) {\n",
       "    window._bokeh_onload_callbacks.push(callback);\n",
       "    if (window._bokeh_is_loading > 0) {\n",
       "      console.log(\"Bokeh: BokehJS is being loaded, scheduling callback at\", now());\n",
       "      return null;\n",
       "    }\n",
       "    if (js_urls == null || js_urls.length === 0) {\n",
       "      run_callbacks();\n",
       "      return null;\n",
       "    }\n",
       "    console.log(\"Bokeh: BokehJS not loaded, scheduling load and callback at\", now());\n",
       "    window._bokeh_is_loading = js_urls.length;\n",
       "    for (var i = 0; i < js_urls.length; i++) {\n",
       "      var url = js_urls[i];\n",
       "      var s = document.createElement('script');\n",
       "      s.src = url;\n",
       "      s.async = false;\n",
       "      s.onreadystatechange = s.onload = function() {\n",
       "        window._bokeh_is_loading--;\n",
       "        if (window._bokeh_is_loading === 0) {\n",
       "          console.log(\"Bokeh: all BokehJS libraries loaded\");\n",
       "          run_callbacks()\n",
       "        }\n",
       "      };\n",
       "      s.onerror = function() {\n",
       "        console.warn(\"failed to load library \" + url);\n",
       "      };\n",
       "      console.log(\"Bokeh: injecting script tag for BokehJS library: \", url);\n",
       "      document.getElementsByTagName(\"head\")[0].appendChild(s);\n",
       "    }\n",
       "  };var element = document.getElementById(\"ed665e30-f3ff-4888-be79-2d2ded797371\");\n",
       "  if (element == null) {\n",
       "    console.log(\"Bokeh: ERROR: autoload.js configured with elementid 'ed665e30-f3ff-4888-be79-2d2ded797371' but no matching script tag was found. \")\n",
       "    return false;\n",
       "  }\n",
       "\n",
       "  var js_urls = [\"https://cdn.pydata.org/bokeh/release/bokeh-0.12.4.min.js\", \"https://cdn.pydata.org/bokeh/release/bokeh-widgets-0.12.4.min.js\"];\n",
       "\n",
       "  var inline_js = [\n",
       "    function(Bokeh) {\n",
       "      Bokeh.set_log_level(\"info\");\n",
       "    },\n",
       "    \n",
       "    function(Bokeh) {\n",
       "      \n",
       "      document.getElementById(\"ed665e30-f3ff-4888-be79-2d2ded797371\").textContent = \"BokehJS is loading...\";\n",
       "    },\n",
       "    function(Bokeh) {\n",
       "      console.log(\"Bokeh: injecting CSS: https://cdn.pydata.org/bokeh/release/bokeh-0.12.4.min.css\");\n",
       "      Bokeh.embed.inject_css(\"https://cdn.pydata.org/bokeh/release/bokeh-0.12.4.min.css\");\n",
       "      console.log(\"Bokeh: injecting CSS: https://cdn.pydata.org/bokeh/release/bokeh-widgets-0.12.4.min.css\");\n",
       "      Bokeh.embed.inject_css(\"https://cdn.pydata.org/bokeh/release/bokeh-widgets-0.12.4.min.css\");\n",
       "    }\n",
       "  ];\n",
       "\n",
       "  function run_inline_js() {\n",
       "    \n",
       "    if ((window.Bokeh !== undefined) || (force === true)) {\n",
       "      for (var i = 0; i < inline_js.length; i++) {\n",
       "        inline_js[i](window.Bokeh);\n",
       "      }if (force === true) {\n",
       "        display_loaded();\n",
       "      }} else if (Date.now() < window._bokeh_timeout) {\n",
       "      setTimeout(run_inline_js, 100);\n",
       "    } else if (!window._bokeh_failed_load) {\n",
       "      console.log(\"Bokeh: BokehJS failed to load within specified timeout.\");\n",
       "      window._bokeh_failed_load = true;\n",
       "    } else if (force !== true) {\n",
       "      var cell = $(document.getElementById(\"ed665e30-f3ff-4888-be79-2d2ded797371\")).parents('.cell').data().cell;\n",
       "      cell.output_area.append_execute_result(NB_LOAD_WARNING)\n",
       "    }\n",
       "\n",
       "  }\n",
       "\n",
       "  if (window._bokeh_is_loading === 0) {\n",
       "    console.log(\"Bokeh: BokehJS loaded, going straight to plotting\");\n",
       "    run_inline_js();\n",
       "  } else {\n",
       "    load_libs(js_urls, function() {\n",
       "      console.log(\"Bokeh: BokehJS plotting callback run at\", now());\n",
       "      run_inline_js();\n",
       "    });\n",
       "  }\n",
       "}(this));"
      ]
     },
     "metadata": {},
     "output_type": "display_data"
    },
    {
     "data": {
      "text/html": [
       "\n",
       "\n",
       "    <div class=\"bk-root\">\n",
       "        <div class=\"bk-plotdiv\" id=\"84dd431a-5300-487c-abb5-10861ceb58ea\"></div>\n",
       "    </div>\n",
       "<script type=\"text/javascript\">\n",
       "  \n",
       "  (function(global) {\n",
       "    function now() {\n",
       "      return new Date();\n",
       "    }\n",
       "  \n",
       "    var force = false;\n",
       "  \n",
       "    if (typeof (window._bokeh_onload_callbacks) === \"undefined\" || force === true) {\n",
       "      window._bokeh_onload_callbacks = [];\n",
       "      window._bokeh_is_loading = undefined;\n",
       "    }\n",
       "  \n",
       "  \n",
       "    \n",
       "    if (typeof (window._bokeh_timeout) === \"undefined\" || force === true) {\n",
       "      window._bokeh_timeout = Date.now() + 0;\n",
       "      window._bokeh_failed_load = false;\n",
       "    }\n",
       "  \n",
       "    var NB_LOAD_WARNING = {'data': {'text/html':\n",
       "       \"<div style='background-color: #fdd'>\\n\"+\n",
       "       \"<p>\\n\"+\n",
       "       \"BokehJS does not appear to have successfully loaded. If loading BokehJS from CDN, this \\n\"+\n",
       "       \"may be due to a slow or bad network connection. Possible fixes:\\n\"+\n",
       "       \"</p>\\n\"+\n",
       "       \"<ul>\\n\"+\n",
       "       \"<li>re-rerun `output_notebook()` to attempt to load from CDN again, or</li>\\n\"+\n",
       "       \"<li>use INLINE resources instead, as so:</li>\\n\"+\n",
       "       \"</ul>\\n\"+\n",
       "       \"<code>\\n\"+\n",
       "       \"from bokeh.resources import INLINE\\n\"+\n",
       "       \"output_notebook(resources=INLINE)\\n\"+\n",
       "       \"</code>\\n\"+\n",
       "       \"</div>\"}};\n",
       "  \n",
       "    function display_loaded() {\n",
       "      if (window.Bokeh !== undefined) {\n",
       "        document.getElementById(\"84dd431a-5300-487c-abb5-10861ceb58ea\").textContent = \"BokehJS successfully loaded.\";\n",
       "      } else if (Date.now() < window._bokeh_timeout) {\n",
       "        setTimeout(display_loaded, 100)\n",
       "      }\n",
       "    }\n",
       "  \n",
       "    function run_callbacks() {\n",
       "      window._bokeh_onload_callbacks.forEach(function(callback) { callback() });\n",
       "      delete window._bokeh_onload_callbacks\n",
       "      console.info(\"Bokeh: all callbacks have finished\");\n",
       "    }\n",
       "  \n",
       "    function load_libs(js_urls, callback) {\n",
       "      window._bokeh_onload_callbacks.push(callback);\n",
       "      if (window._bokeh_is_loading > 0) {\n",
       "        console.log(\"Bokeh: BokehJS is being loaded, scheduling callback at\", now());\n",
       "        return null;\n",
       "      }\n",
       "      if (js_urls == null || js_urls.length === 0) {\n",
       "        run_callbacks();\n",
       "        return null;\n",
       "      }\n",
       "      console.log(\"Bokeh: BokehJS not loaded, scheduling load and callback at\", now());\n",
       "      window._bokeh_is_loading = js_urls.length;\n",
       "      for (var i = 0; i < js_urls.length; i++) {\n",
       "        var url = js_urls[i];\n",
       "        var s = document.createElement('script');\n",
       "        s.src = url;\n",
       "        s.async = false;\n",
       "        s.onreadystatechange = s.onload = function() {\n",
       "          window._bokeh_is_loading--;\n",
       "          if (window._bokeh_is_loading === 0) {\n",
       "            console.log(\"Bokeh: all BokehJS libraries loaded\");\n",
       "            run_callbacks()\n",
       "          }\n",
       "        };\n",
       "        s.onerror = function() {\n",
       "          console.warn(\"failed to load library \" + url);\n",
       "        };\n",
       "        console.log(\"Bokeh: injecting script tag for BokehJS library: \", url);\n",
       "        document.getElementsByTagName(\"head\")[0].appendChild(s);\n",
       "      }\n",
       "    };var element = document.getElementById(\"84dd431a-5300-487c-abb5-10861ceb58ea\");\n",
       "    if (element == null) {\n",
       "      console.log(\"Bokeh: ERROR: autoload.js configured with elementid '84dd431a-5300-487c-abb5-10861ceb58ea' but no matching script tag was found. \")\n",
       "      return false;\n",
       "    }\n",
       "  \n",
       "    var js_urls = [];\n",
       "  \n",
       "    var inline_js = [\n",
       "      function(Bokeh) {\n",
       "        (function() {\n",
       "          var fn = function() {\n",
       "            var docs_json = {\"1cc30e02-7782-4cf3-8c5e-50400cf1c7a5\":{\"roots\":{\"references\":[{\"attributes\":{\"callback\":null},\"id\":\"a3d09a6c-ac22-4984-bb78-9f1e1ce55b89\",\"type\":\"DataRange1d\"},{\"attributes\":{\"plot\":null,\"text\":\"Sentiment by Year\"},\"id\":\"cf5f3be2-5760-4358-86ff-47e1361493a8\",\"type\":\"Title\"},{\"attributes\":{\"formatter\":{\"id\":\"37058219-6001-4c5b-a9c2-f0b517b823c6\",\"type\":\"BasicTickFormatter\"},\"plot\":{\"id\":\"38754d38-d5a8-4757-85b4-0084abee0653\",\"subtype\":\"Figure\",\"type\":\"Plot\"},\"ticker\":{\"id\":\"d7df59f7-8647-461c-a94e-7e03c08cbd4d\",\"type\":\"BasicTicker\"}},\"id\":\"c23fa7b3-dce3-4edc-a00f-dcb231d95fb9\",\"type\":\"LinearAxis\"},{\"attributes\":{\"formatter\":{\"id\":\"111879e0-ee56-4f9c-8e28-3e1db6d23693\",\"type\":\"BasicTickFormatter\"},\"plot\":{\"id\":\"38754d38-d5a8-4757-85b4-0084abee0653\",\"subtype\":\"Figure\",\"type\":\"Plot\"},\"ticker\":{\"id\":\"b2534fdd-9e6b-4771-a2bf-78e6cfc99994\",\"type\":\"BasicTicker\"}},\"id\":\"d373d6c6-7a96-467c-85f8-af0d5e507176\",\"type\":\"LinearAxis\"},{\"attributes\":{\"fill_alpha\":{\"value\":0.1},\"fill_color\":{\"value\":\"#1f77b4\"},\"line_alpha\":{\"value\":0.1},\"line_color\":{\"value\":\"#1f77b4\"},\"x\":{\"field\":\"x\"},\"y\":{\"field\":\"y\"}},\"id\":\"d1537f6a-708b-47c8-a883-aa6f38fe96a3\",\"type\":\"Circle\"},{\"attributes\":{},\"id\":\"b2534fdd-9e6b-4771-a2bf-78e6cfc99994\",\"type\":\"BasicTicker\"},{\"attributes\":{\"active_drag\":\"auto\",\"active_scroll\":\"auto\",\"active_tap\":\"auto\",\"tools\":[{\"id\":\"d0dc6035-258f-43db-9573-a8345686b0b3\",\"type\":\"HoverTool\"}]},\"id\":\"bc9b57bf-e532-421e-8cf9-2e59a446274c\",\"type\":\"Toolbar\"},{\"attributes\":{\"callback\":null,\"column_names\":[\"y\",\"x\",\"Title\",\"index\",\"Artist\"],\"data\":{\"Artist\":[\"Usher\",\"fun. feat. Janelle Monae\",\"Emotions\",\"Maroon 5\",\"Phil Collins\",\"B.J. Thomas\",\"Puff Daddy & Faith Evans feat. 112\",\"John Cougar\",\"Roberta Flack\",\"Elvis Presley\",\"Foreigner\",\"Mary J. Blige\",\"All-4-One\",\"Sinead O'Connor\",\"Lionel Richie\",\"The Knack\",\"Lionel Richie\",\"Wild Cherry\",\"Carly Simon\",\"Michael Jackson\",\"The Steve Miller Band\",\"Coolio feat. L.V.\",\"Donna Summer\",\"Shania Twain\",\"Marvin Gaye\",\"Nelly feat. Kelly Rowland\",\"Bruno Mars\",\"The Archies\",\"Diana Ross\",\"Dionne and Friends\",\"Paula Abdul\",\"Paul McCartney and Stevie Wonder\",\"Maroon 5 feat. Christina Aguilera\",\"Tag Team\",\"the 5th Dimension\",\"Joan Jett & the Blackhearts\",\"Stevie B\",\"Brandy & Monica\",\"John Lennon\",\"J. Geils Band\",\"Ace of Base\",\"Timbaland feat. OneRepublic \",\"Kanye West feat. Jamie Foxx\",\"The Monkees\",\"Ke$ha\",\"Kenny Rogers\",\"Bee Gees\",\"Mario\",\"Blondie\",\"The Black Eyed Peas\",\"Boyz II Men\",\"Whitney Houston\",\"Alicia Keys\",\"Elton John\",\"Carly Rae Jepsen\",\"Andy Gibb\",\"The Beatles\",\"Tommy Edwards\",\"Dawn feat. Tony Orlando\",\"Nickelback\",\"Paul McCartney and Michael Jackson\",\"Queen\",\"The Bee Gees\",\"Marvin Gaye\",\"Wings\",\"Savage Garden\",\"Mariah Carey & Boyz II Men\",\"Johnny Horton\",\"Bobby Lewis\",\"Adele\",\"Irene Cara\",\"Gotye feat. Kimbra\",\"The Police\",\"Next\",\"Andy Gibb\",\"Flo Rida feat. T-Pain\",\"Rihanna feat. Calvin Harris\",\"Survivor\",\"Bee Gees\",\"Chic\",\"Percy Faith\",\"Boyz II Men\",\"Bryan Adams\",\"Jewel\",\"Rod Stewart\",\"Diana Ross & Lionel Richie\",\"Kim Carnes\",\"Usher feat. Lil Jon & Ludacris\",\"Toni Braxton\",\"Mariah Carey\",\"The Beatles\",\"Debby Boone\",\"Olivia Newton-John\",\"Los Del Rio\",\"The Black Eyed Peas\",\"LMFAO feat. Lauren Bennett & GoonRock\",\"LeAnn Rimes\",\"Bobby Darin\",\"Santana feat. Rob Thomas\",\"Chubby Checker\"],\"Title\":[\"You Make Me Wanna...\",\"We Are Young\",\"Best of My Love\",\"One More Night\",\"Another Day in Paradise\",\"Raindrops Keep Fallin' on My Head\",\"I'll Be Missing You\",\"Hurts So Good\",\"Killing Me Softly With His Song\",\"Are You Lonesome To-Night?\",\"Waiting for a Girl Like You\",\"Family Affair\",\"I Swear\",\"Nothing Compares 2 U\",\"All Night Long (All Night)\",\"My Sharona\",\"Say You, Say Me\",\"Play That Funky Music\",\"You're So Vain\",\"Billie Jean\",\"Abracadabra\",\"Gangsta's Paradise\",\"Hot Stuff\",\"You're Still the One\",\"I Heard It Through the Grapevine\",\"Dilemma\",\"Just the Way You Are\",\"Sugar, Sugar\",\"Upside Down\",\"That's What Friends Are For\",\"Rush Rush\",\"Ebony and Ivory\",\"Moves Like Jagger\",\"Whoomp! (There It Is)\",\"Aquarius/Let the Sunshine In\",\"I Love Rock 'n Roll\",\"Because I Love You (The Postman Song)\",\"The Boy Is Mine\",\"(Just Like) Starting Over\",\"Centerfold\",\"The Sign\",\"Apologize\",\"Gold Digger\",\"I'm a Believer\",\"Tik Tok\",\"Lady\",\"Stayin' Alive\",\"Let Me Love You\",\"Call Me\",\"Boom Boom Pow\",\"End of the Road\",\"I Will Always Love You\",\"No One\",\"Candle in the Wind 1997\",\"Call Me Maybe\",\"Shadow Dancing\",\"I Want to Hold Your Hand\",\"It's All in the Game\",\"Tie a Yellow Ribbon Round the Ole Oak Tree\",\"How You Remind Me\",\"Say, Say, Say\",\"Another One Bites the Dust\",\"Night Fever\",\"Let's Get It On\",\"Silly Love Songs\",\"Truly, Madly, Deeply\",\"One Sweet Day\",\"The Battle of New Orleans\",\"Tossin' and Turnin'\",\"Rolling in the Deep\",\"Flashdance...What a Feeling,\",\"Somebody That I Used to Know\",\"Every Breath You Take\",\"Too Close\",\"I Just Want to Be Your Everything\",\"Low\",\"We Found Love\",\"Eye of the Tiger\",\"How Deep Is Your Love\",\"Le Freak\",\"The Theme from 'A Summer Place'\",\"I'll Make Love to You\",\"(Everything I Do) I Do It for You\",\"Foolish Games\",\"Tonight's the Night (Gonna Be Alright)\",\"Endless Love\",\"Bette Davis Eyes\",\"Yeah!\",\"Un-Break My Heart\",\"We Belong Together\",\"Hey Jude\",\"You Light Up My Life\",\"Physical\",\"Macarena (Bayside Boys Mix)\",\"I Gotta Feeling\",\"Party Rock Anthem\",\"How Do I Live\",\"Mack the Knife\",\"Smooth\",\"The Twist\"],\"index\":[0,1,2,3,4,5,6,7,8,9,10,11,12,13,14,15,16,17,18,19,20,21,22,23,24,25,26,27,28,29,30,31,32,33,34,35,36,37,38,39,40,41,42,43,44,45,46,47,48,49,50,51,52,53,54,55,56,57,58,59,60,61,62,63,64,65,66,67,68,69,70,71,72,73,74,75,76,77,78,79,80,81,82,83,84,85,86,87,88,89,90,91,92,93,94,95,96,97,98,99],\"x\":[1997,2012,1977,2012,1989,1970,1997,1982,1973,1960,1981,2001,1994,1990,1983,1979,1985,1976,1973,1983,1982,1995,1979,1998,1968,2002,2010,1969,1980,1986,1991,1982,2011,1993,1969,1982,1990,1998,1980,1982,1994,2007,2005,1966,2010,1980,1978,2005,1980,2009,1992,1992,2007,1997,2012,1978,1964,1958,1973,2001,1983,1980,1978,1973,1976,1998,1995,1959,1961,2011,1983,2012,1983,1998,1977,2008,2011,1982,1977,1978,1960,1994,1991,1997,1976,1981,1981,2004,1996,2005,1968,1977,1981,1996,2009,2011,1997,1959,1999,1960],\"y\":[28,33,39,32,30,29,55,27,17,25,30,40,36,29,37,20,21,33,26,35,36,39,31,18,42,37,32,23,28,25,35,12,36,100,26,28,15,54,21,49,19,22,52,25,40,21,30,67,33,62,47,19,25,31,33,22,14,18,24,24,21,38,34,44,25,23,24,57,26,31,34,30,35,43,19,66,12,23,20,22,17,30,24,32,22,45,29,60,32,52,72,17,22,27,51,42,26,29,26,18]}},\"id\":\"ec91905f-3950-4194-af52-7f60ed744eae\",\"type\":\"ColumnDataSource\"},{\"attributes\":{\"callback\":null,\"plot\":{\"id\":\"38754d38-d5a8-4757-85b4-0084abee0653\",\"subtype\":\"Figure\",\"type\":\"Plot\"},\"tooltips\":[[\"Title\",\"@Title\"],[\"Artist\",\"@Artist\"]]},\"id\":\"d0dc6035-258f-43db-9573-a8345686b0b3\",\"type\":\"HoverTool\"},{\"attributes\":{\"callback\":null},\"id\":\"500399ec-3058-4b69-9e4b-86f7e793f240\",\"type\":\"DataRange1d\"},{\"attributes\":{\"fill_color\":{\"value\":\"orange\"},\"line_color\":{\"value\":\"orange\"},\"x\":{\"field\":\"x\"},\"y\":{\"field\":\"y\"}},\"id\":\"7776b7a4-1e39-4665-af6a-6138b13ccf74\",\"type\":\"Circle\"},{\"attributes\":{\"below\":[{\"id\":\"c23fa7b3-dce3-4edc-a00f-dcb231d95fb9\",\"type\":\"LinearAxis\"}],\"left\":[{\"id\":\"d373d6c6-7a96-467c-85f8-af0d5e507176\",\"type\":\"LinearAxis\"}],\"renderers\":[{\"id\":\"c23fa7b3-dce3-4edc-a00f-dcb231d95fb9\",\"type\":\"LinearAxis\"},{\"id\":\"2d64c5fe-c908-4233-a78b-9b16c6de43d9\",\"type\":\"Grid\"},{\"id\":\"d373d6c6-7a96-467c-85f8-af0d5e507176\",\"type\":\"LinearAxis\"},{\"id\":\"f2da9cda-a3f4-49be-b452-129d64a4197a\",\"type\":\"Grid\"},{\"id\":\"3f9f13fd-8060-4b2b-8110-f76e277d386e\",\"type\":\"Span\"},{\"id\":\"9490b0e1-0ef6-42af-8de3-12851bcae379\",\"type\":\"GlyphRenderer\"}],\"title\":{\"id\":\"cf5f3be2-5760-4358-86ff-47e1361493a8\",\"type\":\"Title\"},\"tool_events\":{\"id\":\"c6061c3e-4c38-4f97-8385-c218b80ffe69\",\"type\":\"ToolEvents\"},\"toolbar\":{\"id\":\"bc9b57bf-e532-421e-8cf9-2e59a446274c\",\"type\":\"Toolbar\"},\"x_range\":{\"id\":\"a3d09a6c-ac22-4984-bb78-9f1e1ce55b89\",\"type\":\"DataRange1d\"},\"y_range\":{\"id\":\"500399ec-3058-4b69-9e4b-86f7e793f240\",\"type\":\"DataRange1d\"}},\"id\":\"38754d38-d5a8-4757-85b4-0084abee0653\",\"subtype\":\"Figure\",\"type\":\"Plot\"},{\"attributes\":{},\"id\":\"111879e0-ee56-4f9c-8e28-3e1db6d23693\",\"type\":\"BasicTickFormatter\"},{\"attributes\":{\"dimension\":1,\"plot\":{\"id\":\"38754d38-d5a8-4757-85b4-0084abee0653\",\"subtype\":\"Figure\",\"type\":\"Plot\"},\"ticker\":{\"id\":\"b2534fdd-9e6b-4771-a2bf-78e6cfc99994\",\"type\":\"BasicTicker\"}},\"id\":\"f2da9cda-a3f4-49be-b452-129d64a4197a\",\"type\":\"Grid\"},{\"attributes\":{},\"id\":\"37058219-6001-4c5b-a9c2-f0b517b823c6\",\"type\":\"BasicTickFormatter\"},{\"attributes\":{\"data_source\":{\"id\":\"ec91905f-3950-4194-af52-7f60ed744eae\",\"type\":\"ColumnDataSource\"},\"glyph\":{\"id\":\"7776b7a4-1e39-4665-af6a-6138b13ccf74\",\"type\":\"Circle\"},\"hover_glyph\":null,\"nonselection_glyph\":{\"id\":\"d1537f6a-708b-47c8-a883-aa6f38fe96a3\",\"type\":\"Circle\"},\"selection_glyph\":null},\"id\":\"9490b0e1-0ef6-42af-8de3-12851bcae379\",\"type\":\"GlyphRenderer\"},{\"attributes\":{\"plot\":{\"id\":\"38754d38-d5a8-4757-85b4-0084abee0653\",\"subtype\":\"Figure\",\"type\":\"Plot\"},\"ticker\":{\"id\":\"d7df59f7-8647-461c-a94e-7e03c08cbd4d\",\"type\":\"BasicTicker\"}},\"id\":\"2d64c5fe-c908-4233-a78b-9b16c6de43d9\",\"type\":\"Grid\"},{\"attributes\":{},\"id\":\"d7df59f7-8647-461c-a94e-7e03c08cbd4d\",\"type\":\"BasicTicker\"},{\"attributes\":{\"line_color\":{\"value\":\"red\"},\"location\":0,\"plot\":null},\"id\":\"3f9f13fd-8060-4b2b-8110-f76e277d386e\",\"type\":\"Span\"},{\"attributes\":{},\"id\":\"c6061c3e-4c38-4f97-8385-c218b80ffe69\",\"type\":\"ToolEvents\"}],\"root_ids\":[\"38754d38-d5a8-4757-85b4-0084abee0653\"]},\"title\":\"Bokeh Application\",\"version\":\"0.12.4\"}};\n",
       "            var render_items = [{\"docid\":\"1cc30e02-7782-4cf3-8c5e-50400cf1c7a5\",\"elementid\":\"84dd431a-5300-487c-abb5-10861ceb58ea\",\"modelid\":\"38754d38-d5a8-4757-85b4-0084abee0653\"}];\n",
       "            \n",
       "            Bokeh.embed.embed_items(docs_json, render_items);\n",
       "          };\n",
       "          if (document.readyState != \"loading\") fn();\n",
       "          else document.addEventListener(\"DOMContentLoaded\", fn);\n",
       "        })();\n",
       "      },\n",
       "      function(Bokeh) {\n",
       "      }\n",
       "    ];\n",
       "  \n",
       "    function run_inline_js() {\n",
       "      \n",
       "      if ((window.Bokeh !== undefined) || (force === true)) {\n",
       "        for (var i = 0; i < inline_js.length; i++) {\n",
       "          inline_js[i](window.Bokeh);\n",
       "        }if (force === true) {\n",
       "          display_loaded();\n",
       "        }} else if (Date.now() < window._bokeh_timeout) {\n",
       "        setTimeout(run_inline_js, 100);\n",
       "      } else if (!window._bokeh_failed_load) {\n",
       "        console.log(\"Bokeh: BokehJS failed to load within specified timeout.\");\n",
       "        window._bokeh_failed_load = true;\n",
       "      } else if (force !== true) {\n",
       "        var cell = $(document.getElementById(\"84dd431a-5300-487c-abb5-10861ceb58ea\")).parents('.cell').data().cell;\n",
       "        cell.output_area.append_execute_result(NB_LOAD_WARNING)\n",
       "      }\n",
       "  \n",
       "    }\n",
       "  \n",
       "    if (window._bokeh_is_loading === 0) {\n",
       "      console.log(\"Bokeh: BokehJS loaded, going straight to plotting\");\n",
       "      run_inline_js();\n",
       "    } else {\n",
       "      load_libs(js_urls, function() {\n",
       "        console.log(\"Bokeh: BokehJS plotting callback run at\", now());\n",
       "        run_inline_js();\n",
       "      });\n",
       "    }\n",
       "  }(this));\n",
       "</script>"
      ]
     },
     "metadata": {},
     "output_type": "display_data"
    }
   ],
   "source": [
    "output_notebook()\n",
    "\n",
    "source = data[['Year', 'uniqueLyric','Artist', 'Title']]\n",
    "source.columns = ['x','y','Artist', 'Title']\n",
    "\n",
    "hover = HoverTool(tooltips=[\n",
    "    ('Title', '@Title'),\n",
    "    ('Artist', '@Artist')])\n",
    "\n",
    "p = figure(title=\"Sentiment by Year\", tools=[hover])\n",
    "p.renderers.extend([hline])\n",
    "p.circle(x = \"x\", y = \"y\",color= \"orange\",legend = False, source = source)\n",
    "show(p)"
   ]
  },
  {
   "cell_type": "code",
   "execution_count": 7,
   "metadata": {
    "collapsed": false,
    "deletable": true,
    "editable": true
   },
   "outputs": [
    {
     "data": {
      "text/plain": [
       "TextBlob(\"This is what you do.This is what you do.This is what you do.This is what you do..You make me wanna leave the one I'm with to.Start a new relationship with you, this is what you do.Think about a ring and all the things that come along with.You make me, you make me..Leave the one I'm with.Start a new relationship with you, this is what you do.Think about a ring and all the things that come along with.You make me, you make me..Before anything became between us.You were like my best friend.The one I used to run and talk to.When me and my girl was having problems.You used to say it would be okay.Suggest little nice things I should do.And when I go home at night and lay my head down.All I seem to think about was you..And how you make me wanna leave the one I'm with.Start a new relationship with you, this is what you do.Think about a ring and all the things that come along with.You make me, you make me..Leave the one I'm with.Start a new relationship with you, this is what you do.Think about a ring and all the things that come along with.You make me, you make me..Now what's bad is you're the one that hooked us up.Knowing it should have been you.And what's sad is that I love her but I'm falling for you.What should I do, should I tell my baby bye-bye.Should I do exactly what I feel inside.'Cause I, I don't wanna go, don't need to stay.But I really need to get it together..You make me wanna leave the one I'm with to.Start a new relationship with you, this is what you do.Think about a ring and all the things that come along with.You make me, you make me..Leave the one I'm with.Start a new relationship with you, this is what you do.Think about a ring and all the things that come along with.You make me, you make me..At this point the situation's out of control.I never meant to hurt her but I gotta let her go.And she may not understand it why all of this is going on.I tried, I tried to fight but the feeling's just too strong..You make me wanna.You make me wanna.You make me wanna.You make me wanna..You make me wanna.You make me wanna.You make me wanna..You make me wanna leave the one I'm with to.Start a new relationship with you, this is what you do.Think about a ring and all the things that come along with.You make me, you make me..Leave the one I'm with.Start a new relationship with you, this is what you do.Think about a ring and all the things that come along with.You make me, you make me..You make me wanna leave the one I'm with to.Start a new relationship with you, this is what you do.Think about a ring and all the things that come along with.You make me, you make me..Leave the one I'm with.Start a new relationship with you, this is what you do.Think about a ring and all the things that come along with.You make me, you make me\")"
      ]
     },
     "execution_count": 7,
     "metadata": {},
     "output_type": "execute_result"
    }
   ],
   "source": [
    "TextBlob(str(data['Lyric'][0].replace(\"\\n\",\".\")))"
   ]
  },
  {
   "cell_type": "code",
   "execution_count": 8,
   "metadata": {
    "collapsed": false,
    "deletable": true,
    "editable": true
   },
   "outputs": [
    {
     "data": {
      "text/plain": [
       "{u'',\n",
       " u'(Good evening, ladies and gentleman)',\n",
       " u'(Hey, hey, hey-ey-ey)',\n",
       " u'(Let it out and let it in)',\n",
       " u'(Make it through)',\n",
       " u'(Okay)',\n",
       " u'(Ooh)',\n",
       " u'(Well, then, a-na)',\n",
       " u'(Whoo)',\n",
       " u'(Yeah)',\n",
       " u'Ah nanananananana cause I wanna na na na',\n",
       " u'And any time you feel the pain',\n",
       " u\"And don't you know that it's just you\",\n",
       " u'And make it better',\n",
       " u\"Better, better, better, better, (I'm begging you) better\",\n",
       " u'By making his world a little colder',\n",
       " u\"Don't carry the world upon your shoulder\",\n",
       " u\"For well you know that it's a fool\",\n",
       " u'Hey Jude, begin',\n",
       " u\"Hey Jude, don't be afraid\",\n",
       " u\"Hey Jude, don't let me down\",\n",
       " u\"Hey Jude, don't make it bad\",\n",
       " u'Hey Jude, refrain',\n",
       " u\"Hey Jude, you'll do\",\n",
       " u\"Hey, Jude, don't make it bad\",\n",
       " u'Hey, Jude, wo-o-ow!',\n",
       " u'Jude, Jude, Jude, Jude, Jude',\n",
       " u'Jude, Judy, Judy, Judy, Judy, Judy',\n",
       " u\"Jude, you're not gonna break it\",\n",
       " u\"Na na na (don't make it bad, Jude) na-na-na-naa\",\n",
       " u'Na na na na-na-na-naa',\n",
       " u'Na na na na-na-na-naa (hey, hey)',\n",
       " u'Na na na na-na-na-naa (ooh, Jude)',\n",
       " u'Na na na na-na-na-naa (whoa, yeah)',\n",
       " u'Na na na na-na-na-naa (whoo)',\n",
       " u'Na na na na-na-na-naa (yeah, yeah, yeah, yeah, yeah)',\n",
       " u'Na na na na-na-na-naa (yeah, yeah, yeah, yeah, yeah, yeah)',\n",
       " u'Na na na naa-naa',\n",
       " u'Na-na-na-naa',\n",
       " u'Na-na-na-naa, (hey, hey) hey, Jude',\n",
       " u'Na-na-na-naa, (oh, Jude) hey, (Jude) Jude',\n",
       " u'Na-na-na-naa, (yeah) hey, Jude',\n",
       " u'Na-na-na-naa, hey, Jude',\n",
       " u'Nanananana\\u2026 nanalalal ow ow',\n",
       " u'Now, Jude, Jude, Jude, Jude, Jude, Jude',\n",
       " u'Ow! wow!',\n",
       " u'Ow, ooh, my, my, my',\n",
       " u\"Pain won't come back, Jude\",\n",
       " u'Remember (hey Jude) to let her into your heart',\n",
       " u'Remember to let her into your heart',\n",
       " u'Remember to let her under your skin (got the wrong chord!)',\n",
       " u'So let it out and let it in',\n",
       " u'Take a sad song',\n",
       " u'Take a sad song and make it better',\n",
       " u'The minute you let her under your skin',\n",
       " u'The movement you need is on your shoulder',\n",
       " u'Then you begin (fucking hell)',\n",
       " u'Then you begin to make it better',\n",
       " u'Then you can start to make it better',\n",
       " u'To make it better',\n",
       " u'Who plays it cool',\n",
       " u'Whoa!',\n",
       " u'Yeah',\n",
       " u'Yeah, yeah, yeah',\n",
       " u'Yeah, yeah, yeah, yeah, yeah',\n",
       " u'Yeah, yeah, yeah, yeah, yeah, yeah, yeah, yeah',\n",
       " u'Yeah, you know you can make it, Jude',\n",
       " u'You have found her, now go and get her',\n",
       " u'You were made to go out and get her',\n",
       " u\"You're waiting for someone to perform with\",\n",
       " u'ma ma ma ma ma ma ma ma ma ma',\n",
       " u'na-na-naa naaa'}"
      ]
     },
     "execution_count": 8,
     "metadata": {},
     "output_type": "execute_result"
    }
   ],
   "source": [
    "set(data['Lyric'][90].split(\"\\n\"))"
   ]
  },
  {
   "cell_type": "code",
   "execution_count": 209,
   "metadata": {
    "collapsed": false,
    "deletable": true,
    "editable": true
   },
   "outputs": [
    {
     "data": {
      "text/html": [
       "<div>\n",
       "<table border=\"1\" class=\"dataframe\">\n",
       "  <thead>\n",
       "    <tr style=\"text-align: right;\">\n",
       "      <th></th>\n",
       "      <th>Artist</th>\n",
       "      <th>Title</th>\n",
       "      <th>Year</th>\n",
       "      <th>Lyric</th>\n",
       "      <th>Url</th>\n",
       "      <th>acousticness</th>\n",
       "      <th>danceability</th>\n",
       "      <th>energy</th>\n",
       "      <th>instrumentalness</th>\n",
       "      <th>key</th>\n",
       "      <th>...</th>\n",
       "      <th>loudness</th>\n",
       "      <th>mode</th>\n",
       "      <th>songLength</th>\n",
       "      <th>speechiness</th>\n",
       "      <th>spotifyID</th>\n",
       "      <th>tempo</th>\n",
       "      <th>valence</th>\n",
       "      <th>polarity</th>\n",
       "      <th>subjectivity</th>\n",
       "      <th>uniqueLyric</th>\n",
       "    </tr>\n",
       "  </thead>\n",
       "  <tbody>\n",
       "    <tr>\n",
       "      <th>90</th>\n",
       "      <td>The Beatles</td>\n",
       "      <td>Hey Jude</td>\n",
       "      <td>1968</td>\n",
       "      <td>Hey Jude, don't make it bad\\nTake a sad song a...</td>\n",
       "      <td>http://www.songlyrics.com/the-beatles/hey-jude...</td>\n",
       "      <td>0.0112</td>\n",
       "      <td>0.386</td>\n",
       "      <td>0.607</td>\n",
       "      <td>0.000014</td>\n",
       "      <td>10</td>\n",
       "      <td>...</td>\n",
       "      <td>-7.7</td>\n",
       "      <td>1</td>\n",
       "      <td>425653</td>\n",
       "      <td>0.0261</td>\n",
       "      <td>0aym2LBJBk9DAYuHHutrIl</td>\n",
       "      <td>147.207</td>\n",
       "      <td>0.535</td>\n",
       "      <td>0.082614</td>\n",
       "      <td>0.612103</td>\n",
       "      <td>72</td>\n",
       "    </tr>\n",
       "  </tbody>\n",
       "</table>\n",
       "<p>1 rows × 21 columns</p>\n",
       "</div>"
      ],
      "text/plain": [
       "         Artist     Title  Year  \\\n",
       "90  The Beatles  Hey Jude  1968   \n",
       "\n",
       "                                                Lyric  \\\n",
       "90  Hey Jude, don't make it bad\\nTake a sad song a...   \n",
       "\n",
       "                                                  Url  acousticness  \\\n",
       "90  http://www.songlyrics.com/the-beatles/hey-jude...        0.0112   \n",
       "\n",
       "    danceability  energy  instrumentalness  key     ...       loudness  mode  \\\n",
       "90         0.386   0.607          0.000014   10     ...           -7.7     1   \n",
       "\n",
       "    songLength  speechiness               spotifyID    tempo  valence  \\\n",
       "90      425653       0.0261  0aym2LBJBk9DAYuHHutrIl  147.207    0.535   \n",
       "\n",
       "    polarity  subjectivity  uniqueLyric  \n",
       "90  0.082614      0.612103           72  \n",
       "\n",
       "[1 rows x 21 columns]"
      ]
     },
     "execution_count": 209,
     "metadata": {},
     "output_type": "execute_result"
    }
   ],
   "source": [
    "data[data['Title'].str.contains(\"Jude\")]"
   ]
  },
  {
   "cell_type": "code",
   "execution_count": 16,
   "metadata": {
    "collapsed": false,
    "deletable": true,
    "editable": true
   },
   "outputs": [
    {
     "data": {
      "text/plain": [
       "WordList([u'This', u'is', u'what', u'you', u'do', u'This', u'is', u'what', u'you', u'do', u'This', u'is', u'what', u'you', u'do', u'This', u'is', u'what', u'you', u'do', u'You', u'make', u'me', u'wan', u'na', u'leave', u'the', u'one', u'I', u\"'m\", u'with', u'to', u'Start', u'a', u'new', u'relationship', u'with', u'you', u'this', u'is', u'what', u'you', u'do', u'Think', u'about', u'a', u'ring', u'and', u'all', u'the', u'things', u'that', u'come', u'along', u'with', u'You', u'make', u'me', u'you', u'make', u'me', u'Leave', u'the', u'one', u'I', u\"'m\", u'with', u'Start', u'a', u'new', u'relationship', u'with', u'you', u'this', u'is', u'what', u'you', u'do', u'Think', u'about', u'a', u'ring', u'and', u'all', u'the', u'things', u'that', u'come', u'along', u'with', u'You', u'make', u'me', u'you', u'make', u'me', u'Before', u'anything', u'became', u'between', u'us', u'You', u'were', u'like', u'my', u'best', u'friend', u'The', u'one', u'I', u'used', u'to', u'run', u'and', u'talk', u'to', u'When', u'me', u'and', u'my', u'girl', u'was', u'having', u'problems', u'You', u'used', u'to', u'say', u'it', u'would', u'be', u'okay', u'Suggest', u'little', u'nice', u'things', u'I', u'should', u'do', u'And', u'when', u'I', u'go', u'home', u'at', u'night', u'and', u'lay', u'my', u'head', u'down', u'All', u'I', u'seem', u'to', u'think', u'about', u'was', u'you', u'And', u'how', u'you', u'make', u'me', u'wan', u'na', u'leave', u'the', u'one', u'I', u\"'m\", u'with', u'Start', u'a', u'new', u'relationship', u'with', u'you', u'this', u'is', u'what', u'you', u'do', u'Think', u'about', u'a', u'ring', u'and', u'all', u'the', u'things', u'that', u'come', u'along', u'with', u'You', u'make', u'me', u'you', u'make', u'me', u'Leave', u'the', u'one', u'I', u\"'m\", u'with', u'Start', u'a', u'new', u'relationship', u'with', u'you', u'this', u'is', u'what', u'you', u'do', u'Think', u'about', u'a', u'ring', u'and', u'all', u'the', u'things', u'that', u'come', u'along', u'with', u'You', u'make', u'me', u'you', u'make', u'me', u'Now', u'what', u\"'s\", u'bad', u'is', u'you', u\"'re\", u'the', u'one', u'that', u'hooked', u'us', u'up', u'Knowing', u'it', u'should', u'have', u'been', u'you', u'And', u'what', u\"'s\", u'sad', u'is', u'that', u'I', u'love', u'her', u'but', u'I', u\"'m\", u'falling', u'for', u'you', u'What', u'should', u'I', u'do', u'should', u'I', u'tell', u'my', u'baby', u'bye-bye', u'Should', u'I', u'do', u'exactly', u'what', u'I', u'feel', u'inside', u\"'Cause\", u'I', u'I', u'do', u\"n't\", u'wan', u'na', u'go', u'do', u\"n't\", u'need', u'to', u'stay', u'But', u'I', u'really', u'need', u'to', u'get', u'it', u'together', u'You', u'make', u'me', u'wan', u'na', u'leave', u'the', u'one', u'I', u\"'m\", u'with', u'to', u'Start', u'a', u'new', u'relationship', u'with', u'you', u'this', u'is', u'what', u'you', u'do', u'Think', u'about', u'a', u'ring', u'and', u'all', u'the', u'things', u'that', u'come', u'along', u'with', u'You', u'make', u'me', u'you', u'make', u'me', u'Leave', u'the', u'one', u'I', u\"'m\", u'with', u'Start', u'a', u'new', u'relationship', u'with', u'you', u'this', u'is', u'what', u'you', u'do', u'Think', u'about', u'a', u'ring', u'and', u'all', u'the', u'things', u'that', u'come', u'along', u'with', u'You', u'make', u'me', u'you', u'make', u'me', u'At', u'this', u'point', u'the', u'situation', u\"'s\", u'out', u'of', u'control', u'I', u'never', u'meant', u'to', u'hurt', u'her', u'but', u'I', u'got', u'ta', u'let', u'her', u'go', u'And', u'she', u'may', u'not', u'understand', u'it', u'why', u'all', u'of', u'this', u'is', u'going', u'on', u'I', u'tried', u'I', u'tried', u'to', u'fight', u'but', u'the', u'feeling', u\"'s\", u'just', u'too', u'strong', u'You', u'make', u'me', u'wanna', u'You', u'make', u'me', u'wanna', u'You', u'make', u'me', u'wanna', u'You', u'make', u'me', u'wanna', u'You', u'make', u'me', u'wanna', u'You', u'make', u'me', u'wanna', u'You', u'make', u'me', u'wanna', u'You', u'make', u'me', u'wan', u'na', u'leave', u'the', u'one', u'I', u\"'m\", u'with', u'to', u'Start', u'a', u'new', u'relationship', u'with', u'you', u'this', u'is', u'what', u'you', u'do', u'Think', u'about', u'a', u'ring', u'and', u'all', u'the', u'things', u'that', u'come', u'along', u'with', u'You', u'make', u'me', u'you', u'make', u'me', u'Leave', u'the', u'one', u'I', u\"'m\", u'with', u'Start', u'a', u'new', u'relationship', u'with', u'you', u'this', u'is', u'what', u'you', u'do', u'Think', u'about', u'a', u'ring', u'and', u'all', u'the', u'things', u'that', u'come', u'along', u'with', u'You', u'make', u'me', u'you', u'make', u'me', u'You', u'make', u'me', u'wan', u'na', u'leave', u'the', u'one', u'I', u\"'m\", u'with', u'to', u'Start', u'a', u'new', u'relationship', u'with', u'you', u'this', u'is', u'what', u'you', u'do', u'Think', u'about', u'a', u'ring', u'and', u'all', u'the', u'things', u'that', u'come', u'along', u'with', u'You', u'make', u'me', u'you', u'make', u'me', u'Leave', u'the', u'one', u'I', u\"'m\", u'with', u'Start', u'a', u'new', u'relationship', u'with', u'you', u'this', u'is', u'what', u'you', u'do', u'Think', u'about', u'a', u'ring', u'and', u'all', u'the', u'things', u'that', u'come', u'along', u'with', u'You', u'make', u'me', u'you', u'make', u'me'])"
      ]
     },
     "execution_count": 16,
     "metadata": {},
     "output_type": "execute_result"
    }
   ],
   "source": [
    "TextBlob(data['Lyric'][0]).words"
   ]
  }
 ],
 "metadata": {
  "kernelspec": {
   "display_name": "Python 2",
   "language": "python",
   "name": "python2"
  },
  "language_info": {
   "codemirror_mode": {
    "name": "ipython",
    "version": 2
   },
   "file_extension": ".py",
   "mimetype": "text/x-python",
   "name": "python",
   "nbconvert_exporter": "python",
   "pygments_lexer": "ipython2",
   "version": "2.7.12"
  }
 },
 "nbformat": 4,
 "nbformat_minor": 2
}
