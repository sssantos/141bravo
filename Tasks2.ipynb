{
 "cells": [
  {
   "cell_type": "code",
   "execution_count": 56,
   "metadata": {
    "collapsed": false
   },
   "outputs": [],
   "source": [
    "# Cache me ousside how bow dah\n",
    "import requests\n",
    "\n",
    "# Extract song info from html\n",
    "from bs4 import BeautifulSoup\n",
    "billboard_url = \"http://www.billboard.com/articles/list/2155531/the-hot-100-all-time-top-songs\"\n",
    "soup = BeautifulSoup((requests.get(billboard_url)).text, \"html.parser\")\n",
    "songs = [song.text for song in soup.find_all(\"h3\", {\"class\": \"list-data__title\"})]\n",
    "\n",
    "# Extra title, artist, and year info\n",
    "import re\n",
    "# We consider only the first year for a song if more than one: the 100th song's case\n",
    "titles  = [str(re.sub(r\"\\xe2\\x80\\xa6\", r\"...\", re.sub(\"\\\"\", \"\", re.match(r\"\\\"[\\\"\\']?.+\\\"[\\\"\\']?\", song).group(0)))) for song in songs]\n",
    "artists = [str(re.sub(\"^\\\"|\\r|(- )|(.*\\\".*\\\" )\",\"\", re.search(\"\\\" .*\\r\", song).group(0)).lstrip()) for song in songs]\n",
    "years   = [int(re.sub(\"\\)|\\(|,\", \"\", re.search(\"(\\(\\d{4}\\))|(\\(\\d{4},)\", song).group(0))) for song in songs]\n",
    "\n",
    "import pandas as pd \n",
    "top100songs = pd.DataFrame({'Title': titles, 'Artist': artists, 'Year': years})"
   ]
  },
  {
   "cell_type": "code",
   "execution_count": 9,
   "metadata": {
    "collapsed": false
   },
   "outputs": [
    {
     "data": {
      "text/plain": [
       "Artist                                           Elton John\n",
       "Title     Candle in the Wind 1997 / Something About the ...\n",
       "Year                                                   1997\n",
       "Name: 53, dtype: object"
      ]
     },
     "execution_count": 9,
     "metadata": {},
     "output_type": "execute_result"
    }
   ],
   "source": [
    "top100songs.loc[53]"
   ]
  },
  {
   "cell_type": "code",
   "execution_count": 60,
   "metadata": {
    "collapsed": false
   },
   "outputs": [],
   "source": [
    "import requests_cache\n",
    "requests_cache.install_cache(\"cache\")\n",
    "from bs4 import BeautifulSoup\n",
    "import re\n",
    "import string\n",
    "import pandas as pd\n",
    "test = top100songs.loc[9] \n",
    "def processString(s, type):\n",
    "    s = re.sub(\"['?:!.,;&/]+\", \" \", s).lower().strip()\n",
    "    if(type != \"Artist\"):\n",
    "        s = re.sub(\"-\", \"\",s)\n",
    "    s = re.sub(\"\\s+\", \"-\", s)\n",
    "    return(s)\n",
    "\n",
    "def getLyrics(song, newUrl = ''):\n",
    "    artist = song['Artist']\n",
    "    title = song['Title']\n",
    "    #Remove punctuation and change to lower case.\n",
    "    artist = processString(artist, \"Artist\")\n",
    "    title = processString(title,\" Title\")\n",
    "    lyric_url = \"http://www.songlyrics.com/\"+artist+\"/\"+title+\"-lyrics/\"\n",
    "    if newUrl != '':\n",
    "        lyric_url = newUrl\n",
    "#    print(lyric_url)\n",
    "    soup = BeautifulSoup((requests.get(lyric_url)).text, \"html.parser\")\n",
    "    tmp = soup.find_all('p', {\"id\": \"songLyricsDiv\"})\n",
    "    lyrics = tmp[0].get_text()\n",
    "    if bool(re.search(pattern= \"(We do not have)|(we have no)\", string = lyrics)):\n",
    "        lyrics = \"\"\n",
    "        lyric_url = \"\"\n",
    "    return({'Url':lyric_url, 'Lyric': lyrics})\n"
   ]
  },
  {
   "cell_type": "code",
   "execution_count": 58,
   "metadata": {
    "collapsed": false
   },
   "outputs": [
    {
     "name": "stdout",
     "output_type": "stream",
     "text": [
      "http://www.songlyrics.com/percy-faith/the-theme-from-a-summer-place-lyrics/\n"
     ]
    },
    {
     "data": {
      "text/plain": [
       "Artist                        Percy Faith\n",
       "Title     The Theme from 'A Summer Place'\n",
       "Year                                 1960\n",
       "Name: 80, dtype: object"
      ]
     },
     "execution_count": 58,
     "metadata": {},
     "output_type": "execute_result"
    }
   ],
   "source": [
    "getLyrics(top100songs.loc[80])\n",
    "top100songs.loc[80]"
   ]
  },
  {
   "cell_type": "code",
   "execution_count": 76,
   "metadata": {
    "collapsed": false
   },
   "outputs": [],
   "source": [
    "result = [getLyrics(row) for idx, row in top100songs.iterrows()]\n",
    "result = pd.DataFrame(result)"
   ]
  },
  {
   "cell_type": "code",
   "execution_count": 70,
   "metadata": {
    "collapsed": false
   },
   "outputs": [
    {
     "data": {
      "text/html": [
       "<div>\n",
       "<table border=\"1\" class=\"dataframe\">\n",
       "  <thead>\n",
       "    <tr style=\"text-align: right;\">\n",
       "      <th></th>\n",
       "      <th>Artist</th>\n",
       "      <th>Title</th>\n",
       "      <th>Year</th>\n",
       "    </tr>\n",
       "  </thead>\n",
       "  <tbody>\n",
       "    <tr>\n",
       "      <th>53</th>\n",
       "      <td>Elton John</td>\n",
       "      <td>Candle in the Wind 1997 / Something About the ...</td>\n",
       "      <td>1997</td>\n",
       "    </tr>\n",
       "    <tr>\n",
       "      <th>60</th>\n",
       "      <td>Paul McCartney and Michael Jackson</td>\n",
       "      <td>Say, Say, Say</td>\n",
       "      <td>1983</td>\n",
       "    </tr>\n",
       "    <tr>\n",
       "      <th>80</th>\n",
       "      <td>Percy Faith</td>\n",
       "      <td>The Theme from 'A Summer Place'</td>\n",
       "      <td>1960</td>\n",
       "    </tr>\n",
       "    <tr>\n",
       "      <th>83</th>\n",
       "      <td>Jewel</td>\n",
       "      <td>You Were Meant for Me / Foolish Games</td>\n",
       "      <td>1997</td>\n",
       "    </tr>\n",
       "  </tbody>\n",
       "</table>\n",
       "</div>"
      ],
      "text/plain": [
       "                                Artist  \\\n",
       "53                          Elton John   \n",
       "60  Paul McCartney and Michael Jackson   \n",
       "80                         Percy Faith   \n",
       "83                               Jewel   \n",
       "\n",
       "                                                Title  Year  \n",
       "53  Candle in the Wind 1997 / Something About the ...  1997  \n",
       "60                                      Say, Say, Say  1983  \n",
       "80                    The Theme from 'A Summer Place'  1960  \n",
       "83              You Were Meant for Me / Foolish Games  1997  "
      ]
     },
     "execution_count": 70,
     "metadata": {},
     "output_type": "execute_result"
    }
   ],
   "source": [
    "#Locate songs that couldn't be found using function\n",
    "missing =result[result['Url'] == \"\"].index\n",
    "top100songs.loc[missing]"
   ]
  },
  {
   "cell_type": "code",
   "execution_count": 71,
   "metadata": {
    "collapsed": true
   },
   "outputs": [],
   "source": [
    "notFoundUrls = [\"http://www.songlyrics.com/elton-john-billy-joel/candle-in-the-wind-lyrics/\", \"http://www.songlyrics.com/percy-faith/theme-from-a-summer-place-lyrics/\",\"http://www.songlyrics.com/jewel-feat-kelly-clarkson/foolish-games-lyrics/\", \"\"]"
   ]
  },
  {
   "cell_type": "code",
   "execution_count": 91,
   "metadata": {
    "collapsed": false
   },
   "outputs": [],
   "source": [
    "result.loc[53,'Lyric':'Url'] = getLyrics(top100songs.loc[53], newUrl = notFoundUrls[1])\n",
    "result.loc[80,'Lyric':'Url'] = getLyrics(top100songs.loc[80], newUrl = notFoundUrls[1])\n",
    "result.loc[83,'Lyric':'Url'] = getLyrics(top100songs.loc[83], newUrl = notFoundUrls[1])"
   ]
  },
  {
   "cell_type": "code",
   "execution_count": 95,
   "metadata": {
    "collapsed": false
   },
   "outputs": [],
   "source": [
    "song = top100songs.loc[60]\n",
    "artist = song['Artist']\n",
    "title = song['Title']\n",
    "lyric_url = \"http://www.metrolyrics.com/say-say-say-lyrics-paul-mccartney.html\"\n",
    "artist = processString(artist, \"Artist\")\n",
    "title = processString(title,\" Title\")\n",
    "soup = BeautifulSoup((requests.get(lyric_url)).text, \"html.parser\")\n",
    "tmp = soup.find_all('div', {\"id\": \"lyrics-body-text\"})\n",
    "lyrics = tmp[0].get_text()\n",
    "result.loc[60,'Lyric': 'Url'] = {'Lyric': lyrics, 'Url': lyric_url}"
   ]
  },
  {
   "cell_type": "code",
   "execution_count": 97,
   "metadata": {
    "collapsed": false
   },
   "outputs": [
    {
     "data": {
      "text/plain": [
       "Lyric    \\nSay, say, say what you want but don't play g...\n",
       "Url      http://www.metrolyrics.com/say-say-say-lyrics-...\n",
       "Name: 60, dtype: object"
      ]
     },
     "execution_count": 97,
     "metadata": {},
     "output_type": "execute_result"
    }
   ],
   "source": [
    "result"
   ]
  }
 ],
 "metadata": {
  "anaconda-cloud": {},
  "kernelspec": {
   "display_name": "Python 2",
   "language": "python",
   "name": "python2"
  },
  "language_info": {
   "codemirror_mode": {
    "name": "ipython",
    "version": 2
   },
   "file_extension": ".py",
   "mimetype": "text/x-python",
   "name": "python",
   "nbconvert_exporter": "python",
   "pygments_lexer": "ipython2",
   "version": "2.7.13"
  }
 },
 "nbformat": 4,
 "nbformat_minor": 1
}
