{
 "cells": [
  {
   "cell_type": "code",
   "execution_count": 10,
   "metadata": {
    "collapsed": true
   },
   "outputs": [],
   "source": [
    "# Cash me ousside how bow dah\n",
    "import requests\n",
    "import requests_cache\n",
    "requests_cache.install_cache(\"cache\")"
   ]
  },
  {
   "cell_type": "code",
   "execution_count": 11,
   "metadata": {
    "collapsed": false
   },
   "outputs": [],
   "source": [
    "# Extract song info from html\n",
    "from bs4 import BeautifulSoup\n",
    "billboard_url = \"http://www.billboard.com/articles/list/2155531/the-hot-100-all-time-top-songs\"\n",
    "soup = BeautifulSoup((requests.get(billboard_url)).text, \"html.parser\")\n",
    "songs = [song.text for song in soup.find_all(\"h3\", {\"class\": \"list-data__title\"})]"
   ]
  },
  {
   "cell_type": "code",
   "execution_count": 15,
   "metadata": {
    "collapsed": false
   },
   "outputs": [],
   "source": [
    "# Extra title, artist, and year info\n",
    "import re\n",
    "# We consider only the first year for a song if more than one: the 100th song's case\n",
    "titles  = [str(re.sub(r\"\\xe2\\x80\\xa6\", r\"...\", re.sub(\"\\\"\", \"\", re.match(r\"\\\"[\\\"\\']?.+\\\"[\\\"\\']?\", song).group(0)))) for song in songs]\n",
    "artists = [str(re.sub(\"^\\\"|\\r|(- )|(.*\\\".*\\\" )\",\"\", re.search(\"\\\" .*\\r\", song).group(0)).lstrip()) for song in songs]\n",
    "years   = [int(re.sub(\"\\)|\\(|,\", \"\", re.search(\"(\\(\\d{4}\\))|(\\(\\d{4},)\", song).group(0))) for song in songs]"
   ]
  },
  {
   "cell_type": "code",
   "execution_count": 16,
   "metadata": {
    "collapsed": false
   },
   "outputs": [
    {
     "data": {
      "text/plain": [
       "['Usher',\n",
       " 'fun. feat. Janelle Monae',\n",
       " 'Emotions',\n",
       " 'Maroon 5',\n",
       " 'Phil Collins',\n",
       " 'B.J. Thomas',\n",
       " 'Puff Daddy & Faith Evans feat. 112',\n",
       " 'John Cougar',\n",
       " 'Roberta Flack',\n",
       " 'Elvis Presley',\n",
       " 'Foreigner',\n",
       " 'Mary J. Blige',\n",
       " 'All-4-One',\n",
       " \"Sinead O'Connor\",\n",
       " 'Lionel Richie',\n",
       " 'The Knack',\n",
       " 'Lionel Richie',\n",
       " 'Wild Cherry',\n",
       " 'Carly Simon',\n",
       " 'Michael Jackson',\n",
       " 'The Steve Miller Band',\n",
       " 'Coolio feat. L.V.',\n",
       " 'Donna Summer',\n",
       " 'Shania Twain',\n",
       " 'Marvin Gaye',\n",
       " 'Nelly feat. Kelly Rowland',\n",
       " 'Bruno Mars',\n",
       " 'The Archies',\n",
       " 'Diana Ross',\n",
       " 'Dionne and Friends',\n",
       " 'Paula Abdul',\n",
       " 'Paul McCartney and Stevie Wonder',\n",
       " 'Maroon 5 feat. Christina Aguilera',\n",
       " 'Tag Team',\n",
       " 'the 5th Dimension',\n",
       " 'Joan Jett & the Blackhearts',\n",
       " 'Stevie B',\n",
       " 'Brandy & Monica',\n",
       " 'John Lennon',\n",
       " 'J. Geils Band',\n",
       " 'Ace of Base',\n",
       " 'Timbaland feat. OneRepublic ',\n",
       " 'Kanye West feat. Jamie Foxx',\n",
       " 'The Monkees',\n",
       " 'Ke$ha',\n",
       " 'Kenny Rogers',\n",
       " 'Bee Gees',\n",
       " 'Mario',\n",
       " 'Blondie',\n",
       " 'The Black Eyed Peas',\n",
       " 'Boyz II Men',\n",
       " 'Whitney Houston',\n",
       " 'Alicia Keys',\n",
       " 'Elton John',\n",
       " 'Carly Rae Jepsen',\n",
       " 'Andy Gibb',\n",
       " 'The Beatles',\n",
       " 'Tommy Edwards',\n",
       " 'Dawn feat. Tony Orlando',\n",
       " 'Nickelback',\n",
       " 'Paul McCartney and Michael Jackson',\n",
       " 'Queen',\n",
       " 'The Bee Gees',\n",
       " 'Marvin Gaye',\n",
       " 'Wings',\n",
       " 'Savage Garden',\n",
       " 'Mariah Carey & Boyz II Men',\n",
       " 'Johnny Horton',\n",
       " 'Bobby Lewis',\n",
       " 'Adele',\n",
       " 'Irene Cara',\n",
       " 'Gotye feat. Kimbra',\n",
       " 'The Police',\n",
       " 'Next',\n",
       " 'Andy Gibb',\n",
       " 'Flo Rida feat. T-Pain',\n",
       " 'Rihanna feat. Calvin Harris',\n",
       " 'Survivor',\n",
       " 'Bee Gees',\n",
       " 'Chic',\n",
       " 'Percy Faith',\n",
       " 'Boyz II Men',\n",
       " 'Bryan Adams',\n",
       " 'Jewel',\n",
       " 'Rod Stewart',\n",
       " 'Diana Ross & Lionel Richie',\n",
       " 'Kim Carnes',\n",
       " 'Usher feat. Lil Jon & Ludacris',\n",
       " 'Toni Braxton',\n",
       " 'Mariah Carey',\n",
       " 'The Beatles',\n",
       " 'Debby Boone',\n",
       " 'Olivia Newton-John',\n",
       " 'Los Del Rio',\n",
       " 'The Black Eyed Peas',\n",
       " 'LMFAO feat. Lauren Bennett & GoonRock',\n",
       " 'LeAnn Rimes',\n",
       " 'Bobby Darin',\n",
       " 'Santana feat. Rob Thomas',\n",
       " 'Chubby Checker']"
      ]
     },
     "execution_count": 16,
     "metadata": {},
     "output_type": "execute_result"
    }
   ],
   "source": [
    "artists"
   ]
  },
  {
   "cell_type": "code",
   "execution_count": null,
   "metadata": {
    "collapsed": true
   },
   "outputs": [],
   "source": []
  }
 ],
 "metadata": {
  "anaconda-cloud": {},
  "kernelspec": {
   "display_name": "Python [default]",
   "language": "python",
   "name": "python2"
  },
  "language_info": {
   "codemirror_mode": {
    "name": "ipython",
    "version": 2
   },
   "file_extension": ".py",
   "mimetype": "text/x-python",
   "name": "python",
   "nbconvert_exporter": "python",
   "pygments_lexer": "ipython2",
   "version": "2.7.12"
  }
 },
 "nbformat": 4,
 "nbformat_minor": 1
}
