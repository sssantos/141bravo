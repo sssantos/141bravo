{
 "cells": [
  {
   "cell_type": "code",
   "execution_count": 1,
   "metadata": {
    "collapsed": true
   },
   "outputs": [],
   "source": [
    "# Cash me outside how bow dah\n",
    "import requests\n",
    "import requests_cache\n",
    "requests_cache.install_cache(\"cache\")"
   ]
  },
  {
   "cell_type": "code",
   "execution_count": 2,
   "metadata": {
    "collapsed": true
   },
   "outputs": [],
   "source": [
    "# Extract song info from html\n",
    "from bs4 import BeautifulSoup\n",
    "billboard_url = \"http://www.billboard.com/articles/list/2155531/the-hot-100-all-time-top-songs\"\n",
    "soup = BeautifulSoup((requests.get(billboard_url)).text, \"html.parser\")\n",
    "songs = [song.text for song in soup.find_all(\"h3\", {\"class\": \"list-data__title\"})]"
   ]
  },
  {
   "cell_type": "code",
   "execution_count": 3,
   "metadata": {
    "collapsed": true
   },
   "outputs": [],
   "source": [
    "# Extra title, artist, and year info\n",
    "import re\n",
    "# We consider only the first year for a song if more than one: the 100th song's case\n",
    "titles  = [str(re.sub(r\"\\xe2\\x80\\xa6\", r\"...\", re.sub(\"\\\"\", \"\", re.match(r\"\\\"[\\\"\\']?.+\\\"[\\\"\\']?\", song).group(0)))) for song in songs]\n",
    "artists = [str(re.sub(\"^\\\"|\\r|(- )|(.*\\\".*\\\" )\",\"\", re.search(\"\\\" .*\\r\", song).group(0)).lstrip()) for song in songs]\n",
    "years   = [int(re.sub(\"\\)|\\(|,\", \"\", re.search(\"(\\(\\d{4}\\))|(\\(\\d{4},)\", song).group(0))) for song in songs]"
   ]
  },
  {
   "cell_type": "code",
   "execution_count": 4,
   "metadata": {
    "collapsed": true
   },
   "outputs": [],
   "source": [
    "import pandas as pd \n",
    "top100songs = pd.DataFrame({'Title': titles, 'Artist': artists, 'Year': years})"
   ]
  },
  {
   "cell_type": "code",
   "execution_count": 5,
   "metadata": {
    "collapsed": false
   },
   "outputs": [
    {
     "data": {
      "text/plain": [
       "Artist                                           Elton John\n",
       "Title     Candle in the Wind 1997 / Something About the ...\n",
       "Year                                                   1997\n",
       "Name: 53, dtype: object"
      ]
     },
     "execution_count": 5,
     "metadata": {},
     "output_type": "execute_result"
    }
   ],
   "source": [
    "top100songs.loc[53]"
   ]
  },
  {
   "cell_type": "code",
   "execution_count": 6,
   "metadata": {
    "collapsed": true
   },
   "outputs": [],
   "source": [
    "import string\n",
    "\n",
    "def processString(s, type):\n",
    "    s = re.sub(\"['?:!.,;&/]+\", \" \", s).lower().strip()\n",
    "    if(type != \"Artist\"):\n",
    "        s = re.sub(\"-\", \"\",s)\n",
    "    s = re.sub(\"\\s+\", \"-\", s)\n",
    "    return(s)\n",
    "\n",
    "def getLyrics(song, newUrl = ''):\n",
    "    artist = song['Artist']\n",
    "    title = song['Title']\n",
    "    #Remove punctuation and change to lower case.\n",
    "    artist = processString(artist, \"Artist\")\n",
    "    title = processString(title,\" Title\")\n",
    "    lyric_url = \"http://www.songlyrics.com/\"+artist+\"/\"+title+\"-lyrics/\"\n",
    "    if newUrl != '':\n",
    "        lyric_url = newUrl\n",
    "#    print(lyric_url)\n",
    "    soup = BeautifulSoup((requests.get(lyric_url)).text, \"html.parser\")\n",
    "    tmp = soup.find_all('p', {\"id\": \"songLyricsDiv\"})\n",
    "    lyrics = tmp[0].get_text().encode(\"ascii\",\"ignore\")\n",
    "    if 'Sorry, we have no' in lyrics:\n",
    "        lyrics = \"\"\n",
    "    return({'Url':lyric_url, 'Lyric': lyrics})\n"
   ]
  },
  {
   "cell_type": "code",
   "execution_count": 7,
   "metadata": {
    "collapsed": true
   },
   "outputs": [],
   "source": [
    "result = [getLyrics(row) for idx, row in top100songs.iterrows()]"
   ]
  },
  {
   "cell_type": "code",
   "execution_count": 8,
   "metadata": {
    "collapsed": true
   },
   "outputs": [],
   "source": [
    "#Couldn't Find\n",
    "# Elton John - Candle in the wind 1997 something about the way you look tonight Lyrics\n",
    "# paul-mccartney-and-michael-jackson/say-say-say-lyrics/\n",
    "# jewel/you-were-meant-for-me-foolish-games-lyrics/\n",
    "\n",
    "# weird ones: 53, 83, 60"
   ]
  },
  {
   "cell_type": "code",
   "execution_count": 9,
   "metadata": {
    "collapsed": true
   },
   "outputs": [],
   "source": [
    "notFoundUrls = [\"http://www.songlyrics.com/elton-john-billy-joel/candle-in-the-wind-lyrics/\", \"http://www.songlyrics.com/jewel-feat-kelly-clarkson/foolish-games-lyrics/\"]\n",
    "result[53]['Lyric'] = getLyrics(top100songs.loc[53], newUrl = notFoundUrls[0])[\"Lyric\"].encode(\"ascii\",\"ignore\")\n",
    "result[83][\"Lyric\"] = getLyrics(top100songs.loc[83], newUrl = notFoundUrls[1])[\"Lyric\"].encode(\"ascii\",\"ignore\")"
   ]
  },
  {
   "cell_type": "code",
   "execution_count": 10,
   "metadata": {
    "collapsed": true
   },
   "outputs": [],
   "source": [
    "song = top100songs.loc[60]\n",
    "artist = song['Artist']\n",
    "title = song['Title']\n",
    "lyric_url = \"http://www.metrolyrics.com/say-say-say-lyrics-paul-mccartney.html\"\n",
    "artist = processString(artist, \"Artist\")\n",
    "title = processString(title,\" Title\")\n",
    "soup = BeautifulSoup((requests.get(lyric_url)).text, \"html.parser\")\n",
    "tmp = soup.find_all('div', {\"id\": \"lyrics-body-text\"})\n",
    "lyrics = tmp[0].get_text().encode(\"ascii\",\"ignore\")\n",
    "\n",
    "result[60]['Lyric'] = lyrics"
   ]
  },
  {
   "cell_type": "code",
   "execution_count": 11,
   "metadata": {
    "collapsed": true
   },
   "outputs": [],
   "source": [
    "result_df = pd.DataFrame(result)\n",
    "main_df = pd.concat([top100songs,result_df], axis = 1)\n",
    "main_df[\"Rank\"] = range(100, 0, -1)\n",
    "del main_df[\"Url\"]"
   ]
  },
  {
   "cell_type": "markdown",
   "metadata": {},
   "source": [
    "<h1>NGRAM DOOM HELLO NGRAM THERE ONCE WAS</h1>"
   ]
  },
  {
   "cell_type": "code",
   "execution_count": 12,
   "metadata": {
    "collapsed": true
   },
   "outputs": [],
   "source": [
    "import nltk \n",
    "from nltk import word_tokenize\n",
    "from nltk.util import ngrams\n",
    "from nltk.tokenize import RegexpTokenizer\n",
    "from nltk.tokenize import WhitespaceTokenizer\n",
    "from collections import Counter"
   ]
  },
  {
   "cell_type": "code",
   "execution_count": 130,
   "metadata": {
    "collapsed": true
   },
   "outputs": [],
   "source": [
    "# Making Corpus\n",
    "corpus_raw = \" \".join(main_df[\"Lyric\"])\n",
    "corpus_raw = re.sub(\",\", \"\", corpus_raw)\n",
    "corpus_raw = re.sub(\"\\n\", \" \", corpus_raw)\n",
    "corpus_raw = re.sub(\"\\\\\\\\\", \"\", corpus_raw).lower()\n",
    "corpus_raw = re.sub(\"[)(]\", \"\", corpus_raw)\n",
    "corpus_raw_split = corpus_raw_split = corpus_raw.split(\" \")"
   ]
  },
  {
   "cell_type": "code",
   "execution_count": 131,
   "metadata": {
    "collapsed": true
   },
   "outputs": [],
   "source": [
    "# Trigram for corpus\n",
    "corpus_trigram = Counter(ngrams(corpus_raw_split, 3)).most_common()\n",
    "corpus_trigram_keys = [\" \".join(key_tuple) for key_tuple in [key[0] for key in corpus_trigram]]\n",
    "corpus_trigram_values = [item[1] for item in corpus_trigram]\n",
    "corpus_trigram = {\"trigram\": corpus_trigram_keys, \"freq\": corpus_trigram_values}"
   ]
  },
  {
   "cell_type": "code",
   "execution_count": 132,
   "metadata": {
    "collapsed": true
   },
   "outputs": [],
   "source": [
    "# Bigram for corpus\n",
    "corpus_bigram = Counter(ngrams(corpus_raw_split, 2)).most_common()\n",
    "corpus_bigram_keys = [\" \".join(key_tuple) for key_tuple in [key[0] for key in corpus_bigram]]\n",
    "corpus_bigram_values = [item[1] for item in corpus_bigram]\n",
    "corpus_bigram = {\"bigram\": corpus_bigram_keys, \"freq\": corpus_bigram_values}"
   ]
  },
  {
   "cell_type": "code",
   "execution_count": 133,
   "metadata": {
    "collapsed": false
   },
   "outputs": [],
   "source": [
    "# Make list of words for a list of songs\n",
    "song_lyrics_list = [re.sub(\"[)(]\", \"\", lyric) for lyric in [re.sub(\"\\\\\\\\\", \"\", lyric).lower() for lyric in [re.sub(\"\\n\", \" \", lyric) for lyric in [re.sub(\",\", \"\", lyric) for lyric in list(main_df[\"Lyric\"])]]]]\n",
    "song_words_list = [[word for word in word_list if word != ''] for word_list in  [x.split(\" \") for x in song_lyrics_list]]"
   ]
  },
  {
   "cell_type": "code",
   "execution_count": 134,
   "metadata": {
    "collapsed": false
   },
   "outputs": [],
   "source": [
    "# List of bi/trigrams for a list of songs\n",
    "# Formatted as list of counters\n",
    "song_bigram = [Counter(ngrams(song_lyrics, 2)) for song_lyrics in song_words_list]\n",
    "song_trigram = [Counter(ngrams(song_lyrics, 3)) for song_lyrics in song_words_list]"
   ]
  },
  {
   "cell_type": "code",
   "execution_count": 135,
   "metadata": {
    "collapsed": false
   },
   "outputs": [],
   "source": [
    "# Formatted to list of dictionaries\n",
    "song_bigram = [{\"bigram\": [\" \".join(key_tuple) for key_tuple in bigram.keys()], \"freq\": bigram.values()} for bigram in song_bigram]\n",
    "song_trigram = [{\"bigram\": trigram.keys(), \"freq\": trigram.values()} for trigram in song_trigram]"
   ]
  },
  {
   "cell_type": "code",
   "execution_count": 138,
   "metadata": {
    "collapsed": false
   },
   "outputs": [
    {
     "data": {
      "text/plain": [
       "['head down',\n",
       " 'friend the',\n",
       " 'with to',\n",
       " 'hooked us',\n",
       " 'point the',\n",
       " 'was having',\n",
       " 'what i',\n",
       " 'of this',\n",
       " 'you used',\n",
       " 'together you',\n",
       " 'hurt her',\n",
       " 'i go',\n",
       " 'one that',\n",
       " 'was you',\n",
       " 'come along',\n",
       " 'for you',\n",
       " 'up knowing',\n",
       " 'may not',\n",
       " 'to hurt',\n",
       " 'that hooked',\n",
       " 'lay my',\n",
       " \"don't need\",\n",
       " 'little nice',\n",
       " 'what should',\n",
       " 'became between',\n",
       " 'fight but',\n",
       " 'run and',\n",
       " 'bad is',\n",
       " 'okay suggest',\n",
       " 'all of',\n",
       " 'nice things',\n",
       " 'a new',\n",
       " 'things that',\n",
       " 'the things',\n",
       " \"what's bad\",\n",
       " 'do this',\n",
       " 'me leave',\n",
       " \"and what's\",\n",
       " \"don't wanna\",\n",
       " 'home at',\n",
       " 'that i',\n",
       " 'me wanna',\n",
       " 'were like',\n",
       " 'and lay',\n",
       " 'to get',\n",
       " 'is that',\n",
       " 'i tried',\n",
       " 'i never',\n",
       " \"situation's out\",\n",
       " 'bye-bye should',\n",
       " 'talk to',\n",
       " \"but i'm\",\n",
       " 'i tell',\n",
       " \"feeling's just\",\n",
       " 'do think',\n",
       " 'wanna go',\n",
       " 'i should',\n",
       " \"'cause i\",\n",
       " 'the one',\n",
       " 'i used',\n",
       " 'me at',\n",
       " 'my best',\n",
       " 'too strong',\n",
       " \"you're the\",\n",
       " 'down all',\n",
       " 'think about',\n",
       " 'leave the',\n",
       " 'i love',\n",
       " 'she may',\n",
       " 'is what',\n",
       " 'before anything',\n",
       " 'do exactly',\n",
       " 'out of',\n",
       " 'all i',\n",
       " 'at night',\n",
       " 'and when',\n",
       " 'about a',\n",
       " 'but the',\n",
       " 'this point',\n",
       " 'that come',\n",
       " 'to start',\n",
       " 'to run',\n",
       " 'when i',\n",
       " 'a ring',\n",
       " 'you do',\n",
       " 'i do',\n",
       " \"the feeling's\",\n",
       " 'things i',\n",
       " 'new relationship',\n",
       " 'never meant',\n",
       " 'having problems',\n",
       " 'i feel',\n",
       " 'i really',\n",
       " 'and talk',\n",
       " 'stay but',\n",
       " 'but i',\n",
       " 'to fight',\n",
       " 'meant to',\n",
       " 'should have',\n",
       " 'of control',\n",
       " 'need to',\n",
       " 'exactly what',\n",
       " 'is going',\n",
       " 'girl was',\n",
       " 'just too',\n",
       " \"is you're\",\n",
       " 'my girl',\n",
       " 'control i',\n",
       " 'her but',\n",
       " 'to say',\n",
       " 'with start',\n",
       " 'to think',\n",
       " 'this is',\n",
       " 'at this',\n",
       " 'between us',\n",
       " 'seem to',\n",
       " 'wanna you',\n",
       " 'like my',\n",
       " 'go and',\n",
       " 'falling for',\n",
       " 'when me',\n",
       " 'get it',\n",
       " 'knowing it',\n",
       " \"i'm with\",\n",
       " 'do should',\n",
       " 'on i',\n",
       " 'to when',\n",
       " 'you make',\n",
       " 'how you',\n",
       " 'with you',\n",
       " 'going on',\n",
       " 'all the',\n",
       " 'love her',\n",
       " 'ring and',\n",
       " 'be okay',\n",
       " 'you what',\n",
       " 'been you',\n",
       " 'really need',\n",
       " 'me before',\n",
       " 'best friend',\n",
       " 'what you',\n",
       " 'me you',\n",
       " \"the situation's\",\n",
       " 'it should',\n",
       " 'go home',\n",
       " 'let her',\n",
       " 'tried to',\n",
       " 'why all',\n",
       " 'and all',\n",
       " 'tried i',\n",
       " 'my baby',\n",
       " 'understand it',\n",
       " 'tell my',\n",
       " 'wanna leave',\n",
       " 'you were',\n",
       " 'relationship with',\n",
       " 'along with',\n",
       " 'and how',\n",
       " 'us you',\n",
       " 'should i',\n",
       " 'and she',\n",
       " 'do and',\n",
       " 'anything became',\n",
       " 'me now',\n",
       " 'me and',\n",
       " 'do you',\n",
       " \"i'm falling\",\n",
       " 'i gotta',\n",
       " \"inside 'cause\",\n",
       " 'you this',\n",
       " \"now what's\",\n",
       " 'i i',\n",
       " 'one i',\n",
       " 'her go',\n",
       " 'used to',\n",
       " 'it together',\n",
       " 'i seem',\n",
       " \"one i'm\",\n",
       " 'and my',\n",
       " 'say it',\n",
       " \"i don't\",\n",
       " 'feel inside',\n",
       " 'problems you',\n",
       " 'would be',\n",
       " 'strong you',\n",
       " 'sad is',\n",
       " \"what's sad\",\n",
       " 'my head',\n",
       " 'night and',\n",
       " 'us up',\n",
       " 'make me',\n",
       " 'have been',\n",
       " 'gotta let',\n",
       " 'not understand',\n",
       " 'about was',\n",
       " \"go don't\",\n",
       " 'suggest little',\n",
       " 'you and',\n",
       " 'start a',\n",
       " 'should do',\n",
       " 'it would',\n",
       " 'baby bye-bye',\n",
       " 'it why',\n",
       " 'to stay']"
      ]
     },
     "execution_count": 138,
     "metadata": {},
     "output_type": "execute_result"
    }
   ],
   "source": [
    "song_bigram[0][\"bigram\"]"
   ]
  },
  {
   "cell_type": "code",
   "execution_count": 139,
   "metadata": {
    "collapsed": false
   },
   "outputs": [
    {
     "ename": "error",
     "evalue": "unexpected end of regular expression",
     "output_type": "error",
     "traceback": [
      "\u001b[0;31m---------------------------------------------------------------------------\u001b[0m",
      "\u001b[0;31merror\u001b[0m                                     Traceback (most recent call last)",
      "\u001b[0;32m<ipython-input-139-31444b82b4f5>\u001b[0m in \u001b[0;36m<module>\u001b[0;34m()\u001b[0m\n\u001b[0;32m----> 1\u001b[0;31m \u001b[0;34m[\u001b[0m\u001b[0msum\u001b[0m\u001b[0;34m(\u001b[0m\u001b[0;34m[\u001b[0m\u001b[0many\u001b[0m\u001b[0;34m(\u001b[0m\u001b[0;34m[\u001b[0m\u001b[0mre\u001b[0m\u001b[0;34m.\u001b[0m\u001b[0msearch\u001b[0m\u001b[0;34m(\u001b[0m\u001b[0;34m\"\\\\b\"\u001b[0m \u001b[0;34m+\u001b[0m \u001b[0mcbigram\u001b[0m \u001b[0;34m+\u001b[0m \u001b[0;34m\"\\\\b\"\u001b[0m\u001b[0;34m,\u001b[0m \u001b[0mbigram\u001b[0m\u001b[0;34m)\u001b[0m \u001b[0;32mfor\u001b[0m \u001b[0mbigram\u001b[0m \u001b[0;32min\u001b[0m \u001b[0msong\u001b[0m\u001b[0;34m[\u001b[0m\u001b[0;34m\"bigram\"\u001b[0m\u001b[0;34m]\u001b[0m\u001b[0;34m]\u001b[0m\u001b[0;34m)\u001b[0m \u001b[0;32mfor\u001b[0m \u001b[0msong\u001b[0m \u001b[0;32min\u001b[0m \u001b[0msong_bigram\u001b[0m\u001b[0;34m]\u001b[0m\u001b[0;34m)\u001b[0m \u001b[0;32mfor\u001b[0m \u001b[0mcbigram\u001b[0m \u001b[0;32min\u001b[0m \u001b[0mcorpus_bigram\u001b[0m\u001b[0;34m[\u001b[0m\u001b[0;34m\"bigram\"\u001b[0m\u001b[0;34m]\u001b[0m\u001b[0;34m]\u001b[0m\u001b[0;34m\u001b[0m\u001b[0m\n\u001b[0m",
      "\u001b[0;32m/Users/sssantos/anaconda2/lib/python2.7/re.pyc\u001b[0m in \u001b[0;36msearch\u001b[0;34m(pattern, string, flags)\u001b[0m\n\u001b[1;32m    144\u001b[0m     \"\"\"Scan through string looking for a match to the pattern, returning\n\u001b[1;32m    145\u001b[0m     a match object, or None if no match was found.\"\"\"\n\u001b[0;32m--> 146\u001b[0;31m     \u001b[0;32mreturn\u001b[0m \u001b[0m_compile\u001b[0m\u001b[0;34m(\u001b[0m\u001b[0mpattern\u001b[0m\u001b[0;34m,\u001b[0m \u001b[0mflags\u001b[0m\u001b[0;34m)\u001b[0m\u001b[0;34m.\u001b[0m\u001b[0msearch\u001b[0m\u001b[0;34m(\u001b[0m\u001b[0mstring\u001b[0m\u001b[0;34m)\u001b[0m\u001b[0;34m\u001b[0m\u001b[0m\n\u001b[0m\u001b[1;32m    147\u001b[0m \u001b[0;34m\u001b[0m\u001b[0m\n\u001b[1;32m    148\u001b[0m \u001b[0;32mdef\u001b[0m \u001b[0msub\u001b[0m\u001b[0;34m(\u001b[0m\u001b[0mpattern\u001b[0m\u001b[0;34m,\u001b[0m \u001b[0mrepl\u001b[0m\u001b[0;34m,\u001b[0m \u001b[0mstring\u001b[0m\u001b[0;34m,\u001b[0m \u001b[0mcount\u001b[0m\u001b[0;34m=\u001b[0m\u001b[0;36m0\u001b[0m\u001b[0;34m,\u001b[0m \u001b[0mflags\u001b[0m\u001b[0;34m=\u001b[0m\u001b[0;36m0\u001b[0m\u001b[0;34m)\u001b[0m\u001b[0;34m:\u001b[0m\u001b[0;34m\u001b[0m\u001b[0m\n",
      "\u001b[0;32m/Users/sssantos/anaconda2/lib/python2.7/re.pyc\u001b[0m in \u001b[0;36m_compile\u001b[0;34m(*key)\u001b[0m\n\u001b[1;32m    249\u001b[0m         \u001b[0mp\u001b[0m \u001b[0;34m=\u001b[0m \u001b[0msre_compile\u001b[0m\u001b[0;34m.\u001b[0m\u001b[0mcompile\u001b[0m\u001b[0;34m(\u001b[0m\u001b[0mpattern\u001b[0m\u001b[0;34m,\u001b[0m \u001b[0mflags\u001b[0m\u001b[0;34m)\u001b[0m\u001b[0;34m\u001b[0m\u001b[0m\n\u001b[1;32m    250\u001b[0m     \u001b[0;32mexcept\u001b[0m \u001b[0merror\u001b[0m\u001b[0;34m,\u001b[0m \u001b[0mv\u001b[0m\u001b[0;34m:\u001b[0m\u001b[0;34m\u001b[0m\u001b[0m\n\u001b[0;32m--> 251\u001b[0;31m         \u001b[0;32mraise\u001b[0m \u001b[0merror\u001b[0m\u001b[0;34m,\u001b[0m \u001b[0mv\u001b[0m \u001b[0;31m# invalid expression\u001b[0m\u001b[0;34m\u001b[0m\u001b[0m\n\u001b[0m\u001b[1;32m    252\u001b[0m     \u001b[0;32mif\u001b[0m \u001b[0;32mnot\u001b[0m \u001b[0mbypass_cache\u001b[0m\u001b[0;34m:\u001b[0m\u001b[0;34m\u001b[0m\u001b[0m\n\u001b[1;32m    253\u001b[0m         \u001b[0;32mif\u001b[0m \u001b[0mlen\u001b[0m\u001b[0;34m(\u001b[0m\u001b[0m_cache\u001b[0m\u001b[0;34m)\u001b[0m \u001b[0;34m>=\u001b[0m \u001b[0m_MAXCACHE\u001b[0m\u001b[0;34m:\u001b[0m\u001b[0;34m\u001b[0m\u001b[0m\n",
      "\u001b[0;31merror\u001b[0m: unexpected end of regular expression"
     ]
    }
   ],
   "source": [
    "# Check for unique bigrams. A 0 means error, 1 means it is unique to a song, >1 means non-unique\n",
    "# Errors caused by regex escape patterns in certain strings\n",
    "[sum([any([re.search(\"\\\\b\" + cbigram + \"\\\\b\", bigram) for bigram in song[\"bigram\"]]) for song in song_bigram]) for cbigram in corpus_bigram[\"bigram\"]]"
   ]
  }
 ],
 "metadata": {
  "kernelspec": {
   "display_name": "Python [default]",
   "language": "python",
   "name": "python2"
  },
  "language_info": {
   "codemirror_mode": {
    "name": "ipython",
    "version": 2
   },
   "file_extension": ".py",
   "mimetype": "text/x-python",
   "name": "python",
   "nbconvert_exporter": "python",
   "pygments_lexer": "ipython2",
   "version": "2.7.12"
  }
 },
 "nbformat": 4,
 "nbformat_minor": 1
}
