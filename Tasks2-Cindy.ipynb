{
 "cells": [
  {
   "cell_type": "code",
   "execution_count": 1,
   "metadata": {
    "collapsed": true
   },
   "outputs": [],
   "source": [
    "# Extract song info from html\n",
    "import requests\n",
    "from bs4 import BeautifulSoup\n",
    "billboard_url = \"http://www.billboard.com/articles/list/2155531/the-hot-100-all-time-top-songs\"\n",
    "soup = BeautifulSoup((requests.get(billboard_url)).text, \"html.parser\")\n",
    "songs = [song.text for song in soup.find_all(\"h3\", {\"class\": \"list-data__title\"})]\n",
    "\n",
    "# Extra title, artist, and year info\n",
    "import re\n",
    "# We consider only the first year for a song if more than one: the 100th song's case\n",
    "titles  = [str(re.sub(r\"\\xe2\\x80\\xa6\", r\"...\", re.sub(\"\\\"\", \"\", re.match(r\"\\\"[\\\"\\']?.+\\\"[\\\"\\']?\", song).group(0)))) for song in songs]\n",
    "artists = [str(re.sub(\"^\\\"|\\r|(- )|(.*\\\".*\\\" )\",\"\", re.search(\"\\\" .*\\r\", song).group(0)).lstrip()) for song in songs]\n",
    "years   = [int(re.sub(\"\\)|\\(|,\", \"\", re.search(\"(\\(\\d{4}\\))|(\\(\\d{4},)\", song).group(0))) for song in songs]\n",
    "\n",
    "import pandas as pd \n",
    "top100songs = pd.DataFrame({'Title': titles, 'Artist': artists, 'Year': years})"
   ]
  },
  {
   "cell_type": "code",
   "execution_count": 13,
   "metadata": {
    "collapsed": false
   },
   "outputs": [],
   "source": [
    "import requests\n",
    "#import requests_cache\n",
    "#requests_cache.install_cache(\"cache\")\n",
    "from bs4 import BeautifulSoup\n",
    "import re\n",
    "import string\n",
    "import pandas as pd\n",
    "test = top100songs.loc[9] \n",
    "def processString(s, type):\n",
    "    s = re.sub(\"['?:!.,;&/]+\", \" \", s).lower().strip()\n",
    "    if(type != \"Artist\"):\n",
    "        s = re.sub(\"-\", \"\",s)\n",
    "    s = re.sub(\"\\s+\", \"-\", s)\n",
    "    return(s)\n",
    "\n",
    "def getLyrics(song, newUrl = ''):\n",
    "    artist = song['Artist']\n",
    "    title = song['Title']\n",
    "    #Remove punctuation and change to lower case.\n",
    "    artist = processString(artist, \"Artist\")\n",
    "    title = processString(title,\" Title\")\n",
    "    lyric_url = \"http://www.songlyrics.com/\"+artist+\"/\"+title+\"-lyrics/\"\n",
    "    if newUrl != '':\n",
    "        lyric_url = newUrl\n",
    "#    print(lyric_url)\n",
    "    soup = BeautifulSoup((requests.get(lyric_url)).text, \"html.parser\")\n",
    "    tmp = soup.find_all('p', {\"id\": \"songLyricsDiv\"})\n",
    "    lyrics = tmp[0].get_text().encode(\"ascii\",\"ignore\")\n",
    "    if bool(re.search(pattern= \"(We do not have)|(we have no)\", string = lyrics)):\n",
    "        lyrics = \"\"\n",
    "        lyric_url = \"\"\n",
    "    return({'Url':lyric_url, 'Lyric': lyrics})\n"
   ]
  },
  {
   "cell_type": "code",
   "execution_count": 5,
   "metadata": {
    "collapsed": false
   },
   "outputs": [
    {
     "data": {
      "text/plain": [
       "Artist                        Percy Faith\n",
       "Title     The Theme from 'A Summer Place'\n",
       "Year                                 1960\n",
       "Name: 80, dtype: object"
      ]
     },
     "execution_count": 5,
     "metadata": {},
     "output_type": "execute_result"
    }
   ],
   "source": [
    "getLyrics(top100songs.loc[80])\n",
    "top100songs.loc[80]"
   ]
  },
  {
   "cell_type": "code",
   "execution_count": 14,
   "metadata": {
    "collapsed": false
   },
   "outputs": [],
   "source": [
    "result = [getLyrics(row) for idx, row in top100songs.iterrows()]\n",
    "result = pd.DataFrame(result)"
   ]
  },
  {
   "cell_type": "code",
   "execution_count": 4,
   "metadata": {
    "collapsed": false
   },
   "outputs": [
    {
     "data": {
      "text/html": [
       "<div>\n",
       "<table border=\"1\" class=\"dataframe\">\n",
       "  <thead>\n",
       "    <tr style=\"text-align: right;\">\n",
       "      <th></th>\n",
       "      <th>Artist</th>\n",
       "      <th>Title</th>\n",
       "      <th>Year</th>\n",
       "    </tr>\n",
       "  </thead>\n",
       "  <tbody>\n",
       "    <tr>\n",
       "      <th>53</th>\n",
       "      <td>Elton John</td>\n",
       "      <td>Candle in the Wind 1997 / Something About the ...</td>\n",
       "      <td>1997</td>\n",
       "    </tr>\n",
       "    <tr>\n",
       "      <th>60</th>\n",
       "      <td>Paul McCartney and Michael Jackson</td>\n",
       "      <td>Say, Say, Say</td>\n",
       "      <td>1983</td>\n",
       "    </tr>\n",
       "    <tr>\n",
       "      <th>80</th>\n",
       "      <td>Percy Faith</td>\n",
       "      <td>The Theme from 'A Summer Place'</td>\n",
       "      <td>1960</td>\n",
       "    </tr>\n",
       "    <tr>\n",
       "      <th>83</th>\n",
       "      <td>Jewel</td>\n",
       "      <td>You Were Meant for Me / Foolish Games</td>\n",
       "      <td>1997</td>\n",
       "    </tr>\n",
       "  </tbody>\n",
       "</table>\n",
       "</div>"
      ],
      "text/plain": [
       "                                Artist  \\\n",
       "53                          Elton John   \n",
       "60  Paul McCartney and Michael Jackson   \n",
       "80                         Percy Faith   \n",
       "83                               Jewel   \n",
       "\n",
       "                                                Title  Year  \n",
       "53  Candle in the Wind 1997 / Something About the ...  1997  \n",
       "60                                      Say, Say, Say  1983  \n",
       "80                    The Theme from 'A Summer Place'  1960  \n",
       "83              You Were Meant for Me / Foolish Games  1997  "
      ]
     },
     "execution_count": 4,
     "metadata": {},
     "output_type": "execute_result"
    }
   ],
   "source": [
    "#Locate songs that couldn't be found using function\n",
    "missing =result[result['Url'] == \"\"].index\n",
    "top100songs.loc[missing]"
   ]
  },
  {
   "cell_type": "code",
   "execution_count": 5,
   "metadata": {
    "collapsed": true
   },
   "outputs": [],
   "source": [
    "notFoundUrls = [\"http://www.songlyrics.com/elton-john-billy-joel/candle-in-the-wind-lyrics/\", \"http://www.songlyrics.com/percy-faith/theme-from-a-summer-place-lyrics/\",\"http://www.songlyrics.com/jewel-feat-kelly-clarkson/foolish-games-lyrics/\", \"\"]"
   ]
  },
  {
   "cell_type": "code",
   "execution_count": 15,
   "metadata": {
    "collapsed": false
   },
   "outputs": [],
   "source": [
    "result.loc[53,'Lyric':'Url'] = getLyrics(top100songs.loc[53], newUrl = notFoundUrls[0])\n",
    "result.loc[80,'Lyric':'Url'] = getLyrics(top100songs.loc[80], newUrl = notFoundUrls[1])\n",
    "result.loc[83,'Lyric':'Url'] = getLyrics(top100songs.loc[83], newUrl = notFoundUrls[2])"
   ]
  },
  {
   "cell_type": "code",
   "execution_count": 16,
   "metadata": {
    "collapsed": false
   },
   "outputs": [],
   "source": [
    "song = top100songs.loc[60]\n",
    "artist = song['Artist']\n",
    "title = song['Title']\n",
    "lyric_url = \"http://www.metrolyrics.com/say-say-say-lyrics-paul-mccartney.html\"\n",
    "artist = processString(artist, \"Artist\")\n",
    "title = processString(title,\" Title\")\n",
    "soup = BeautifulSoup((requests.get(lyric_url)).text, \"html.parser\")\n",
    "tmp = soup.find_all('div', {\"id\": \"lyrics-body-text\"})\n",
    "lyrics = tmp[0].get_text().encode(\"ascii\",\"ignore\")\n",
    "result.loc[60,'Lyric': 'Url'] = {'Lyric': lyrics, 'Url': lyric_url}"
   ]
  },
  {
   "cell_type": "markdown",
   "metadata": {},
   "source": [
    "<p>\n",
    "<h1>Cindy's Analysis Time!! :D</h1>"
   ]
  },
  {
   "cell_type": "code",
   "execution_count": 42,
   "metadata": {
    "collapsed": false
   },
   "outputs": [
    {
     "data": {
      "text/html": [
       "<div>\n",
       "<table border=\"1\" class=\"dataframe\">\n",
       "  <thead>\n",
       "    <tr style=\"text-align: right;\">\n",
       "      <th></th>\n",
       "      <th>Artist</th>\n",
       "      <th>Title</th>\n",
       "      <th>Year</th>\n",
       "      <th>Lyric</th>\n",
       "      <th>Rank</th>\n",
       "    </tr>\n",
       "  </thead>\n",
       "  <tbody>\n",
       "    <tr>\n",
       "      <th>0</th>\n",
       "      <td>Usher</td>\n",
       "      <td>You Make Me Wanna...</td>\n",
       "      <td>1997</td>\n",
       "      <td>This is what you do\\nThis is what you do\\nThis...</td>\n",
       "      <td>100</td>\n",
       "    </tr>\n",
       "    <tr>\n",
       "      <th>1</th>\n",
       "      <td>fun. feat. Janelle Monae</td>\n",
       "      <td>We Are Young</td>\n",
       "      <td>2012</td>\n",
       "      <td>Give me a second, I\\nI need to get my story st...</td>\n",
       "      <td>99</td>\n",
       "    </tr>\n",
       "    <tr>\n",
       "      <th>2</th>\n",
       "      <td>Emotions</td>\n",
       "      <td>Best of My Love</td>\n",
       "      <td>1977</td>\n",
       "      <td>Every night I'm lyin' in bed\\nHoldin' you clos...</td>\n",
       "      <td>98</td>\n",
       "    </tr>\n",
       "    <tr>\n",
       "      <th>3</th>\n",
       "      <td>Maroon 5</td>\n",
       "      <td>One More Night</td>\n",
       "      <td>2012</td>\n",
       "      <td>You and I go hard at each other like we're goi...</td>\n",
       "      <td>97</td>\n",
       "    </tr>\n",
       "    <tr>\n",
       "      <th>4</th>\n",
       "      <td>Phil Collins</td>\n",
       "      <td>Another Day in Paradise</td>\n",
       "      <td>1989</td>\n",
       "      <td>She calls out to the man on the street\\n\"Sir, ...</td>\n",
       "      <td>96</td>\n",
       "    </tr>\n",
       "  </tbody>\n",
       "</table>\n",
       "</div>"
      ],
      "text/plain": [
       "                     Artist                    Title  Year  \\\n",
       "0                     Usher     You Make Me Wanna...  1997   \n",
       "1  fun. feat. Janelle Monae             We Are Young  2012   \n",
       "2                  Emotions          Best of My Love  1977   \n",
       "3                  Maroon 5           One More Night  2012   \n",
       "4              Phil Collins  Another Day in Paradise  1989   \n",
       "\n",
       "                                               Lyric  Rank  \n",
       "0  This is what you do\\nThis is what you do\\nThis...   100  \n",
       "1  Give me a second, I\\nI need to get my story st...    99  \n",
       "2  Every night I'm lyin' in bed\\nHoldin' you clos...    98  \n",
       "3  You and I go hard at each other like we're goi...    97  \n",
       "4  She calls out to the man on the street\\n\"Sir, ...    96  "
      ]
     },
     "execution_count": 42,
     "metadata": {},
     "output_type": "execute_result"
    }
   ],
   "source": [
    "main_df = pd.concat([top100songs,result], axis = 1)\n",
    "main_df[\"Rank\"] = range(100, 0, -1)\n",
    "del main_df[\"Url\"]\n",
    "main_df.head()"
   ]
  },
  {
   "cell_type": "code",
   "execution_count": 23,
   "metadata": {
    "collapsed": false
   },
   "outputs": [
    {
     "data": {
      "image/png": "[encoded data removed]",
      "text/plain": [
       "<matplotlib.figure.Figure at 0x9afccc0>"
      ]
     },
     "metadata": {},
     "output_type": "display_data"
    }
   ],
   "source": [
    "from matplotlib import pyplot as plt\n",
    "plt.style.use('ggplot')\n",
    "\n",
    "plt.hist(main_df[\"Year\"], bins = 30)\n",
    "plt.xlabel(\"Year\")\n",
    "plt.ylabel(\"Frequency\")\n",
    "plt.title(\"Number of Songs on Top 100 List by Year\")\n",
    "plt.show()"
   ]
  },
  {
   "cell_type": "code",
   "execution_count": 22,
   "metadata": {
    "collapsed": false
   },
   "outputs": [
    {
     "data": {
      "image/png": "[encoded data removed]",
      "text/plain": [
       "<matplotlib.figure.Figure at 0xb40c2e8>"
      ]
     },
     "metadata": {},
     "output_type": "display_data"
    }
   ],
   "source": [
    "from matplotlib import pyplot as plt\n",
    "plt.style.use('ggplot')\n",
    "\n",
    "plt.hist(main_df[\"Year\"], bins = 20)\n",
    "plt.xlabel(\"Year\")\n",
    "plt.ylabel(\"Frequency\")\n",
    "plt.title(\"Number of Songs on Top 100 List by Year\")\n",
    "plt.show()"
   ]
  },
  {
   "cell_type": "code",
   "execution_count": 25,
   "metadata": {
    "collapsed": false
   },
   "outputs": [
    {
     "data": {
      "text/plain": [
       "(2012, 1958)"
      ]
     },
     "execution_count": 25,
     "metadata": {},
     "output_type": "execute_result"
    }
   ],
   "source": [
    "max(main_df[\"Year\"]), min(main_df[\"Year\"])"
   ]
  },
  {
   "cell_type": "markdown",
   "metadata": {},
   "source": [
    "From the histogram, we can see there were quite a lot of top hits right when the first official 'blended' billboard began in 1958. After there, it is not until the late 1970's that music really picks up again. The all-time peak is in that time frame (late 1970s to early 1980s).\n",
    "<p>After that, there is a dip with normal amounts of top hits until the late 1990s, with another spike. This spike is soon followed by a big dip, which picks up again in the in the later half of the 2000s.\n",
    "<p>We can see that the 2010's are starting strong with lots of top hits coming out."
   ]
  },
  {
   "cell_type": "markdown",
   "metadata": {},
   "source": [
    "<i>Some questions to think about:\n",
    "* Could the peak in the 2010s be attributed to the fact that music was much more easily distributed at that time? Is this Billboard chart a good measure of popularity?\n",
    "* Are we able to pinpoint major trends and music phases?\n",
    "* Are the frequencies also in line with the song's absolute performance on the chart?\n",
    "* Why were there not that many hits in the early 2000s? Was this just a simple music low, was it due to external factors, or was it simply because one song hit the charts for a long time?\n",
    "* What were the songs and rankings from the late 1970s-early 1980s?\n",
    "\n",
    "<i>Note: The first question is simply to add a bit of skepticism and will not be explored in this project.</i>"
   ]
  },
  {
   "cell_type": "code",
   "execution_count": 39,
   "metadata": {
    "collapsed": false
   },
   "outputs": [
    {
     "data": {
      "text/html": [
       "<div>\n",
       "<table border=\"1\" class=\"dataframe\">\n",
       "  <thead>\n",
       "    <tr style=\"text-align: right;\">\n",
       "      <th></th>\n",
       "      <th>Artist</th>\n",
       "      <th>Title</th>\n",
       "      <th>Year</th>\n",
       "      <th>Lyric</th>\n",
       "      <th>Rank</th>\n",
       "    </tr>\n",
       "  </thead>\n",
       "  <tbody>\n",
       "    <tr>\n",
       "      <th>92</th>\n",
       "      <td>Olivia Newton-John</td>\n",
       "      <td>Physical</td>\n",
       "      <td>1981</td>\n",
       "      <td>I'm saying all the things that I know you'll l...</td>\n",
       "      <td>8</td>\n",
       "    </tr>\n",
       "    <tr>\n",
       "      <th>91</th>\n",
       "      <td>Debby Boone</td>\n",
       "      <td>You Light Up My Life</td>\n",
       "      <td>1977</td>\n",
       "      <td>So many nights I'd sit by my window\\nWaiting f...</td>\n",
       "      <td>9</td>\n",
       "    </tr>\n",
       "    <tr>\n",
       "      <th>86</th>\n",
       "      <td>Kim Carnes</td>\n",
       "      <td>Bette Davis Eyes</td>\n",
       "      <td>1981</td>\n",
       "      <td>Her hair is Harlowe gold\\r\\nHer lips sweet sur...</td>\n",
       "      <td>14</td>\n",
       "    </tr>\n",
       "    <tr>\n",
       "      <th>85</th>\n",
       "      <td>Diana Ross &amp; Lionel Richie</td>\n",
       "      <td>Endless Love</td>\n",
       "      <td>1981</td>\n",
       "      <td>My love\\nThere's only you in my life\\nThe only...</td>\n",
       "      <td>15</td>\n",
       "    </tr>\n",
       "    <tr>\n",
       "      <th>84</th>\n",
       "      <td>Rod Stewart</td>\n",
       "      <td>Tonight's the Night (Gonna Be Alright)</td>\n",
       "      <td>1976</td>\n",
       "      <td>Stay away from my window\\nStay away from my ba...</td>\n",
       "      <td>16</td>\n",
       "    </tr>\n",
       "  </tbody>\n",
       "</table>\n",
       "</div>"
      ],
      "text/plain": [
       "                        Artist                                   Title  Year  \\\n",
       "92          Olivia Newton-John                                Physical  1981   \n",
       "91                 Debby Boone                    You Light Up My Life  1977   \n",
       "86                  Kim Carnes                        Bette Davis Eyes  1981   \n",
       "85  Diana Ross & Lionel Richie                            Endless Love  1981   \n",
       "84                 Rod Stewart  Tonight's the Night (Gonna Be Alright)  1976   \n",
       "\n",
       "                                                Lyric  Rank  \n",
       "92  I'm saying all the things that I know you'll l...     8  \n",
       "91  So many nights I'd sit by my window\\nWaiting f...     9  \n",
       "86  Her hair is Harlowe gold\\r\\nHer lips sweet sur...    14  \n",
       "85  My love\\nThere's only you in my life\\nThe only...    15  \n",
       "84  Stay away from my window\\nStay away from my ba...    16  "
      ]
     },
     "execution_count": 39,
     "metadata": {},
     "output_type": "execute_result"
    }
   ],
   "source": [
    "peak_70_80 = main_df[(main_df[\"Year\"] > 1975) & (main_df[\"Year\"] < 1984)].sort_values(by=\"Rank\")\n",
    "peak_70_80.head()"
   ]
  },
  {
   "cell_type": "code",
   "execution_count": 41,
   "metadata": {
    "collapsed": false
   },
   "outputs": [
    {
     "data": {
      "image/png": "[encoded data removed]",
      "text/plain": [
       "<matplotlib.figure.Figure at 0xb957390>"
      ]
     },
     "metadata": {},
     "output_type": "display_data"
    }
   ],
   "source": [
    "plt.hist(peak_70_80[\"Rank\"], bins = 10)\n",
    "plt.xlabel(\"Rank\")\n",
    "plt.ylabel(\"Frequency\")\n",
    "plt.title(\"Actual Rankings from the Peak Era in late 1970s-early 1980s\")\n",
    "plt.show()"
   ]
  },
  {
   "cell_type": "markdown",
   "metadata": {},
   "source": [
    "This answers the last question. We can see that there is not a noticeable skew in the data. This could mean that yes, there were a lot of all-time popular songs during these eras, and these songs performed typically like how the rest of the distribution, with roughly even numbers throughout. We <b>cannot</b> say that \n",
    "* <i>Hypothesis 1:</i> The songs from this era had high quantity but had very mediocre/lower ranked songs (quantity > quality), nor the opposite --\n",
    "* <i>Hypothesis 2:</i> America went through a music revolution and released a bunch of top hit singles of all time during this period."
   ]
  },
  {
   "cell_type": "markdown",
   "metadata": {},
   "source": [
    "<h2>Frequencies and Popularities</h2>\n",
    "<p>Now I will try to create a modified plot to capture frequencies, balanced with the Billboard rank performance."
   ]
  },
  {
   "cell_type": "code",
   "execution_count": 44,
   "metadata": {
    "collapsed": false
   },
   "outputs": [
    {
     "data": {
      "text/plain": [
       "1982    6\n",
       "1980    5\n",
       "1983    5\n",
       "1997    5\n",
       "2012    4\n",
       "Name: Year, dtype: int64"
      ]
     },
     "execution_count": 44,
     "metadata": {},
     "output_type": "execute_result"
    }
   ],
   "source": [
    "freqs = main_df[\"Year\"].value_counts()\n",
    "freqs.head()"
   ]
  },
  {
   "cell_type": "code",
   "execution_count": 56,
   "metadata": {
    "collapsed": false
   },
   "outputs": [
    {
     "data": {
      "text/plain": [
       "array([  9.6,   9.7,   9.8,   9.9,  10. ])"
      ]
     },
     "execution_count": 56,
     "metadata": {},
     "output_type": "execute_result"
    }
   ],
   "source": [
    "import numpy as np\n",
    "\n",
    "rank_boost = np.arange(1, 101)\n",
    "rank_boost = rank_boost * 0.10\n",
    "rank_boost[95:]"
   ]
  },
  {
   "cell_type": "code",
   "execution_count": 62,
   "metadata": {
    "collapsed": false
   },
   "outputs": [
    {
     "data": {
      "text/html": [
       "<div>\n",
       "<table border=\"1\" class=\"dataframe\">\n",
       "  <thead>\n",
       "    <tr style=\"text-align: right;\">\n",
       "      <th></th>\n",
       "      <th>Year</th>\n",
       "      <th>0</th>\n",
       "    </tr>\n",
       "  </thead>\n",
       "  <tbody>\n",
       "    <tr>\n",
       "      <th>0</th>\n",
       "      <td>1997</td>\n",
       "      <td>0.1</td>\n",
       "    </tr>\n",
       "    <tr>\n",
       "      <th>1</th>\n",
       "      <td>2012</td>\n",
       "      <td>0.2</td>\n",
       "    </tr>\n",
       "    <tr>\n",
       "      <th>2</th>\n",
       "      <td>1977</td>\n",
       "      <td>0.3</td>\n",
       "    </tr>\n",
       "    <tr>\n",
       "      <th>3</th>\n",
       "      <td>2012</td>\n",
       "      <td>0.4</td>\n",
       "    </tr>\n",
       "    <tr>\n",
       "      <th>4</th>\n",
       "      <td>1989</td>\n",
       "      <td>0.5</td>\n",
       "    </tr>\n",
       "  </tbody>\n",
       "</table>\n",
       "</div>"
      ],
      "text/plain": [
       "   Year    0\n",
       "0  1997  0.1\n",
       "1  2012  0.2\n",
       "2  1977  0.3\n",
       "3  2012  0.4\n",
       "4  1989  0.5"
      ]
     },
     "execution_count": 62,
     "metadata": {},
     "output_type": "execute_result"
    }
   ],
   "source": [
    "frq_df = pd.concat([main_df[\"Year\"], pd.Series(rank_boost)], axis = 1)\n",
    "frq_df.head()"
   ]
  },
  {
   "cell_type": "code",
   "execution_count": 70,
   "metadata": {
    "collapsed": false
   },
   "outputs": [
    {
     "data": {
      "text/html": [
       "<div>\n",
       "<table border=\"1\" class=\"dataframe\">\n",
       "  <thead>\n",
       "    <tr style=\"text-align: right;\">\n",
       "      <th></th>\n",
       "      <th>Year</th>\n",
       "      <th>Boost Value</th>\n",
       "    </tr>\n",
       "  </thead>\n",
       "  <tbody>\n",
       "    <tr>\n",
       "      <th>0</th>\n",
       "      <td>1958</td>\n",
       "      <td>5.8</td>\n",
       "    </tr>\n",
       "    <tr>\n",
       "      <th>1</th>\n",
       "      <td>1959</td>\n",
       "      <td>16.6</td>\n",
       "    </tr>\n",
       "    <tr>\n",
       "      <th>2</th>\n",
       "      <td>1960</td>\n",
       "      <td>19.1</td>\n",
       "    </tr>\n",
       "    <tr>\n",
       "      <th>3</th>\n",
       "      <td>1961</td>\n",
       "      <td>6.9</td>\n",
       "    </tr>\n",
       "    <tr>\n",
       "      <th>4</th>\n",
       "      <td>1964</td>\n",
       "      <td>5.7</td>\n",
       "    </tr>\n",
       "  </tbody>\n",
       "</table>\n",
       "</div>"
      ],
      "text/plain": [
       "   Year  Boost Value\n",
       "0  1958          5.8\n",
       "1  1959         16.6\n",
       "2  1960         19.1\n",
       "3  1961          6.9\n",
       "4  1964          5.7"
      ]
     },
     "execution_count": 70,
     "metadata": {},
     "output_type": "execute_result"
    }
   ],
   "source": [
    "unique_years = frq_df[\"Year\"].unique()\n",
    "sum_boosts = {}\n",
    "\n",
    "for year in frq_df[\"Year\"].unique():\n",
    "    entries = frq_df[frq_df[\"Year\"] == year]\n",
    "    sum_boosts[year] = sum(entries.iloc[:,1])\n",
    "\n",
    "asd = pd.DataFrame(sum_boosts.items(), columns=['Year', 'Boost Value'])\n",
    "asd.head()"
   ]
  },
  {
   "cell_type": "code",
   "execution_count": 74,
   "metadata": {
    "collapsed": false
   },
   "outputs": [
    {
     "data": {
      "image/png": "[encoded data removed]",
      "text/plain": [
       "<matplotlib.figure.Figure at 0x67849e8>"
      ]
     },
     "metadata": {},
     "output_type": "display_data"
    }
   ],
   "source": [
    "plt.plot(asd[\"Year\"], asd[\"Boost Value\"], '-')\n",
    "plt.xlabel(\"Year\")\n",
    "plt.ylabel(\"Score\")\n",
    "plt.title(\"Ranking and Frequencies over the Years\")\n",
    "plt.show()"
   ]
  },
  {
   "cell_type": "markdown",
   "metadata": {},
   "source": [
    "<p><h2>Artists</h2>"
   ]
  },
  {
   "cell_type": "code",
   "execution_count": 76,
   "metadata": {
    "collapsed": false
   },
   "outputs": [
    {
     "data": {
      "text/plain": [
       "93"
      ]
     },
     "execution_count": 76,
     "metadata": {},
     "output_type": "execute_result"
    }
   ],
   "source": [
    "# number of unique artists\n",
    "len(main_df[\"Artist\"].unique())"
   ]
  },
  {
   "cell_type": "code",
   "execution_count": 78,
   "metadata": {
    "collapsed": false
   },
   "outputs": [
    {
     "data": {
      "text/plain": [
       "Bee Gees                                 2\n",
       "Boyz II Men                              2\n",
       "Lionel Richie                            2\n",
       "The Beatles                              2\n",
       "The Black Eyed Peas                      2\n",
       "Marvin Gaye                              2\n",
       "Andy Gibb                                2\n",
       "Olivia Newton-John                       1\n",
       "Diana Ross                               1\n",
       "LMFAO feat. Lauren Bennett & GoonRock    1\n",
       "Name: Artist, dtype: int64"
      ]
     },
     "execution_count": 78,
     "metadata": {},
     "output_type": "execute_result"
    }
   ],
   "source": [
    "main_df[\"Artist\"].value_counts().head(10)"
   ]
  },
  {
   "cell_type": "markdown",
   "metadata": {},
   "source": [
    "There are not many duplicate entries by artists on this ultimate 100 list. The maximum repeat by an artist is 2. There are only 7 repeat artists."
   ]
  }
 ],
 "metadata": {
  "anaconda-cloud": {},
  "kernelspec": {
   "display_name": "Python [default]",
   "language": "python",
   "name": "python2"
  },
  "language_info": {
   "codemirror_mode": {
    "name": "ipython",
    "version": 2
   },
   "file_extension": ".py",
   "mimetype": "text/x-python",
   "name": "python",
   "nbconvert_exporter": "python",
   "pygments_lexer": "ipython2",
   "version": "2.7.12"
  }
 },
 "nbformat": 4,
 "nbformat_minor": 1
}
